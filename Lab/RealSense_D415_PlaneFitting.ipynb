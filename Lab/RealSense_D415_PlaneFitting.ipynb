{
 "cells": [
  {
   "cell_type": "code",
   "execution_count": 1,
   "metadata": {},
   "outputs": [
    {
     "data": {
      "text/html": [
       "<script>requirejs.config({paths: { 'plotly': ['https://cdn.plot.ly/plotly-latest.min']},});if(!window.Plotly) {{require(['plotly'],function(plotly) {window.Plotly=plotly;});}}</script>"
      ],
      "text/vnd.plotly.v1+html": [
       "<script>requirejs.config({paths: { 'plotly': ['https://cdn.plot.ly/plotly-latest.min']},});if(!window.Plotly) {{require(['plotly'],function(plotly) {window.Plotly=plotly;});}}</script>"
      ]
     },
     "metadata": {},
     "output_type": "display_data"
    }
   ],
   "source": [
    "import copy\n",
    "import itertools\n",
    "\n",
    "import numpy as np\n",
    "import plotly.offline as pty\n",
    "import plotly.graph_objs as ptygo\n",
    "import plotly.grid_objs as ptygr\n",
    "import plotly.tools as ptytools\n",
    "import scipy.stats as st\n",
    "\n",
    "import FilterPointCloud\n",
    "import ProcessPlanePointCloud\n",
    "import PLYObject\n",
    "\n",
    "pty.init_notebook_mode(connected=True)"
   ]
  },
  {
   "cell_type": "code",
   "execution_count": 2,
   "metadata": {
    "scrolled": true
   },
   "outputs": [
    {
     "name": "stdout",
     "output_type": "stream",
     "text": [
      "Processing folder RealSense-D415-Plane-0.5m-1280x720-6-Laser\n",
      "Filters: []\n",
      "n = 4\n",
      "e = [0.0012727441725343069, 0.0011975694788142934, 0.001200603294609284, 0.0011872591992506108]\n",
      "d = [3599376.6029609237, 3673032.5532996035, 3674125.839804696, 3689355.2219764628]\n",
      "\n",
      "Processing folder RealSense-D415-Plane-0.5m-640x480-6-Laser\n",
      "Filters: []\n",
      "n = 5\n",
      "e = [0.0009796294877777807, 0.0009964415052368704, 0.0009896044632177158, 0.0009927092335213228, 0.0009845015563823933]\n",
      "d = [1620227.3215344031, 1625838.3447183669, 1625583.8324894577, 1623391.8987467757, 1626158.7817603657]\n",
      "\n",
      "Processing folder RealSense-D415-Plane-1.0m-1280x720-6-Laser\n",
      "Filters: []\n",
      "n = 5\n",
      "e = [0.0041715402004331575, 0.003960588613275213, 0.003925371021466092, 0.0038850489694291007, 0.003886084727029298]\n",
      "d = [871253.1860653976, 869398.9870511622, 866467.4519292689, 866021.1612865492, 870413.958580604]\n",
      "\n",
      "Processing folder RealSense-D415-Plane-1.0m-640x480-6-Laser\n",
      "Filters: []\n",
      "n = 5\n",
      "e = [0.0022913458993115625, 0.002204437930725687, 0.0022464650645967884, 0.0022052901334947946, 0.0022159834786499716]\n",
      "d = [395881.40508361795, 397576.4643499517, 396736.4210897927, 396631.2521819326, 397444.81923490315]\n",
      "\n",
      "Processing folder RealSense-D415-Plane-2.5m-1280x720-6-Laser\n",
      "Filters: [X<1.1447, Y<0.5800]\n",
      "n = 5\n",
      "e = [0.03347145248456836, 0.036362413812798665, 0.03611598563742738, 0.03598455768033795, 0.03641155581813569]\n",
      "d = [141874.3937407828, 141847.97559731765, 140490.64170186187, 142613.5562132298, 141400.02117431784]\n",
      "\n",
      "Processing folder RealSense-D415-Plane-2.5m-640x480-6-Laser\n",
      "Filters: [X<1.1447, Y<0.5800]\n",
      "n = 5\n",
      "e = [0.01364376036158166, 0.017320393141856717, 0.018817222793209284, 0.017298306155505996, 0.017838254518429447]\n",
      "d = [61522.16526210333, 60256.73980071734, 60084.75840815301, 60360.880664712175, 60329.161088586436]\n",
      "\n"
     ]
    }
   ],
   "source": [
    "pcDataNear01 = ProcessPlanePointCloud.main('RealSense-D415-Data-01-Near/Laser/', {\n",
    "    2.5: [\n",
    "        'x<1.1447',\n",
    "        'y<0.58',\n",
    "    ]\n",
    "})\n",
    "%store pcDataNear01"
   ]
  },
  {
   "cell_type": "code",
   "execution_count": 3,
   "metadata": {},
   "outputs": [
    {
     "name": "stdout",
     "output_type": "stream",
     "text": [
      "Processing folder RealSense-D415-Plane-0.5m-1280x720-6-Laser\n",
      "Filters: []\n",
      "n = 10\n",
      "e = [0.0013949283153972532, 0.001425566796318968, 0.001432541879362279, 0.0014249105180535319, 0.0014376541124277438, 0.0014199190927026927, 0.0014235287504002284, 0.001417972333326971, 0.0014206605833859156, 0.0014177412176614428]\n",
      "d = [3356355.665514503, 3405366.256603241, 3382880.305630357, 3396178.837125614, 3390912.9996983022, 3393509.276302911, 3405477.7994173346, 3386404.7944175247, 3390380.0750470236, 3395075.5521767964]\n",
      "\n",
      "Processing folder RealSense-D415-Plane-0.5m-424x240-6-Laser\n",
      "Filters: []\n",
      "n = 10\n",
      "e = [0.0011942174704500804, 0.0011666438089070988, 0.001156463877296269, 0.0011361359446997181, 0.0011375163845806955, 0.0011248273111395574, 0.0011350269871260679, 0.0011445629940927402, 0.0011324202834608076, 0.0011203401575615932]\n",
      "d = [382867.725027025, 383337.8710544056, 383505.12333441636, 383339.09719899157, 382607.28795398225, 383328.1837409185, 383189.1568733527, 383657.00266254967, 383155.5853490548, 382669.11342665856]\n",
      "\n",
      "Processing folder RealSense-D415-Plane-0.5m-640x480-6-Laser\n",
      "Filters: []\n",
      "n = 10\n",
      "e = [0.0013330281924629804, 0.0011524108155408362, 0.0011172290479793197, 0.0010958244320719388, 0.0010902706139000184, 0.001126085403482833, 0.0011474801051876598, 0.0011438831898746974, 0.0011637216807921919, 0.0011535792314269883]\n",
      "d = [1507689.329621702, 1528576.487865227, 1528908.905152905, 1526683.9947769449, 1528432.7692990315, 1512564.245512215, 1518968.02168682, 1507582.439432488, 1514140.8207210014, 1502269.210617376]\n",
      "\n",
      "Processing folder RealSense-D415-Plane-1.0m-1280x720-6-Laser\n",
      "Filters: []\n",
      "n = 10\n",
      "e = [0.004414422054680509, 0.004420057830297544, 0.004425558835506731, 0.004445507057217791, 0.004431459848800351, 0.004413936637883159, 0.004415048540655818, 0.00447748104325567, 0.004399196933765504, 0.004413957034475469]\n",
      "d = [849520.8378173416, 846740.799393684, 840188.6498559902, 843688.2031498334, 844237.7625679604, 847466.3551674949, 845994.5951664278, 847200.2289878036, 846650.0805158436, 839122.3508571176]\n",
      "\n",
      "Processing folder RealSense-D415-Plane-1.0m-424x240-6-Laser\n",
      "Filters: []\n",
      "n = 10\n",
      "e = [0.0033603524419243544, 0.0032509545930736283, 0.003299114594988308, 0.0032741455186630873, 0.0032574521185404774, 0.0032469404803027128, 0.0032564102219892204, 0.003257869364604947, 0.003262439119012991, 0.003235440988996804]\n",
      "d = [95807.80166122579, 95829.94339364323, 95815.13577767264, 95910.26156416073, 95867.7937476983, 95869.86500698396, 95830.55835915983, 95874.23665289384, 95944.59223037997, 95912.09620080338]\n",
      "\n",
      "Processing folder RealSense-D415-Plane-1.0m-640x480-6-Laser\n",
      "Filters: []\n",
      "n = 10\n",
      "e = [0.004098703734566758, 0.003582010519246185, 0.0034977014941019804, 0.0034720138570633417, 0.003441301409403261, 0.0034774802946140214, 0.003482850699409962, 0.0034656401629254473, 0.003457445353748804, 0.003446629105541035]\n",
      "d = [381879.18387207587, 383595.81413775985, 383197.16845759976, 383295.3023223421, 383390.62989234214, 383222.38674018387, 383072.93001097045, 383381.69458444417, 383431.78628841526, 382864.33909084246]\n",
      "\n",
      "Processing folder RealSense-D415-Plane-1.5m-1280x720-6-Laser\n",
      "Filters: []\n",
      "n = 10\n",
      "e = [0.00783467046597704, 0.0075236865303580786, 0.007475451118229768, 0.007541701768950771, 0.007405604781808245, 0.007419851077482938, 0.007401243298121621, 0.007498247215684149, 0.00753333525272484, 0.007409231456613836]\n",
      "d = [366105.45961596095, 363421.2722882253, 365524.75815178076, 366200.15169645107, 365387.5898983294, 366424.0701206192, 363548.8463769225, 367898.2459113141, 363905.21402381087, 362610.5424046804]\n",
      "\n",
      "Processing folder RealSense-D415-Plane-1.5m-424x240-6-Laser\n",
      "Filters: []\n",
      "n = 10\n",
      "e = [0.009943983948088464, 0.008276441917034121, 0.007865057366295364, 0.0072922894546121764, 0.0074238246806723985, 0.007430175654424967, 0.007617406521076286, 0.007746775242265831, 0.012569520522479689, 0.013480078536796072]\n",
      "d = [41690.29578100889, 41878.390368630244, 41608.87674497518, 41760.46512699579, 41379.1004830296, 41522.44892254527, 41348.54539638586, 41685.75062173378, 39574.13779456151, 38867.29332112766]\n",
      "\n",
      "Processing folder RealSense-D415-Plane-1.5m-640x480-6-Laser\n",
      "Filters: []\n",
      "n = 10\n",
      "e = [0.005492034418393175, 0.005268973776674191, 0.005259820733177019, 0.005438109340201626, 0.005204294288549692, 0.00480477116514915, 0.005335768392912151, 0.005379338685013198, 0.005320498134175666, 0.0053573444009121125]\n",
      "d = [169699.27769558254, 168801.78251012275, 168732.22775356515, 167822.94135312433, 167964.39383555425, 169687.62675945548, 169577.756099276, 169373.60124903554, 169457.41767280703, 169425.02076922977]\n",
      "\n",
      "Processing folder RealSense-D415-Plane-2.0m-1280x720-6-Laser\n",
      "Filters: [X>-1.0300, X<1.2600]\n",
      "n = 10\n",
      "e = [0.013910824378298414, 0.016023055354690664, 0.016007206364273264, 0.016342040845092838, 0.017213273345389826, 0.01653790528363666, 0.01633827189153628, 0.016401003538711996, 0.016623104459690487, 0.01723651339579936]\n",
      "d = [215637.28662076296, 212791.17841026958, 210944.56837491147, 212311.63790111075, 210678.13191706038, 213329.1069584961, 211142.02148384103, 209357.37295507008, 211974.41199837602, 212436.4472692771]\n",
      "\n",
      "Processing folder RealSense-D415-Plane-2.0m-424x240-6-Laser\n",
      "Filters: [X>-1.0300, X<1.2600]\n",
      "n = 10\n",
      "e = [0.01467502726573673, 0.017886476698233178, 0.01847048757483609, 0.018710108469624297, 0.018551090613081158, 0.018668494603975985, 0.018701498669660525, 0.01864737428140208, 0.01835537596379848, 0.01875049149131034]\n",
      "d = [24578.297621407954, 24152.541419382684, 24107.86072874006, 24114.24433703719, 24110.69072158182, 24012.884613743932, 24012.143288705833, 24066.15149604621, 24073.265536823852, 23966.46284186659]\n",
      "\n",
      "Processing folder RealSense-D415-Plane-2.0m-640x480-6-Laser\n",
      "Filters: [X>-1.0300, X<1.2600]\n",
      "n = 10\n",
      "e = [0.008718867745621178, 0.008796627222478145, 0.008771050222669722, 0.008767713195237689, 0.00894527024128528, 0.008883648370564396, 0.008880570327992656, 0.008780319774088455, 0.008728873221324993, 0.008606642331927854]\n",
      "d = [94376.71808238079, 93795.37566571849, 93836.71477652177, 93551.82902847826, 93609.98694159274, 93472.54806953875, 93415.32360278089, 93451.1552936177, 93468.5535355909, 93569.76761389032]\n",
      "\n",
      "Processing folder RealSense-D415-Plane-2.5m-1280x720-6-Laser\n",
      "Filters: [X>-0.7188, X<1.2600, Y>-0.8800]\n",
      "n = 10\n",
      "e = [0.023868346638987455, 0.02496636237780423, 0.024556001545761805, 0.02478168344724416, 0.024906011840504325, 0.024245921320601663, 0.02376452148984202, 0.02430461502353032, 0.024041355194443583, 0.02476707834626952]\n",
      "d = [137028.80867441816, 136467.5431071716, 134592.40469705837, 133830.41412677648, 135174.7771714126, 134358.5095789453, 135045.25532190752, 135607.8405520614, 134309.60305391505, 135253.37139043436]\n",
      "\n",
      "Processing folder RealSense-D415-Plane-2.5m-424x240-6-Laser\n",
      "Filters: [X>-0.7188, X<1.2600, Y>-0.8800]\n",
      "n = 10\n",
      "e = [0.010474929959244936, 0.01184496611874736, 0.0446941442232627, 0.04396557338714211, 0.047368071476885903, 0.04600030203875667, 0.046589517063916036, 0.045512977912089934, 0.04396458292939172, 0.04404438740593886]\n",
      "d = [15617.535807144628, 15458.591275728339, 13788.289276977184, 13609.066172610801, 13472.374672999453, 13677.31773870243, 13491.438826702806, 14275.868154825872, 12338.007400832152, 13596.396640135341]\n",
      "\n",
      "Processing folder RealSense-D415-Plane-2.5m-640x480-6-Laser\n",
      "Filters: [X>-0.7188, X<1.2600, Y>-0.8800]\n",
      "n = 10\n",
      "e = [0.015205439623215551, 0.021952076038422974, 0.021433132335000975, 0.02261600954619414, 0.022568713913994128, 0.02183256767585374, 0.022710458889696652, 0.021447457408120808, 0.022360753888507532, 0.021978484061005537]\n",
      "d = [61722.56046621128, 60087.83600126055, 59832.12279300001, 60686.7386123865, 60440.595166337785, 60410.310670437095, 60827.798337627595, 60531.248273178266, 59696.763584734224, 60513.9747281842]\n",
      "\n"
     ]
    }
   ],
   "source": [
    "pcDataNear02 = ProcessPlanePointCloud.main('RealSense-D415-Data-02-Near/Laser', {\n",
    "    2.0: [\n",
    "        'x>-1.03',\n",
    "        'x<1.26',\n",
    "    ],\n",
    "    2.5: [\n",
    "        'x>-0.7188',\n",
    "        'x<1.26',\n",
    "        'y>-0.88',\n",
    "    ],\n",
    "})\n",
    "%store pcDataNear02"
   ]
  },
  {
   "cell_type": "code",
   "execution_count": 4,
   "metadata": {
    "scrolled": true
   },
   "outputs": [
    {
     "name": "stdout",
     "output_type": "stream",
     "text": [
      "Processing folder RealSense-D415-Plane-10.0m-1280x720-6-Laser\n",
      "Filters: []\n",
      "n = 10\n",
      "e = [0.7733971665358543, 0.7758108570143196, 0.7830814561337377, 0.7923683657222009, 0.7839632170602483, 0.7855448405507924, 0.7853720224561366, 0.7767919847478462, 0.7825229903299087, 0.7736641785985531]\n",
      "d = [20981.640723617154, 20374.789610638698, 19301.10248679749, 18839.68692918587, 19084.297434378634, 19184.23580579032, 20708.81557930165, 19408.495868250728, 19414.605668587974, 19207.56859854201]\n",
      "\n",
      "Processing folder RealSense-D415-Plane-10.0m-640x480-6-Laser\n",
      "Filters: []\n",
      "n = 10\n",
      "e = [0.919169557692313, 0.9499383241102616, 0.9621017537727948, 0.9469336677204843, 0.9484019708193643, 0.9422536551208209, 0.9329513486091747, 0.9219179395322048, 0.9374797912446827, 0.9405382708988239]\n",
      "d = [8351.035411397033, 7967.383199581594, 8165.103794851284, 8245.882019558361, 7718.724939658396, 7839.189954871932, 7502.4175724122215, 8248.3778675438, 7951.451616431892, 7460.448372138121]\n",
      "\n",
      "Processing folder RealSense-D415-Plane-5.0m-1280x720-6-Laser\n",
      "Filters: []\n",
      "n = 10\n",
      "e = [0.7102066960044886, 0.7224816753431124, 0.7204571319124745, 0.720317272141004, 0.7207930970662757, 0.7223186257068209, 0.718509355099424, 0.7215924035072396, 0.721164956682851, 0.7209828904071638]\n",
      "d = [24503.47561614945, 23569.768998763706, 23207.754660452265, 23520.2248275621, 23493.85970491713, 23852.32571169225, 24088.986613690253, 22421.41530632208, 24209.24889025488, 23325.884175489664]\n",
      "\n",
      "Processing folder RealSense-D415-Plane-5.0m-640x480-6-Laser\n",
      "Filters: []\n",
      "n = 10\n",
      "e = [0.5947494396325587, 0.591404589181493, 0.5930980775580149, 0.5948534303288081, 0.5940012556335142, 0.5971966122359763, 0.5959183085646644, 0.5945551706850426, 0.5953770555437746, 0.5931307542819243]\n",
      "d = [8805.752423748048, 8651.876609894915, 8584.586103784643, 8849.552030714343, 8644.932868043063, 8767.574858183703, 8598.484796998102, 8496.678823032413, 8541.956058632057, 8636.668783032044]\n",
      "\n",
      "Processing folder RealSense-D415-Plane-7.5m-1280x720-6-Laser\n",
      "Filters: []\n",
      "n = 10\n",
      "e = [0.7595375749995616, 0.7614435132357609, 0.7643837569287736, 0.7624127453657806, 0.7595187332723025, 0.7537714719347397, 0.7628069960400893, 0.7630589879526859, 0.7672208940362197, 0.7651858267577524]\n",
      "d = [24145.49240905493, 23516.93571733531, 23362.77178110051, 32188.282883028187, 32431.636319502988, 31083.834279081486, 21293.06165819348, 31872.38540919066, 22348.1242268948, 32109.096297105138]\n",
      "\n",
      "Processing folder RealSense-D415-Plane-7.5m-640x480-6-Laser\n",
      "Filters: []\n",
      "n = 10\n",
      "e = [0.9047100480286756, 0.9273612749054785, 0.9220864950960145, 0.9188476241296799, 0.9262977807164303, 0.9216365214498083, 0.9292269993811852, 0.928112435963581, 0.9174962190880265, 0.9206428304416868]\n",
      "d = [6089.2880085521, 6050.621045996202, 5968.682658801011, 7636.244734537519, 5714.507216638254, 5785.041262947932, 5719.231556797527, 8084.826608888656, 7785.750446174063, 5940.615842462913]\n",
      "\n"
     ]
    }
   ],
   "source": [
    "pcDataFar02 = ProcessPlanePointCloud.main('RealSense-D415-Data-02-Far/Laser', {})\n",
    "%store pcDataFar02"
   ]
  },
  {
   "cell_type": "code",
   "execution_count": 5,
   "metadata": {},
   "outputs": [],
   "source": [
    "def ptyColorMap(names):\n",
    "    ptyColors = itertools.cycle(reversed(ptytools.DEFAULT_PLOTLY_COLORS))\n",
    "\n",
    "    return dict(zip(names, ptyColors))"
   ]
  },
  {
   "cell_type": "code",
   "execution_count": 6,
   "metadata": {},
   "outputs": [],
   "source": [
    "def createGraphObjectsFromPlaneData(data):\n",
    "    goData = {}\n",
    "    layoutData = {}\n",
    "    \n",
    "    colorMap = ptyColorMap(data.keys())\n",
    "    \n",
    "    measurandMap = {\n",
    "        #'planeFitError': {\n",
    "        #    'xaxis': {\n",
    "        #        'title': 'Distance [m]',\n",
    "        #    },\n",
    "        #    'yaxis': {\n",
    "        #        'title': 'Error [mm]',\n",
    "        #    },\n",
    "        #    'title': 'Plane Fit Error',\n",
    "        #},\n",
    "        'planeFitErrorStd': {\n",
    "            'xaxis': {\n",
    "                'title': 'Distance [m]',\n",
    "            },\n",
    "            'yaxis': {\n",
    "                'title': 'Error STD [mm]',\n",
    "                'range': [0, 7.3],\n",
    "            },\n",
    "            'title': 'Plane Fit Error Standard Deviation',\n",
    "            'factor': 100,\n",
    "        },\n",
    "        'pointDensity': {\n",
    "            'xaxis': {\n",
    "                'title': 'Distance [m]',\n",
    "            },\n",
    "            'yaxis': {\n",
    "                'title': 'Point Density [p / m²]',\n",
    "                'tickformat': ',d',\n",
    "                'hoverformat': ',.2f',\n",
    "            },\n",
    "            'title': 'Point Density',\n",
    "            'factor': 1,\n",
    "        },\n",
    "    }\n",
    "    \n",
    "    resolutions = [*map(lambda res: 'x'.join([*map(str, res)]), sorted(map(lambda res: [*map(int, res.split('x'))], data.keys()), reverse=True))]\n",
    "    \n",
    "    for res in resolutions:\n",
    "        showlegend = True\n",
    "        \n",
    "        for measurand in data[res]:\n",
    "            if measurand not in measurandMap:\n",
    "                continue\n",
    "            \n",
    "            distances = sorted(data[res][measurand].keys())\n",
    "            errors = [np.array(data[res][measurand][dist]) * measurandMap[measurand]['factor'] for dist in distances]\n",
    "            \n",
    "            go = ptygo.Scatter(\n",
    "                x=distances,\n",
    "                y=[errorMeasurand.mean() for errorMeasurand in errors],\n",
    "                error_y=dict(\n",
    "                    type='data',\n",
    "                    visible=True,\n",
    "                    symmetric=True,\n",
    "                    array=np.abs(np.array([st.t.interval(0.95, errorMeasurand.shape[0]-1, loc=0, scale=st.sem(errorMeasurand)) for errorMeasurand in errors])[:, 0]),\n",
    "                    color=colorMap[res],\n",
    "                ),\n",
    "                name=res,\n",
    "                legendgroup=res,\n",
    "                showlegend=showlegend,\n",
    "                line=dict(\n",
    "                    color=colorMap[res],\n",
    "                ),\n",
    "            )\n",
    "            \n",
    "            if measurand not in goData:\n",
    "                goData[measurand] = []\n",
    "            \n",
    "            goData[measurand].append(go)\n",
    "            showlegend = False\n",
    "            \n",
    "            layoutData[measurand] = copy.deepcopy(measurandMap[measurand])\n",
    "            \n",
    "            if 'range' in layoutData[measurand]['yaxis']:\n",
    "                layoutData[measurand]['yaxis']['range'][0] = min(0, *[data.min() for data in errors])\n",
    "                layoutData[measurand]['yaxis']['range'][1] = max(7.3, *[data.max() for data in errors])\n",
    "    \n",
    "    return goData, layoutData"
   ]
  },
  {
   "cell_type": "code",
   "execution_count": 7,
   "metadata": {},
   "outputs": [],
   "source": [
    "def plotPlaneData(data, title):\n",
    "    go, lay = createGraphObjectsFromPlaneData(data)\n",
    "    goKeys = [*go.keys()]\n",
    "    rows = int(np.floor(np.sqrt(len(go))))\n",
    "    cols = int(np.ceil(np.sqrt(len(go))))\n",
    "    \n",
    "    titles = tuple(lay[goKey]['title'] for goKey in goKeys)\n",
    "    \n",
    "    fig = ptytools.make_subplots(rows=rows, cols=cols, subplot_titles=titles, print_grid=False)\n",
    "    fig['layout']['title'] = title\n",
    "    \n",
    "    for v in range(rows):\n",
    "        for u in range(cols):\n",
    "            i = v * rows + u\n",
    "            \n",
    "            if i >= len(go):\n",
    "                break\n",
    "            \n",
    "            for t in go[goKeys[i]]:\n",
    "                fig.append_trace(t, v + 1, u + 1)\n",
    "            \n",
    "            layout = lay[goKeys[i]]\n",
    "            \n",
    "            if 'xaxis' in layout:\n",
    "                fig['layout']['xaxis{:d}'.format((v+1)*(rows-1)+u+1)].update(layout['xaxis'])\n",
    "            \n",
    "            if 'yaxis' in layout:\n",
    "                fig['layout']['yaxis{:d}'.format((v+1)*(rows-1)+u+1)].update(layout['yaxis'])\n",
    "    \n",
    "    \n",
    "    pty.iplot(fig)"
   ]
  },
  {
   "cell_type": "code",
   "execution_count": 8,
   "metadata": {},
   "outputs": [
    {
     "data": {
      "application/vnd.plotly.v1+json": {
       "data": [
        {
         "error_y": {
          "array": [
           0.006240488375441963,
           0.014804717327717641,
           0.1540964498014607
          ],
          "color": "rgb(31, 119, 180)",
          "symmetric": true,
          "type": "data",
          "visible": true
         },
         "legendgroup": "1280x720",
         "line": {
          "color": "rgb(31, 119, 180)"
         },
         "name": "1280x720",
         "showlegend": true,
         "type": "scatter",
         "x": [
          0.5,
          1,
          2.5
         ],
         "xaxis": "x1",
         "y": [
          0.12145440363021238,
          0.3965726706326572,
          3.5669193086653608
         ],
         "yaxis": "y1"
        },
        {
         "error_y": {
          "array": [
           0.0008251431657713252,
           0.0045867284206411695,
           0.24410309958149934
          ],
          "color": "rgb(255, 127, 14)",
          "symmetric": true,
          "type": "data",
          "visible": true
         },
         "legendgroup": "640x480",
         "line": {
          "color": "rgb(255, 127, 14)"
         },
         "name": "640x480",
         "showlegend": true,
         "type": "scatter",
         "x": [
          0.5,
          1,
          2.5
         ],
         "xaxis": "x1",
         "y": [
          0.09885772492272166,
          0.2232704501355761,
          1.6983587394116622
         ],
         "yaxis": "y1"
        },
        {
         "error_y": {
          "array": [
           6432222.841225679,
           291889.06396394543,
           96668.12603076357
          ],
          "color": "rgb(31, 119, 180)",
          "symmetric": true,
          "type": "data",
          "visible": true
         },
         "legendgroup": "1280x720",
         "line": {
          "color": "rgb(31, 119, 180)"
         },
         "name": "1280x720",
         "showlegend": false,
         "type": "scatter",
         "x": [
          0.5,
          1,
          2.5
         ],
         "xaxis": "x2",
         "y": [
          365897255.4510422,
          86871094.89825964,
          14164531.768550199
         ],
         "yaxis": "y2"
        },
        {
         "error_y": {
          "array": [
           309565.4071072525,
           85133.34856612579,
           71446.57538071163
          ],
          "color": "rgb(255, 127, 14)",
          "symmetric": true,
          "type": "data",
          "visible": true
         },
         "legendgroup": "640x480",
         "line": {
          "color": "rgb(255, 127, 14)"
         },
         "name": "640x480",
         "showlegend": false,
         "type": "scatter",
         "x": [
          0.5,
          1,
          2.5
         ],
         "xaxis": "x2",
         "y": [
          162424003.5849874,
          39685407.23880397,
          6051074.104485447
         ],
         "yaxis": "y2"
        }
       ],
       "layout": {
        "annotations": [
         {
          "font": {
           "size": 16
          },
          "showarrow": false,
          "text": "Plane Fit Error",
          "x": 0.225,
          "xanchor": "center",
          "xref": "paper",
          "y": 1,
          "yanchor": "bottom",
          "yref": "paper"
         },
         {
          "font": {
           "size": 16
          },
          "showarrow": false,
          "text": "Point Density",
          "x": 0.775,
          "xanchor": "center",
          "xref": "paper",
          "y": 1,
          "yanchor": "bottom",
          "yref": "paper"
         }
        ],
        "xaxis1": {
         "anchor": "y1",
         "domain": [
          0,
          0.45
         ],
         "title": "Distance [mm]"
        },
        "xaxis2": {
         "anchor": "y2",
         "domain": [
          0.55,
          1
         ],
         "title": "Distance [mm]"
        },
        "yaxis1": {
         "anchor": "x1",
         "domain": [
          0,
          1
         ],
         "title": "Error [m]"
        },
        "yaxis2": {
         "anchor": "x2",
         "domain": [
          0,
          1
         ],
         "title": "Point Density [p / m²]"
        }
       }
      },
      "text/html": [
       "<div id=\"08f30091-f22e-4ee1-b3fb-c65a584dc595\" style=\"height: 525px; width: 100%;\" class=\"plotly-graph-div\"></div><script type=\"text/javascript\">require([\"plotly\"], function(Plotly) { window.PLOTLYENV=window.PLOTLYENV || {};window.PLOTLYENV.BASE_URL=\"https://plot.ly\";Plotly.newPlot(\"08f30091-f22e-4ee1-b3fb-c65a584dc595\", [{\"type\": \"scatter\", \"x\": [0.5, 1.0, 2.5], \"y\": [0.12145440363021238, 0.3965726706326572, 3.5669193086653608], \"error_y\": {\"type\": \"data\", \"visible\": true, \"symmetric\": true, \"array\": [0.006240488375441963, 0.014804717327717641, 0.1540964498014607], \"color\": \"rgb(31, 119, 180)\"}, \"name\": \"1280x720\", \"legendgroup\": \"1280x720\", \"showlegend\": true, \"line\": {\"color\": \"rgb(31, 119, 180)\"}, \"xaxis\": \"x1\", \"yaxis\": \"y1\"}, {\"type\": \"scatter\", \"x\": [0.5, 1.0, 2.5], \"y\": [0.09885772492272166, 0.2232704501355761, 1.6983587394116622], \"error_y\": {\"type\": \"data\", \"visible\": true, \"symmetric\": true, \"array\": [0.0008251431657713252, 0.0045867284206411695, 0.24410309958149934], \"color\": \"rgb(255, 127, 14)\"}, \"name\": \"640x480\", \"legendgroup\": \"640x480\", \"showlegend\": true, \"line\": {\"color\": \"rgb(255, 127, 14)\"}, \"xaxis\": \"x1\", \"yaxis\": \"y1\"}, {\"type\": \"scatter\", \"x\": [0.5, 1.0, 2.5], \"y\": [365897255.4510422, 86871094.89825964, 14164531.768550199], \"error_y\": {\"type\": \"data\", \"visible\": true, \"symmetric\": true, \"array\": [6432222.841225679, 291889.06396394543, 96668.12603076357], \"color\": \"rgb(31, 119, 180)\"}, \"name\": \"1280x720\", \"legendgroup\": \"1280x720\", \"showlegend\": false, \"line\": {\"color\": \"rgb(31, 119, 180)\"}, \"xaxis\": \"x2\", \"yaxis\": \"y2\"}, {\"type\": \"scatter\", \"x\": [0.5, 1.0, 2.5], \"y\": [162424003.5849874, 39685407.23880397, 6051074.104485447], \"error_y\": {\"type\": \"data\", \"visible\": true, \"symmetric\": true, \"array\": [309565.4071072525, 85133.34856612579, 71446.57538071163], \"color\": \"rgb(255, 127, 14)\"}, \"name\": \"640x480\", \"legendgroup\": \"640x480\", \"showlegend\": false, \"line\": {\"color\": \"rgb(255, 127, 14)\"}, \"xaxis\": \"x2\", \"yaxis\": \"y2\"}], {\"xaxis1\": {\"domain\": [0.0, 0.45], \"anchor\": \"y1\", \"title\": \"Distance [mm]\"}, \"yaxis1\": {\"domain\": [0.0, 1.0], \"anchor\": \"x1\", \"title\": \"Error [m]\"}, \"xaxis2\": {\"domain\": [0.55, 1.0], \"anchor\": \"y2\", \"title\": \"Distance [mm]\"}, \"yaxis2\": {\"domain\": [0.0, 1.0], \"anchor\": \"x2\", \"title\": \"Point Density [p / m\\u00b2]\"}, \"annotations\": [{\"y\": 1.0, \"xref\": \"paper\", \"x\": 0.225, \"yref\": \"paper\", \"text\": \"Plane Fit Error\", \"showarrow\": false, \"font\": {\"size\": 16}, \"xanchor\": \"center\", \"yanchor\": \"bottom\"}, {\"y\": 1.0, \"xref\": \"paper\", \"x\": 0.775, \"yref\": \"paper\", \"text\": \"Point Density\", \"showarrow\": false, \"font\": {\"size\": 16}, \"xanchor\": \"center\", \"yanchor\": \"bottom\"}]}, {\"showLink\": true, \"linkText\": \"Export to plot.ly\"})});</script>"
      ],
      "text/vnd.plotly.v1+html": [
       "<div id=\"08f30091-f22e-4ee1-b3fb-c65a584dc595\" style=\"height: 525px; width: 100%;\" class=\"plotly-graph-div\"></div><script type=\"text/javascript\">require([\"plotly\"], function(Plotly) { window.PLOTLYENV=window.PLOTLYENV || {};window.PLOTLYENV.BASE_URL=\"https://plot.ly\";Plotly.newPlot(\"08f30091-f22e-4ee1-b3fb-c65a584dc595\", [{\"type\": \"scatter\", \"x\": [0.5, 1.0, 2.5], \"y\": [0.12145440363021238, 0.3965726706326572, 3.5669193086653608], \"error_y\": {\"type\": \"data\", \"visible\": true, \"symmetric\": true, \"array\": [0.006240488375441963, 0.014804717327717641, 0.1540964498014607], \"color\": \"rgb(31, 119, 180)\"}, \"name\": \"1280x720\", \"legendgroup\": \"1280x720\", \"showlegend\": true, \"line\": {\"color\": \"rgb(31, 119, 180)\"}, \"xaxis\": \"x1\", \"yaxis\": \"y1\"}, {\"type\": \"scatter\", \"x\": [0.5, 1.0, 2.5], \"y\": [0.09885772492272166, 0.2232704501355761, 1.6983587394116622], \"error_y\": {\"type\": \"data\", \"visible\": true, \"symmetric\": true, \"array\": [0.0008251431657713252, 0.0045867284206411695, 0.24410309958149934], \"color\": \"rgb(255, 127, 14)\"}, \"name\": \"640x480\", \"legendgroup\": \"640x480\", \"showlegend\": true, \"line\": {\"color\": \"rgb(255, 127, 14)\"}, \"xaxis\": \"x1\", \"yaxis\": \"y1\"}, {\"type\": \"scatter\", \"x\": [0.5, 1.0, 2.5], \"y\": [365897255.4510422, 86871094.89825964, 14164531.768550199], \"error_y\": {\"type\": \"data\", \"visible\": true, \"symmetric\": true, \"array\": [6432222.841225679, 291889.06396394543, 96668.12603076357], \"color\": \"rgb(31, 119, 180)\"}, \"name\": \"1280x720\", \"legendgroup\": \"1280x720\", \"showlegend\": false, \"line\": {\"color\": \"rgb(31, 119, 180)\"}, \"xaxis\": \"x2\", \"yaxis\": \"y2\"}, {\"type\": \"scatter\", \"x\": [0.5, 1.0, 2.5], \"y\": [162424003.5849874, 39685407.23880397, 6051074.104485447], \"error_y\": {\"type\": \"data\", \"visible\": true, \"symmetric\": true, \"array\": [309565.4071072525, 85133.34856612579, 71446.57538071163], \"color\": \"rgb(255, 127, 14)\"}, \"name\": \"640x480\", \"legendgroup\": \"640x480\", \"showlegend\": false, \"line\": {\"color\": \"rgb(255, 127, 14)\"}, \"xaxis\": \"x2\", \"yaxis\": \"y2\"}], {\"xaxis1\": {\"domain\": [0.0, 0.45], \"anchor\": \"y1\", \"title\": \"Distance [mm]\"}, \"yaxis1\": {\"domain\": [0.0, 1.0], \"anchor\": \"x1\", \"title\": \"Error [m]\"}, \"xaxis2\": {\"domain\": [0.55, 1.0], \"anchor\": \"y2\", \"title\": \"Distance [mm]\"}, \"yaxis2\": {\"domain\": [0.0, 1.0], \"anchor\": \"x2\", \"title\": \"Point Density [p / m\\u00b2]\"}, \"annotations\": [{\"y\": 1.0, \"xref\": \"paper\", \"x\": 0.225, \"yref\": \"paper\", \"text\": \"Plane Fit Error\", \"showarrow\": false, \"font\": {\"size\": 16}, \"xanchor\": \"center\", \"yanchor\": \"bottom\"}, {\"y\": 1.0, \"xref\": \"paper\", \"x\": 0.775, \"yref\": \"paper\", \"text\": \"Point Density\", \"showarrow\": false, \"font\": {\"size\": 16}, \"xanchor\": \"center\", \"yanchor\": \"bottom\"}]}, {\"showLink\": true, \"linkText\": \"Export to plot.ly\"})});</script>"
      ]
     },
     "metadata": {},
     "output_type": "display_data"
    }
   ],
   "source": [
    "%store -r pcDataNear01\n",
    "plotPlaneData(pcDataNear01, 'Plan Fitting Near - Dataset 01')"
   ]
  },
  {
   "cell_type": "code",
   "execution_count": 9,
   "metadata": {
    "scrolled": false
   },
   "outputs": [
    {
     "data": {
      "application/vnd.plotly.v1+json": {
       "data": [
        {
         "error_y": {
          "array": [
           0.0008089748646706603,
           0.001574136311746814,
           0.009209396905023925,
           0.06635098505820053,
           0.03132228865909239
          ],
          "color": "rgb(31, 119, 180)",
          "symmetric": true,
          "type": "data",
          "visible": true
         },
         "legendgroup": "1280x720",
         "line": {
          "color": "rgb(31, 119, 180)"
         },
         "name": "1280x720",
         "showlegend": true,
         "type": "scatter",
         "x": [
          0.5,
          1,
          1.5,
          2,
          2.5
         ],
         "xaxis": "x1",
         "y": [
          0.14215423599037028,
          0.4425662581653855,
          0.7504302296595128,
          1.626331988571198,
          2.4420189722498913
         ],
         "yaxis": "y1"
        },
        {
         "error_y": {
          "array": [
           0.0015869921393275393,
           0.0025752327833641437,
           0.16321331715226636,
           0.08904406331434331,
           1.032315989792806
          ],
          "color": "rgb(255, 127, 14)",
          "symmetric": true,
          "type": "data",
          "visible": true
         },
         "legendgroup": "424x240",
         "line": {
          "color": "rgb(255, 127, 14)"
         },
         "name": "424x240",
         "showlegend": true,
         "type": "scatter",
         "x": [
          0.5,
          1,
          1.5,
          2,
          2.5
         ],
         "xaxis": "x1",
         "y": [
          0.11448155219314626,
          0.3270111944209653,
          0.8964555384374536,
          1.8141642563165885,
          3.844594525153762
         ],
         "yaxis": "y1"
        },
        {
         "error_y": {
          "array": [
           0.004877684032460663,
           0.014272471865722024,
           0.013537051872501529,
           0.0069294870921941774,
           0.1594001333157977
          ],
          "color": "rgb(44, 160, 44)",
          "symmetric": true,
          "type": "data",
          "visible": true
         },
         "legendgroup": "640x480",
         "line": {
          "color": "rgb(44, 160, 44)"
         },
         "name": "640x480",
         "showlegend": true,
         "type": "scatter",
         "x": [
          0.5,
          1,
          1.5,
          2,
          2.5
         ],
         "xaxis": "x1",
         "y": [
          0.11523512712719464,
          0.35421776630620794,
          0.5286095333515799,
          0.8787958265319038,
          2.1410509338001207
         ],
         "yaxis": "y1"
        },
        {
         "error_y": {
          "array": [
           996898.1126770136,
           236099.49389617273,
           119027.59489606801,
           122647.07293083415,
           71056.52225950753
          ],
          "color": "rgb(31, 119, 180)",
          "symmetric": true,
          "type": "data",
          "visible": true
         },
         "legendgroup": "1280x720",
         "line": {
          "color": "rgb(31, 119, 180)"
         },
         "name": "1280x720",
         "showlegend": false,
         "type": "scatter",
         "x": [
          0.5,
          1,
          1.5,
          2,
          2.5
         ],
         "xaxis": "x2",
         "y": [
          339025415.61933607,
          84508098.63479497,
          36510261.50488094,
          21206021.638891753,
          13516685.27674101
         ],
         "yaxis": "y2"
        },
        {
         "error_y": {
          "array": [
           24901.553614816436,
           3276.144183505181,
           73935.75778078167,
           12231.557997942755,
           69676.8418440517
          ],
          "color": "rgb(255, 127, 14)",
          "symmetric": true,
          "type": "data",
          "visible": true
         },
         "legendgroup": "424x240",
         "line": {
          "color": "rgb(255, 127, 14)"
         },
         "name": "424x240",
         "showlegend": false,
         "type": "scatter",
         "x": [
          0.5,
          1,
          1.5,
          2,
          2.5
         ],
         "xaxis": "x2",
         "y": [
          38316561.46621355,
          9586622.845946219,
          4113153.0456099384,
          2411945.426053361,
          1393248.85966659
         ],
         "yaxis": "y2"
        },
        {
         "error_y": {
          "array": [
           723670.8508248851,
           34702.66545322946,
           49816.740336036855,
           20795.796726661367,
           40639.13772219518
          ],
          "color": "rgb(44, 160, 44)",
          "symmetric": true,
          "type": "data",
          "visible": true
         },
         "legendgroup": "640x480",
         "line": {
          "color": "rgb(44, 160, 44)"
         },
         "name": "640x480",
         "showlegend": false,
         "type": "scatter",
         "x": [
          0.5,
          1,
          1.5,
          2,
          2.5
         ],
         "xaxis": "x2",
         "y": [
          151758162.2468571,
          38313312.35396976,
          16905420.456977528,
          9365479.726101106,
          6047499.486333575
         ],
         "yaxis": "y2"
        }
       ],
       "layout": {
        "annotations": [
         {
          "font": {
           "size": 16
          },
          "showarrow": false,
          "text": "Plane Fit Error",
          "x": 0.225,
          "xanchor": "center",
          "xref": "paper",
          "y": 1,
          "yanchor": "bottom",
          "yref": "paper"
         },
         {
          "font": {
           "size": 16
          },
          "showarrow": false,
          "text": "Point Density",
          "x": 0.775,
          "xanchor": "center",
          "xref": "paper",
          "y": 1,
          "yanchor": "bottom",
          "yref": "paper"
         }
        ],
        "xaxis1": {
         "anchor": "y1",
         "domain": [
          0,
          0.45
         ],
         "title": "Distance [mm]"
        },
        "xaxis2": {
         "anchor": "y2",
         "domain": [
          0.55,
          1
         ],
         "title": "Distance [mm]"
        },
        "yaxis1": {
         "anchor": "x1",
         "domain": [
          0,
          1
         ],
         "title": "Error [m]"
        },
        "yaxis2": {
         "anchor": "x2",
         "domain": [
          0,
          1
         ],
         "title": "Point Density [p / m²]"
        }
       }
      },
      "text/html": [
       "<div id=\"f4c0574f-6657-4938-9dc0-9179fea1cfcf\" style=\"height: 525px; width: 100%;\" class=\"plotly-graph-div\"></div><script type=\"text/javascript\">require([\"plotly\"], function(Plotly) { window.PLOTLYENV=window.PLOTLYENV || {};window.PLOTLYENV.BASE_URL=\"https://plot.ly\";Plotly.newPlot(\"f4c0574f-6657-4938-9dc0-9179fea1cfcf\", [{\"type\": \"scatter\", \"x\": [0.5, 1.0, 1.5, 2.0, 2.5], \"y\": [0.14215423599037028, 0.4425662581653855, 0.7504302296595128, 1.626331988571198, 2.4420189722498913], \"error_y\": {\"type\": \"data\", \"visible\": true, \"symmetric\": true, \"array\": [0.0008089748646706603, 0.001574136311746814, 0.009209396905023925, 0.06635098505820053, 0.03132228865909239], \"color\": \"rgb(31, 119, 180)\"}, \"name\": \"1280x720\", \"legendgroup\": \"1280x720\", \"showlegend\": true, \"line\": {\"color\": \"rgb(31, 119, 180)\"}, \"xaxis\": \"x1\", \"yaxis\": \"y1\"}, {\"type\": \"scatter\", \"x\": [0.5, 1.0, 1.5, 2.0, 2.5], \"y\": [0.11448155219314626, 0.3270111944209653, 0.8964555384374536, 1.8141642563165885, 3.844594525153762], \"error_y\": {\"type\": \"data\", \"visible\": true, \"symmetric\": true, \"array\": [0.0015869921393275393, 0.0025752327833641437, 0.16321331715226636, 0.08904406331434331, 1.032315989792806], \"color\": \"rgb(255, 127, 14)\"}, \"name\": \"424x240\", \"legendgroup\": \"424x240\", \"showlegend\": true, \"line\": {\"color\": \"rgb(255, 127, 14)\"}, \"xaxis\": \"x1\", \"yaxis\": \"y1\"}, {\"type\": \"scatter\", \"x\": [0.5, 1.0, 1.5, 2.0, 2.5], \"y\": [0.11523512712719464, 0.35421776630620794, 0.5286095333515799, 0.8787958265319038, 2.1410509338001207], \"error_y\": {\"type\": \"data\", \"visible\": true, \"symmetric\": true, \"array\": [0.004877684032460663, 0.014272471865722024, 0.013537051872501529, 0.0069294870921941774, 0.1594001333157977], \"color\": \"rgb(44, 160, 44)\"}, \"name\": \"640x480\", \"legendgroup\": \"640x480\", \"showlegend\": true, \"line\": {\"color\": \"rgb(44, 160, 44)\"}, \"xaxis\": \"x1\", \"yaxis\": \"y1\"}, {\"type\": \"scatter\", \"x\": [0.5, 1.0, 1.5, 2.0, 2.5], \"y\": [339025415.61933607, 84508098.63479497, 36510261.50488094, 21206021.638891753, 13516685.27674101], \"error_y\": {\"type\": \"data\", \"visible\": true, \"symmetric\": true, \"array\": [996898.1126770136, 236099.49389617273, 119027.59489606801, 122647.07293083415, 71056.52225950753], \"color\": \"rgb(31, 119, 180)\"}, \"name\": \"1280x720\", \"legendgroup\": \"1280x720\", \"showlegend\": false, \"line\": {\"color\": \"rgb(31, 119, 180)\"}, \"xaxis\": \"x2\", \"yaxis\": \"y2\"}, {\"type\": \"scatter\", \"x\": [0.5, 1.0, 1.5, 2.0, 2.5], \"y\": [38316561.46621355, 9586622.845946219, 4113153.0456099384, 2411945.426053361, 1393248.85966659], \"error_y\": {\"type\": \"data\", \"visible\": true, \"symmetric\": true, \"array\": [24901.553614816436, 3276.144183505181, 73935.75778078167, 12231.557997942755, 69676.8418440517], \"color\": \"rgb(255, 127, 14)\"}, \"name\": \"424x240\", \"legendgroup\": \"424x240\", \"showlegend\": false, \"line\": {\"color\": \"rgb(255, 127, 14)\"}, \"xaxis\": \"x2\", \"yaxis\": \"y2\"}, {\"type\": \"scatter\", \"x\": [0.5, 1.0, 1.5, 2.0, 2.5], \"y\": [151758162.2468571, 38313312.35396976, 16905420.456977528, 9365479.726101106, 6047499.486333575], \"error_y\": {\"type\": \"data\", \"visible\": true, \"symmetric\": true, \"array\": [723670.8508248851, 34702.66545322946, 49816.740336036855, 20795.796726661367, 40639.13772219518], \"color\": \"rgb(44, 160, 44)\"}, \"name\": \"640x480\", \"legendgroup\": \"640x480\", \"showlegend\": false, \"line\": {\"color\": \"rgb(44, 160, 44)\"}, \"xaxis\": \"x2\", \"yaxis\": \"y2\"}], {\"xaxis1\": {\"domain\": [0.0, 0.45], \"anchor\": \"y1\", \"title\": \"Distance [mm]\"}, \"yaxis1\": {\"domain\": [0.0, 1.0], \"anchor\": \"x1\", \"title\": \"Error [m]\"}, \"xaxis2\": {\"domain\": [0.55, 1.0], \"anchor\": \"y2\", \"title\": \"Distance [mm]\"}, \"yaxis2\": {\"domain\": [0.0, 1.0], \"anchor\": \"x2\", \"title\": \"Point Density [p / m\\u00b2]\"}, \"annotations\": [{\"y\": 1.0, \"xref\": \"paper\", \"x\": 0.225, \"yref\": \"paper\", \"text\": \"Plane Fit Error\", \"showarrow\": false, \"font\": {\"size\": 16}, \"xanchor\": \"center\", \"yanchor\": \"bottom\"}, {\"y\": 1.0, \"xref\": \"paper\", \"x\": 0.775, \"yref\": \"paper\", \"text\": \"Point Density\", \"showarrow\": false, \"font\": {\"size\": 16}, \"xanchor\": \"center\", \"yanchor\": \"bottom\"}]}, {\"showLink\": true, \"linkText\": \"Export to plot.ly\"})});</script>"
      ],
      "text/vnd.plotly.v1+html": [
       "<div id=\"f4c0574f-6657-4938-9dc0-9179fea1cfcf\" style=\"height: 525px; width: 100%;\" class=\"plotly-graph-div\"></div><script type=\"text/javascript\">require([\"plotly\"], function(Plotly) { window.PLOTLYENV=window.PLOTLYENV || {};window.PLOTLYENV.BASE_URL=\"https://plot.ly\";Plotly.newPlot(\"f4c0574f-6657-4938-9dc0-9179fea1cfcf\", [{\"type\": \"scatter\", \"x\": [0.5, 1.0, 1.5, 2.0, 2.5], \"y\": [0.14215423599037028, 0.4425662581653855, 0.7504302296595128, 1.626331988571198, 2.4420189722498913], \"error_y\": {\"type\": \"data\", \"visible\": true, \"symmetric\": true, \"array\": [0.0008089748646706603, 0.001574136311746814, 0.009209396905023925, 0.06635098505820053, 0.03132228865909239], \"color\": \"rgb(31, 119, 180)\"}, \"name\": \"1280x720\", \"legendgroup\": \"1280x720\", \"showlegend\": true, \"line\": {\"color\": \"rgb(31, 119, 180)\"}, \"xaxis\": \"x1\", \"yaxis\": \"y1\"}, {\"type\": \"scatter\", \"x\": [0.5, 1.0, 1.5, 2.0, 2.5], \"y\": [0.11448155219314626, 0.3270111944209653, 0.8964555384374536, 1.8141642563165885, 3.844594525153762], \"error_y\": {\"type\": \"data\", \"visible\": true, \"symmetric\": true, \"array\": [0.0015869921393275393, 0.0025752327833641437, 0.16321331715226636, 0.08904406331434331, 1.032315989792806], \"color\": \"rgb(255, 127, 14)\"}, \"name\": \"424x240\", \"legendgroup\": \"424x240\", \"showlegend\": true, \"line\": {\"color\": \"rgb(255, 127, 14)\"}, \"xaxis\": \"x1\", \"yaxis\": \"y1\"}, {\"type\": \"scatter\", \"x\": [0.5, 1.0, 1.5, 2.0, 2.5], \"y\": [0.11523512712719464, 0.35421776630620794, 0.5286095333515799, 0.8787958265319038, 2.1410509338001207], \"error_y\": {\"type\": \"data\", \"visible\": true, \"symmetric\": true, \"array\": [0.004877684032460663, 0.014272471865722024, 0.013537051872501529, 0.0069294870921941774, 0.1594001333157977], \"color\": \"rgb(44, 160, 44)\"}, \"name\": \"640x480\", \"legendgroup\": \"640x480\", \"showlegend\": true, \"line\": {\"color\": \"rgb(44, 160, 44)\"}, \"xaxis\": \"x1\", \"yaxis\": \"y1\"}, {\"type\": \"scatter\", \"x\": [0.5, 1.0, 1.5, 2.0, 2.5], \"y\": [339025415.61933607, 84508098.63479497, 36510261.50488094, 21206021.638891753, 13516685.27674101], \"error_y\": {\"type\": \"data\", \"visible\": true, \"symmetric\": true, \"array\": [996898.1126770136, 236099.49389617273, 119027.59489606801, 122647.07293083415, 71056.52225950753], \"color\": \"rgb(31, 119, 180)\"}, \"name\": \"1280x720\", \"legendgroup\": \"1280x720\", \"showlegend\": false, \"line\": {\"color\": \"rgb(31, 119, 180)\"}, \"xaxis\": \"x2\", \"yaxis\": \"y2\"}, {\"type\": \"scatter\", \"x\": [0.5, 1.0, 1.5, 2.0, 2.5], \"y\": [38316561.46621355, 9586622.845946219, 4113153.0456099384, 2411945.426053361, 1393248.85966659], \"error_y\": {\"type\": \"data\", \"visible\": true, \"symmetric\": true, \"array\": [24901.553614816436, 3276.144183505181, 73935.75778078167, 12231.557997942755, 69676.8418440517], \"color\": \"rgb(255, 127, 14)\"}, \"name\": \"424x240\", \"legendgroup\": \"424x240\", \"showlegend\": false, \"line\": {\"color\": \"rgb(255, 127, 14)\"}, \"xaxis\": \"x2\", \"yaxis\": \"y2\"}, {\"type\": \"scatter\", \"x\": [0.5, 1.0, 1.5, 2.0, 2.5], \"y\": [151758162.2468571, 38313312.35396976, 16905420.456977528, 9365479.726101106, 6047499.486333575], \"error_y\": {\"type\": \"data\", \"visible\": true, \"symmetric\": true, \"array\": [723670.8508248851, 34702.66545322946, 49816.740336036855, 20795.796726661367, 40639.13772219518], \"color\": \"rgb(44, 160, 44)\"}, \"name\": \"640x480\", \"legendgroup\": \"640x480\", \"showlegend\": false, \"line\": {\"color\": \"rgb(44, 160, 44)\"}, \"xaxis\": \"x2\", \"yaxis\": \"y2\"}], {\"xaxis1\": {\"domain\": [0.0, 0.45], \"anchor\": \"y1\", \"title\": \"Distance [mm]\"}, \"yaxis1\": {\"domain\": [0.0, 1.0], \"anchor\": \"x1\", \"title\": \"Error [m]\"}, \"xaxis2\": {\"domain\": [0.55, 1.0], \"anchor\": \"y2\", \"title\": \"Distance [mm]\"}, \"yaxis2\": {\"domain\": [0.0, 1.0], \"anchor\": \"x2\", \"title\": \"Point Density [p / m\\u00b2]\"}, \"annotations\": [{\"y\": 1.0, \"xref\": \"paper\", \"x\": 0.225, \"yref\": \"paper\", \"text\": \"Plane Fit Error\", \"showarrow\": false, \"font\": {\"size\": 16}, \"xanchor\": \"center\", \"yanchor\": \"bottom\"}, {\"y\": 1.0, \"xref\": \"paper\", \"x\": 0.775, \"yref\": \"paper\", \"text\": \"Point Density\", \"showarrow\": false, \"font\": {\"size\": 16}, \"xanchor\": \"center\", \"yanchor\": \"bottom\"}]}, {\"showLink\": true, \"linkText\": \"Export to plot.ly\"})});</script>"
      ]
     },
     "metadata": {},
     "output_type": "display_data"
    }
   ],
   "source": [
    "%store -r pcDataNear02\n",
    "plotPlaneData(pcDataNear02, 'Plan Fitting Near - Dataset 02')"
   ]
  },
  {
   "cell_type": "code",
   "execution_count": 10,
   "metadata": {},
   "outputs": [
    {
     "data": {
      "application/vnd.plotly.v1+json": {
       "data": [
        {
         "error_y": {
          "array": [
           0.25607253886355125,
           0.26684044219112646,
           0.4397236895689603
          ],
          "color": "rgb(31, 119, 180)",
          "symmetric": true,
          "type": "data",
          "visible": true
         },
         "legendgroup": "1280x720",
         "line": {
          "color": "rgb(31, 119, 180)"
         },
         "name": "1280x720",
         "showlegend": true,
         "type": "scatter",
         "x": [
          5,
          7.5,
          10
         ],
         "xaxis": "x1",
         "y": [
          71.98824103870855,
          76.19340500523667,
          78.12517079149599
         ],
         "yaxis": "y1"
        },
        {
         "error_y": {
          "array": [
           0.1164811750070223,
           0.5151166567103954,
           0.9320753038191778
          ],
          "color": "rgb(255, 127, 14)",
          "symmetric": true,
          "type": "data",
          "visible": true
         },
         "legendgroup": "640x480",
         "line": {
          "color": "rgb(255, 127, 14)"
         },
         "name": "640x480",
         "showlegend": true,
         "type": "scatter",
         "x": [
          5,
          7.5,
          10
         ],
         "xaxis": "x1",
         "y": [
          59.44284693645771,
          92.16418229200566,
          94.01686279520925
         ],
         "yaxis": "y1"
        },
        {
         "error_y": {
          "array": [
           42140.04304610316,
           344533.8483992605,
           53556.022815447264
          ],
          "color": "rgb(31, 119, 180)",
          "symmetric": true,
          "type": "data",
          "visible": true
         },
         "legendgroup": "1280x720",
         "line": {
          "color": "rgb(31, 119, 180)"
         },
         "name": "1280x720",
         "showlegend": false,
         "type": "scatter",
         "x": [
          5,
          7.5,
          10
         ],
         "xaxis": "x2",
         "y": [
          2361929.4450529376,
          2743516.209804875,
          1965052.387050905
         ],
         "yaxis": "y2"
        },
        {
         "error_y": {
          "array": [
           8246.96441988086,
           68092.26421716847,
           22489.05896488549
          ],
          "color": "rgb(255, 127, 14)",
          "symmetric": true,
          "type": "data",
          "visible": true
         },
         "legendgroup": "640x480",
         "line": {
          "color": "rgb(255, 127, 14)"
         },
         "name": "640x480",
         "showlegend": false,
         "type": "scatter",
         "x": [
          5,
          7.5,
          10
         ],
         "xaxis": "x2",
         "y": [
          865780.6335606333,
          647748.0938179618,
          794500.1474844464
         ],
         "yaxis": "y2"
        }
       ],
       "layout": {
        "annotations": [
         {
          "font": {
           "size": 16
          },
          "showarrow": false,
          "text": "Plane Fit Error",
          "x": 0.225,
          "xanchor": "center",
          "xref": "paper",
          "y": 1,
          "yanchor": "bottom",
          "yref": "paper"
         },
         {
          "font": {
           "size": 16
          },
          "showarrow": false,
          "text": "Point Density",
          "x": 0.775,
          "xanchor": "center",
          "xref": "paper",
          "y": 1,
          "yanchor": "bottom",
          "yref": "paper"
         }
        ],
        "xaxis1": {
         "anchor": "y1",
         "domain": [
          0,
          0.45
         ],
         "title": "Distance [mm]"
        },
        "xaxis2": {
         "anchor": "y2",
         "domain": [
          0.55,
          1
         ],
         "title": "Distance [mm]"
        },
        "yaxis1": {
         "anchor": "x1",
         "domain": [
          0,
          1
         ],
         "title": "Error [m]"
        },
        "yaxis2": {
         "anchor": "x2",
         "domain": [
          0,
          1
         ],
         "title": "Point Density [p / m²]"
        }
       }
      },
      "text/html": [
       "<div id=\"302b68a4-15ac-43fe-bbd1-2ffa400d6484\" style=\"height: 525px; width: 100%;\" class=\"plotly-graph-div\"></div><script type=\"text/javascript\">require([\"plotly\"], function(Plotly) { window.PLOTLYENV=window.PLOTLYENV || {};window.PLOTLYENV.BASE_URL=\"https://plot.ly\";Plotly.newPlot(\"302b68a4-15ac-43fe-bbd1-2ffa400d6484\", [{\"type\": \"scatter\", \"x\": [5.0, 7.5, 10.0], \"y\": [71.98824103870855, 76.19340500523667, 78.12517079149599], \"error_y\": {\"type\": \"data\", \"visible\": true, \"symmetric\": true, \"array\": [0.25607253886355125, 0.26684044219112646, 0.4397236895689603], \"color\": \"rgb(31, 119, 180)\"}, \"name\": \"1280x720\", \"legendgroup\": \"1280x720\", \"showlegend\": true, \"line\": {\"color\": \"rgb(31, 119, 180)\"}, \"xaxis\": \"x1\", \"yaxis\": \"y1\"}, {\"type\": \"scatter\", \"x\": [5.0, 7.5, 10.0], \"y\": [59.44284693645771, 92.16418229200566, 94.01686279520925], \"error_y\": {\"type\": \"data\", \"visible\": true, \"symmetric\": true, \"array\": [0.1164811750070223, 0.5151166567103954, 0.9320753038191778], \"color\": \"rgb(255, 127, 14)\"}, \"name\": \"640x480\", \"legendgroup\": \"640x480\", \"showlegend\": true, \"line\": {\"color\": \"rgb(255, 127, 14)\"}, \"xaxis\": \"x1\", \"yaxis\": \"y1\"}, {\"type\": \"scatter\", \"x\": [5.0, 7.5, 10.0], \"y\": [2361929.4450529376, 2743516.209804875, 1965052.387050905], \"error_y\": {\"type\": \"data\", \"visible\": true, \"symmetric\": true, \"array\": [42140.04304610316, 344533.8483992605, 53556.022815447264], \"color\": \"rgb(31, 119, 180)\"}, \"name\": \"1280x720\", \"legendgroup\": \"1280x720\", \"showlegend\": false, \"line\": {\"color\": \"rgb(31, 119, 180)\"}, \"xaxis\": \"x2\", \"yaxis\": \"y2\"}, {\"type\": \"scatter\", \"x\": [5.0, 7.5, 10.0], \"y\": [865780.6335606333, 647748.0938179618, 794500.1474844464], \"error_y\": {\"type\": \"data\", \"visible\": true, \"symmetric\": true, \"array\": [8246.96441988086, 68092.26421716847, 22489.05896488549], \"color\": \"rgb(255, 127, 14)\"}, \"name\": \"640x480\", \"legendgroup\": \"640x480\", \"showlegend\": false, \"line\": {\"color\": \"rgb(255, 127, 14)\"}, \"xaxis\": \"x2\", \"yaxis\": \"y2\"}], {\"xaxis1\": {\"domain\": [0.0, 0.45], \"anchor\": \"y1\", \"title\": \"Distance [mm]\"}, \"yaxis1\": {\"domain\": [0.0, 1.0], \"anchor\": \"x1\", \"title\": \"Error [m]\"}, \"xaxis2\": {\"domain\": [0.55, 1.0], \"anchor\": \"y2\", \"title\": \"Distance [mm]\"}, \"yaxis2\": {\"domain\": [0.0, 1.0], \"anchor\": \"x2\", \"title\": \"Point Density [p / m\\u00b2]\"}, \"annotations\": [{\"y\": 1.0, \"xref\": \"paper\", \"x\": 0.225, \"yref\": \"paper\", \"text\": \"Plane Fit Error\", \"showarrow\": false, \"font\": {\"size\": 16}, \"xanchor\": \"center\", \"yanchor\": \"bottom\"}, {\"y\": 1.0, \"xref\": \"paper\", \"x\": 0.775, \"yref\": \"paper\", \"text\": \"Point Density\", \"showarrow\": false, \"font\": {\"size\": 16}, \"xanchor\": \"center\", \"yanchor\": \"bottom\"}]}, {\"showLink\": true, \"linkText\": \"Export to plot.ly\"})});</script>"
      ],
      "text/vnd.plotly.v1+html": [
       "<div id=\"302b68a4-15ac-43fe-bbd1-2ffa400d6484\" style=\"height: 525px; width: 100%;\" class=\"plotly-graph-div\"></div><script type=\"text/javascript\">require([\"plotly\"], function(Plotly) { window.PLOTLYENV=window.PLOTLYENV || {};window.PLOTLYENV.BASE_URL=\"https://plot.ly\";Plotly.newPlot(\"302b68a4-15ac-43fe-bbd1-2ffa400d6484\", [{\"type\": \"scatter\", \"x\": [5.0, 7.5, 10.0], \"y\": [71.98824103870855, 76.19340500523667, 78.12517079149599], \"error_y\": {\"type\": \"data\", \"visible\": true, \"symmetric\": true, \"array\": [0.25607253886355125, 0.26684044219112646, 0.4397236895689603], \"color\": \"rgb(31, 119, 180)\"}, \"name\": \"1280x720\", \"legendgroup\": \"1280x720\", \"showlegend\": true, \"line\": {\"color\": \"rgb(31, 119, 180)\"}, \"xaxis\": \"x1\", \"yaxis\": \"y1\"}, {\"type\": \"scatter\", \"x\": [5.0, 7.5, 10.0], \"y\": [59.44284693645771, 92.16418229200566, 94.01686279520925], \"error_y\": {\"type\": \"data\", \"visible\": true, \"symmetric\": true, \"array\": [0.1164811750070223, 0.5151166567103954, 0.9320753038191778], \"color\": \"rgb(255, 127, 14)\"}, \"name\": \"640x480\", \"legendgroup\": \"640x480\", \"showlegend\": true, \"line\": {\"color\": \"rgb(255, 127, 14)\"}, \"xaxis\": \"x1\", \"yaxis\": \"y1\"}, {\"type\": \"scatter\", \"x\": [5.0, 7.5, 10.0], \"y\": [2361929.4450529376, 2743516.209804875, 1965052.387050905], \"error_y\": {\"type\": \"data\", \"visible\": true, \"symmetric\": true, \"array\": [42140.04304610316, 344533.8483992605, 53556.022815447264], \"color\": \"rgb(31, 119, 180)\"}, \"name\": \"1280x720\", \"legendgroup\": \"1280x720\", \"showlegend\": false, \"line\": {\"color\": \"rgb(31, 119, 180)\"}, \"xaxis\": \"x2\", \"yaxis\": \"y2\"}, {\"type\": \"scatter\", \"x\": [5.0, 7.5, 10.0], \"y\": [865780.6335606333, 647748.0938179618, 794500.1474844464], \"error_y\": {\"type\": \"data\", \"visible\": true, \"symmetric\": true, \"array\": [8246.96441988086, 68092.26421716847, 22489.05896488549], \"color\": \"rgb(255, 127, 14)\"}, \"name\": \"640x480\", \"legendgroup\": \"640x480\", \"showlegend\": false, \"line\": {\"color\": \"rgb(255, 127, 14)\"}, \"xaxis\": \"x2\", \"yaxis\": \"y2\"}], {\"xaxis1\": {\"domain\": [0.0, 0.45], \"anchor\": \"y1\", \"title\": \"Distance [mm]\"}, \"yaxis1\": {\"domain\": [0.0, 1.0], \"anchor\": \"x1\", \"title\": \"Error [m]\"}, \"xaxis2\": {\"domain\": [0.55, 1.0], \"anchor\": \"y2\", \"title\": \"Distance [mm]\"}, \"yaxis2\": {\"domain\": [0.0, 1.0], \"anchor\": \"x2\", \"title\": \"Point Density [p / m\\u00b2]\"}, \"annotations\": [{\"y\": 1.0, \"xref\": \"paper\", \"x\": 0.225, \"yref\": \"paper\", \"text\": \"Plane Fit Error\", \"showarrow\": false, \"font\": {\"size\": 16}, \"xanchor\": \"center\", \"yanchor\": \"bottom\"}, {\"y\": 1.0, \"xref\": \"paper\", \"x\": 0.775, \"yref\": \"paper\", \"text\": \"Point Density\", \"showarrow\": false, \"font\": {\"size\": 16}, \"xanchor\": \"center\", \"yanchor\": \"bottom\"}]}, {\"showLink\": true, \"linkText\": \"Export to plot.ly\"})});</script>"
      ]
     },
     "metadata": {},
     "output_type": "display_data"
    }
   ],
   "source": [
    "%store -r pcDataFar02\n",
    "plotPlaneData(pcDataFar02, 'Plan Fitting Far - Dataset 01')"
   ]
  },
  {
   "cell_type": "code",
   "execution_count": null,
   "metadata": {},
   "outputs": [],
   "source": [
    "filt = FilterPointCloud.parseFilters([\n",
    "    'x>-0.7188',\n",
    "    'x<1.26',\n",
    "    'y>-0.88',\n",
    "])\n",
    "ply = PLYObject.PLYObject(r'RealSense-D415-Data-02-Near\\Laser\\RealSense-D415-Plane-2.5m-424x240-6-Laser\\1.pointcloud.ply')\n",
    "fply = FilterPointCloud.filterPLYObject(ply, filt)\n",
    "\n",
    "vert = ply.getVertices()\n",
    "fvert = fply.getVertices()\n",
    "\n",
    "data = [\n",
    "    ptygo.Scatter3d(\n",
    "        x=fvert[0],\n",
    "        y=fvert[1],\n",
    "        z=fvert[2],\n",
    "        mode='markers',\n",
    "        marker=dict(\n",
    "            size=1,\n",
    "            opacity=0.7,\n",
    "        ),\n",
    "    )\n",
    "]\n",
    "pty.iplot(data)"
   ]
  },
  {
   "cell_type": "code",
   "execution_count": null,
   "metadata": {
    "scrolled": false
   },
   "outputs": [],
   "source": [
    "data = [\n",
    "    ptygo.Scatter3d(\n",
    "        x=vert[0],\n",
    "        y=vert[1],\n",
    "        z=vert[2],\n",
    "        mode='markers',\n",
    "        marker=dict(\n",
    "            size=1,\n",
    "            opacity=0.7,\n",
    "        ),\n",
    "    )\n",
    "]\n",
    "pty.iplot(data)"
   ]
  }
 ],
 "metadata": {
  "kernelspec": {
   "display_name": "Python 3",
   "language": "python",
   "name": "python3"
  },
  "language_info": {
   "codemirror_mode": {
    "name": "ipython",
    "version": 3
   },
   "file_extension": ".py",
   "mimetype": "text/x-python",
   "name": "python",
   "nbconvert_exporter": "python",
   "pygments_lexer": "ipython3",
   "version": "3.7.0"
  }
 },
 "nbformat": 4,
 "nbformat_minor": 2
}
