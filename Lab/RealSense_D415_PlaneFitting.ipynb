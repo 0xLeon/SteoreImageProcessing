{
 "cells": [
  {
   "cell_type": "code",
   "execution_count": 1,
   "metadata": {},
   "outputs": [
    {
     "data": {
      "text/html": [
       "<script>requirejs.config({paths: { 'plotly': ['https://cdn.plot.ly/plotly-latest.min']},});if(!window.Plotly) {{require(['plotly'],function(plotly) {window.Plotly=plotly;});}}</script>"
      ],
      "text/vnd.plotly.v1+html": [
       "<script>requirejs.config({paths: { 'plotly': ['https://cdn.plot.ly/plotly-latest.min']},});if(!window.Plotly) {{require(['plotly'],function(plotly) {window.Plotly=plotly;});}}</script>"
      ]
     },
     "metadata": {},
     "output_type": "display_data"
    }
   ],
   "source": [
    "import copy\n",
    "import itertools\n",
    "\n",
    "import numpy as np\n",
    "import plotly.offline as pty\n",
    "import plotly.graph_objs as ptygo\n",
    "import plotly.grid_objs as ptygr\n",
    "import plotly.tools as ptytools\n",
    "import scipy.stats as st\n",
    "\n",
    "import FilterPointCloud\n",
    "import ProcessPlanePointCloud\n",
    "import PLYObject\n",
    "\n",
    "pty.init_notebook_mode(connected=True)"
   ]
  },
  {
   "cell_type": "code",
   "execution_count": 2,
   "metadata": {
    "scrolled": true
   },
   "outputs": [
    {
     "name": "stdout",
     "output_type": "stream",
     "text": [
      "Processing folder RealSense-D415-Plane-0.5m-1280x720-6-Laser\n",
      "Filters: []\n",
      "n = 4\n",
      "e = [0.001272743630753398, 0.0011975694776483116, 0.0012006031493034745, 0.0011872592007701884]\n",
      "d = [3599376.6029766873, 3673032.553299536, 3674125.8386335033, 3689355.2219764963]\n",
      "\n",
      "Processing folder RealSense-D415-Plane-0.5m-640x480-6-Laser\n",
      "Filters: []\n",
      "n = 5\n",
      "e = [0.000979629493735353, 0.0009964415014598834, 0.000989604462056468, 0.0009927091579821573, 0.0009845015557435753]\n",
      "d = [1620227.2688009036, 1625838.3362104876, 1625583.8186036807, 1623391.854621434, 1626158.704114806]\n",
      "\n",
      "Processing folder RealSense-D415-Plane-1.0m-1280x720-6-Laser\n",
      "Filters: []\n",
      "n = 5\n",
      "e = [0.0041715439219746735, 0.003960595703093468, 0.0039253768398255905, 0.0038850448900966386, 0.0038860758240216128]\n",
      "d = [871253.1868182201, 869398.9876419047, 866467.4511905949, 866021.162053019, 870413.9585067385]\n",
      "\n",
      "Processing folder RealSense-D415-Plane-1.0m-640x480-6-Laser\n",
      "Filters: []\n",
      "n = 5\n",
      "e = [0.00229134996822316, 0.002204437999996277, 0.002246465579980213, 0.0022052905963084583, 0.002215983369766601]\n",
      "d = [395881.40496591537, 397576.4643499197, 396736.42108859186, 396631.2521649056, 397444.8192353068]\n",
      "\n",
      "Processing folder RealSense-D415-Plane-2.5m-1280x720-6-Laser\n",
      "Filters: [X>-1.1279, X<1.1447, Y<0.5800]\n",
      "n = 5\n",
      "e = [0.014452994246626862, 0.016810471524064587, 0.01724485712369231, 0.016638306853572045, 0.017326702204760826]\n",
      "d = [140645.13170733498, 139189.2480979745, 138929.07483669074, 139169.70724888827, 138931.68328202973]\n",
      "\n",
      "Processing folder RealSense-D415-Plane-2.5m-640x480-6-Laser\n",
      "Filters: [X>-1.1279, X<1.1447, Y<0.5800]\n",
      "n = 5\n",
      "e = [0.013485889385585594, 0.017033619860338658, 0.018200386558477395, 0.01697743549477585, 0.017515434745902253]\n",
      "d = [62309.47024629131, 61435.2881656339, 61352.64398244498, 61358.020121644775, 61144.12743907321]\n",
      "\n"
     ]
    }
   ],
   "source": [
    "pcDataNear01 = ProcessPlanePointCloud.main('RealSense-D415-Data-01-Near/Laser/', {\n",
    "    2.5: [\n",
    "        'x>-1.1279',\n",
    "        'x<1.1447',\n",
    "        'y<0.58',\n",
    "    ]\n",
    "})"
   ]
  },
  {
   "cell_type": "code",
   "execution_count": 3,
   "metadata": {},
   "outputs": [
    {
     "name": "stdout",
     "output_type": "stream",
     "text": [
      "Processing folder RealSense-D415-Plane-0.5m-1280x720-6-Laser\n",
      "Filters: []\n",
      "n = 10\n",
      "e = [0.0013949282841351812, 0.0014255677970811049, 0.0014325409772281482, 0.0014249097007819063, 0.0014376540565011512, 0.0014199174841931853, 0.0014235287548650182, 0.0014179723438365382, 0.0014206599380354418, 0.0014177412964936106]\n",
      "d = [3356355.665512987, 3405366.2572091273, 3382880.307472585, 3396178.836325475, 3390912.999698296, 3393509.2750907377, 3405477.7994173313, 3386404.7944177, 3390380.077580024, 3395075.552177173]\n",
      "\n",
      "Processing folder RealSense-D415-Plane-0.5m-424x240-6-Laser\n",
      "Filters: []\n",
      "n = 10\n",
      "e = [0.0011942200810833598, 0.0011666447463927851, 0.0011564657041198386, 0.0011361390377385098, 0.0011375189999655976, 0.0011248271268834826, 0.0011350265720092081, 0.0011445617828204785, 0.001132418403249444, 0.001120339177279971]\n",
      "d = [382867.72538608825, 383337.8711013015, 383505.1233343652, 383339.09719987033, 382607.2879608115, 383328.1837409342, 383189.15687336103, 383657.0026579736, 383155.5853490718, 382669.1134266436]\n",
      "\n",
      "Processing folder RealSense-D415-Plane-0.5m-640x480-6-Laser\n",
      "Filters: []\n",
      "n = 10\n",
      "e = [0.0013330281699340534, 0.0011524130794597352, 0.0011172346565726042, 0.0010958244357380225, 0.0010902707636336122, 0.001126080262639707, 0.0011474795800499634, 0.0011438854221093755, 0.0011637180909113112, 0.0011535801539277965]\n",
      "d = [1507689.3296213597, 1528576.4878715072, 1528908.9051527225, 1526683.994776944, 1528432.7692991926, 1512564.2454997387, 1518968.0216874937, 1507582.4403283151, 1514140.8214846617, 1502269.2106191285]\n",
      "\n",
      "Processing folder RealSense-D415-Plane-1.0m-1280x720-6-Laser\n",
      "Filters: []\n",
      "n = 10\n",
      "e = [0.004414425610468602, 0.004420057495587982, 0.004425555283425919, 0.004445513289567611, 0.00443145966472854, 0.00441394097825414, 0.004415049585788608, 0.004477480242422351, 0.004399199317563698, 0.00441395367277318]\n",
      "d = [849520.8378231819, 846740.7993935252, 840188.6507775929, 843688.2032811849, 844237.7625679532, 847466.3558942581, 845994.5951730117, 847200.2289797647, 846650.0814676192, 839122.351253995]\n",
      "\n",
      "Processing folder RealSense-D415-Plane-1.0m-424x240-6-Laser\n",
      "Filters: []\n",
      "n = 10\n",
      "e = [0.003360341444510613, 0.0032509677503035858, 0.0032991183783287145, 0.003274153419143059, 0.0032574509710245167, 0.0032469403280182734, 0.0032564236031048985, 0.0032578843548942884, 0.0032624465201358593, 0.0032354398674000464]\n",
      "d = [95807.80166118998, 95829.94339653557, 95815.13578674548, 95910.26154603077, 95867.79374767751, 95869.8650069798, 95830.55835958995, 95874.23665702906, 95944.5922306076, 95912.09620078233]\n",
      "\n",
      "Processing folder RealSense-D415-Plane-1.0m-640x480-6-Laser\n",
      "Filters: []\n",
      "n = 10\n",
      "e = [0.004098705082316706, 0.003582024181838758, 0.0034977069853041293, 0.00347201755135024, 0.003441307784665615, 0.0034774814651152646, 0.0034828490754675477, 0.0034656456550880292, 0.003457438597255164, 0.003446640704112389]\n",
      "d = [381879.1838721398, 383595.8141338083, 383197.1684574327, 383295.30232278176, 383390.6299410037, 383222.38674015854, 383072.9300110283, 383381.69458415464, 383431.78638788813, 382864.33897191647]\n",
      "\n",
      "Processing folder RealSense-D415-Plane-1.5m-1280x720-6-Laser\n",
      "Filters: []\n",
      "n = 10\n",
      "e = [0.007834660445477286, 0.007523674054004753, 0.007475448690889898, 0.007541713305125849, 0.007405610179049476, 0.00741984074435864, 0.007401241460733863, 0.00749823841031624, 0.0075333328104664615, 0.007409234226937209]\n",
      "d = [366105.45942842535, 363421.272489111, 365524.75788249157, 366200.1516958934, 365387.5900658747, 366424.0701007135, 363548.8465637253, 367898.24567912205, 363905.214025177, 362610.54243717744]\n",
      "\n",
      "Processing folder RealSense-D415-Plane-1.5m-424x240-6-Laser\n",
      "Filters: []\n",
      "n = 10\n",
      "e = [0.009944005762733667, 0.008276416488296426, 0.007864986234286013, 0.0072923175492093616, 0.007423816117198872, 0.00743015179302704, 0.007617409202529902, 0.007746760198504283, 0.01256956790579, 0.013480055254474018]\n",
      "d = [41690.29577373458, 41878.39037489518, 41608.877962063954, 41760.46510687257, 41379.10048322624, 41522.450153131445, 41348.54538215002, 41685.750644807835, 39574.140167205136, 38867.29520547912]\n",
      "\n",
      "Processing folder RealSense-D415-Plane-1.5m-640x480-6-Laser\n",
      "Filters: []\n",
      "n = 10\n",
      "e = [0.005492033706818845, 0.005268974783787578, 0.00525983409339419, 0.005438102963260871, 0.005204297141126859, 0.004804763845514232, 0.005335769192038399, 0.005379340914800215, 0.005320498051227539, 0.005357340601305936]\n",
      "d = [169699.27769550044, 168801.78253306448, 168732.22768533038, 167822.9413183487, 167964.3938356218, 169687.62675239667, 169577.75610364103, 169373.60125580427, 169457.41767280592, 169425.02076921225]\n",
      "\n",
      "Processing folder RealSense-D415-Plane-2.0m-1280x720-6-Laser\n",
      "Filters: [X>-0.9660, X<1.2600]\n",
      "n = 10\n",
      "e = [0.013761301194891268, 0.015768669507642646, 0.01589022775481473, 0.016084561377533196, 0.016708793923035883, 0.01615439195219958, 0.016174872538230637, 0.016128671808402606, 0.016379752509471872, 0.016927862257766036]\n",
      "d = [215086.83303898113, 212392.67403422773, 210710.5591775784, 211935.30463067294, 210210.92711491854, 213212.25371714676, 211452.29864631197, 209463.63861039196, 212455.26873544033, 213105.93293780566]\n",
      "\n",
      "Processing folder RealSense-D415-Plane-2.0m-424x240-6-Laser\n",
      "Filters: [X>-0.9660, X<1.2600]\n",
      "n = 10\n",
      "e = [0.014787610166740862, 0.01794213711996004, 0.018573372042290332, 0.01884545572809955, 0.01868909362646961, 0.018770437872034928, 0.018810589678215976, 0.01872180448583544, 0.018506520860463102, 0.018833570933061705]\n",
      "d = [24495.821511249316, 24065.11898820361, 24034.91058822169, 24039.290435899184, 24026.81781541415, 23933.808980674414, 23919.18346298754, 23995.255951701798, 23999.033378036373, 23896.501076441135]\n",
      "\n",
      "Processing folder RealSense-D415-Plane-2.0m-640x480-6-Laser\n",
      "Filters: [X>-0.9660, X<1.2600]\n",
      "n = 10\n",
      "e = [0.008715173036766962, 0.008786943823544176, 0.00876181694525012, 0.008759401556621733, 0.008932648951766008, 0.008872726749972281, 0.008870266325951316, 0.008766299150632564, 0.008715446709331706, 0.008595894039080553]\n",
      "d = [94585.98148842869, 94103.3360965894, 94168.31540705213, 93869.98040274327, 94055.12573788321, 93838.3070626313, 93766.43534552089, 93748.16293864103, 93932.08618719506, 93913.33318187018]\n",
      "\n",
      "Processing folder RealSense-D415-Plane-2.5m-1280x720-6-Laser\n",
      "Filters: [X>-0.6950, X<1.2600, Y>-0.8800]\n",
      "n = 10\n",
      "e = [0.02374853204970976, 0.02389559164326319, 0.024138613154908558, 0.024568613606595565, 0.0243243177502358, 0.024134842283711436, 0.023589026751885542, 0.023994760049868478, 0.02365649036006326, 0.02456477901831027]\n",
      "d = [136948.03768242477, 136345.15268541835, 134511.11820646015, 133786.4263952238, 135059.75081696775, 134265.27199242782, 134725.29706340094, 135417.6636623565, 134187.64909664664, 135134.5563667107]\n",
      "\n",
      "Processing folder RealSense-D415-Plane-2.5m-424x240-6-Laser\n",
      "Filters: [X>-0.6950, X<1.2600, Y>-0.8800]\n",
      "n = 10\n",
      "e = [0.010094960015406398, 0.011497953012749208, 0.04398586427461, 0.04328845178318755, 0.04642503642082693, 0.04486189237381573, 0.04596456728552586, 0.0442195071853653, 0.04344205359993906, 0.043874458274333596]\n",
      "d = [15563.006415610831, 15411.831712921994, 13702.942117149021, 13534.177589276904, 13442.181150989187, 13599.499168760782, 13402.372644781773, 14183.342473374605, 12324.27729670469, 13773.02900477262]\n",
      "\n",
      "Processing folder RealSense-D415-Plane-2.5m-640x480-6-Laser\n",
      "Filters: [X>-0.6950, X<1.2600, Y>-0.8800]\n",
      "n = 10\n",
      "e = [0.01509450837994188, 0.021927728750191024, 0.021339025068965022, 0.02255037643797575, 0.02246552465386675, 0.02187196809778395, 0.022669906576600007, 0.02141745905272237, 0.02225178669596973, 0.02193678207273791]\n",
      "d = [61615.544832998734, 60041.306579112934, 59813.309622424305, 60639.82219460145, 60351.7483244373, 60333.42158597434, 60784.676836093386, 60508.97068000082, 59696.61607667748, 60510.855829348206]\n",
      "\n"
     ]
    }
   ],
   "source": [
    "pcDataNear02 = ProcessPlanePointCloud.main('RealSense-D415-Data-02-Near/Laser', {\n",
    "    2.0: [\n",
    "        'x>-0.925',\n",
    "        'x<1.022',\n",
    "    ],\n",
    "    2.5: [\n",
    "        'x>-0.695',\n",
    "        'x<1.26',\n",
    "        'y>-0.88',\n",
    "    ],\n",
    "})"
   ]
  },
  {
   "cell_type": "code",
   "execution_count": 4,
   "metadata": {
    "scrolled": true
   },
   "outputs": [
    {
     "name": "stdout",
     "output_type": "stream",
     "text": [
      "Processing folder RealSense-D415-Plane-10.0m-1280x720-6-Laser\n",
      "Filters: [X>-0.5899, X<0.3114, Y>-0.5276, Y<1.1418]\n",
      "n = 10\n",
      "e = [0.23085666893709922, 0.2077330722230642, 0.2199522560400499, 0.21882488932987829, 0.22423502473713103, 0.21776178656060136, 0.21766521722725402, 0.18927177475116874, 0.2205101981142895, 0.2087043304777838]\n",
      "d = [2574.9720668119367, 1302.3552482870157, 1542.5684834687559, 2222.333823700798, 1447.6119245279717, 1806.0421798080026, 2161.43952370695, 1370.3442954585869, 1855.0183075703314, 1495.8761048218416]\n",
      "\n",
      "Processing folder RealSense-D415-Plane-10.0m-640x480-6-Laser\n",
      "Filters: [X>-0.5899, X<0.3114, Y>-0.5276, Y<1.1418]\n",
      "n = 10\n",
      "e = [0.2184192989724593, 0.2146084483158834, 0.22504543936565913, 0.2088490778913895, 0.22728890772147797, 0.22373159247697524, 0.20909972081134232, 0.19647075912550815, 0.22380815616275923, 0.22635438706810146]\n",
      "d = [1487.570827977771, 1071.188451569655, 890.181249230208, 938.6665539563201, 895.9296799345043, 1026.0848181330562, 986.852893533624, 667.5954204149481, 761.9315868412102, 854.0557830031205]\n",
      "\n",
      "Processing folder RealSense-D415-Plane-5.0m-1280x720-6-Laser\n",
      "Filters: [X>-0.4382, X<0.4426, Y>-0.9353, Y<1.0309]\n",
      "n = 10\n",
      "e = [0.049965891988095104, 0.056065695654341406, 0.06005705997833191, 0.05819252854666773, 0.05560432906802926, 0.05554209081843988, 0.055866718682553426, 0.05889455981562047, 0.055920990305880006, 0.06110877204129832]\n",
      "d = [33082.53084271068, 32885.60965700267, 32773.454176835156, 32716.147635405254, 32744.493798973363, 32328.950575817038, 32718.35199302461, 32477.145812828574, 32548.093246329354, 32689.765811785885]\n",
      "\n",
      "Processing folder RealSense-D415-Plane-5.0m-640x480-6-Laser\n",
      "Filters: [X>-0.4382, X<0.4426, Y>-0.9353, Y<1.0309]\n",
      "n = 10\n",
      "e = [0.04028632469998861, 0.04510725814382796, 0.04514910143702416, 0.04544308992441577, 0.04355154538558465, 0.05031478513635373, 0.04371149929467512, 0.041179654412037754, 0.05039507597652785, 0.03972808533881003]\n",
      "d = [15036.652441542605, 14914.938642350688, 14848.372824953096, 14673.477248584897, 14941.724788190926, 14824.801188379492, 14840.838552401954, 14669.048251098115, 14449.294815195071, 14888.557206856038]\n",
      "\n",
      "Processing folder RealSense-D415-Plane-7.5m-1280x720-6-Laser\n",
      "Filters: [X>-0.3933, X<0.2847, Y>-0.7516, Y<1.0035]\n",
      "n = 10\n",
      "e = [0.16002705382880916, 0.15673897288635916, 0.16744613538241424, 0.16984930017636213, 0.16517480485297356, 0.16427030545949378, 0.16609020644154718, 0.17136715343638279, 0.16722398384454784, 0.16250622629729775]\n",
      "d = [7145.733837566773, 6306.860928071386, 5367.357396739293, 3909.6445560741236, 4620.8275014671435, 4557.453055803565, 5040.765080454855, 4839.837377010369, 3820.6480475556737, 4686.116597066956]\n",
      "\n",
      "Processing folder RealSense-D415-Plane-7.5m-640x480-6-Laser\n",
      "Filters: [X>-0.3933, X<0.2847, Y>-0.7516, Y<1.0035]\n",
      "n = 10\n",
      "e = [0.12296844964848114, 0.16031276062178693, 0.1521450324906547, 0.1552271920303873, 0.17052160526955246, 0.1315433266271628, 0.16646464205171496, 0.15435325675894038, 0.16495983229170808, 0.17052255293823]\n",
      "d = [3611.7289526596664, 2384.6347574361344, 2540.546609212394, 2649.8786223962084, 2399.757911312271, 2832.6324441916777, 2346.872818078654, 2232.652143057942, 3101.0843328687165, 2014.1425138982]\n",
      "\n"
     ]
    }
   ],
   "source": [
    "pcDataFar02 = ProcessPlanePointCloud.main('RealSense-D415-Data-02-Far/Laser', {\n",
    "    5.0: [\n",
    "        'x>-0.43816',\n",
    "        'x<0.44257',\n",
    "        'y>-0.93533',\n",
    "        'y<1.0309',\n",
    "    ],\n",
    "    7.5: [\n",
    "        'x>-0.39332',\n",
    "        'x<0.28466',\n",
    "        'y>-0.7516',\n",
    "        'y<1.0035',\n",
    "    ],\n",
    "    10.0: [\n",
    "        'x>-0.58987',\n",
    "        'x<0.3114',\n",
    "        'y>-0.5276',\n",
    "        'y<1.1418',\n",
    "    ],\n",
    "})"
   ]
  },
  {
   "cell_type": "code",
   "execution_count": 5,
   "metadata": {},
   "outputs": [],
   "source": [
    "def ptyColorMap(names):\n",
    "    ptyColors = itertools.cycle(reversed(ptytools.DEFAULT_PLOTLY_COLORS))\n",
    "\n",
    "    return dict(zip(names, ptyColors))"
   ]
  },
  {
   "cell_type": "code",
   "execution_count": 6,
   "metadata": {},
   "outputs": [],
   "source": [
    "def createGraphObjectsFromPlaneData(data):\n",
    "    goData = {}\n",
    "    layoutData = {}\n",
    "    \n",
    "    colorMap = ptyColorMap(data.keys())\n",
    "    \n",
    "    measurandMap = {\n",
    "        #'planeFitError': {\n",
    "        #    'xaxis': {\n",
    "        #        'title': 'Distance [m]',\n",
    "        #    },\n",
    "        #    'yaxis': {\n",
    "        #        'title': 'Error [mm]',\n",
    "        #    },\n",
    "        #    'title': 'Plane Fit Error',\n",
    "        #},\n",
    "        'planeFitErrorStd': {\n",
    "            'xaxis': {\n",
    "                'title': 'Distance [m]',\n",
    "            },\n",
    "            'yaxis': {\n",
    "                'title': 'Error STD [mm]',\n",
    "                'range': [0, 7.3],\n",
    "            },\n",
    "            'title': 'Plane Fit Error Standard Deviation',\n",
    "            'factor': 100,\n",
    "        },\n",
    "        'pointDensity': {\n",
    "            'xaxis': {\n",
    "                'title': 'Distance [m]',\n",
    "            },\n",
    "            'yaxis': {\n",
    "                'title': 'Point Density [p / m²]',\n",
    "                'tickformat': ',d',\n",
    "                'hoverformat': ',.2f',\n",
    "            },\n",
    "            'title': 'Point Density',\n",
    "            'factor': 1,\n",
    "        },\n",
    "    }\n",
    "    \n",
    "    resolutions = [*map(lambda res: 'x'.join([*map(str, res)]), sorted(map(lambda res: [*map(int, res.split('x'))], data.keys()), reverse=True))]\n",
    "    \n",
    "    for res in resolutions:\n",
    "        showlegend = True\n",
    "        \n",
    "        for measurand in data[res]:\n",
    "            if measurand not in measurandMap:\n",
    "                continue\n",
    "            \n",
    "            distances = sorted(data[res][measurand].keys())\n",
    "            errors = [np.array(data[res][measurand][dist]) * measurandMap[measurand]['factor'] for dist in distances]\n",
    "            \n",
    "            go = ptygo.Scatter(\n",
    "                x=distances,\n",
    "                y=[errorMeasurand.mean() for errorMeasurand in errors],\n",
    "                error_y=dict(\n",
    "                    type='data',\n",
    "                    visible=True,\n",
    "                    symmetric=True,\n",
    "                    array=np.abs(np.array([st.t.interval(0.95, errorMeasurand.shape[0]-1, loc=0, scale=st.sem(errorMeasurand)) for errorMeasurand in errors])[:, 0]),\n",
    "                    color=colorMap[res],\n",
    "                ),\n",
    "                name=res,\n",
    "                legendgroup=res,\n",
    "                showlegend=showlegend,\n",
    "                line=dict(\n",
    "                    color=colorMap[res],\n",
    "                ),\n",
    "            )\n",
    "            \n",
    "            if measurand not in goData:\n",
    "                goData[measurand] = []\n",
    "            \n",
    "            goData[measurand].append(go)\n",
    "            showlegend = False\n",
    "            \n",
    "            layoutData[measurand] = copy.deepcopy(measurandMap[measurand])\n",
    "            \n",
    "            if 'range' in layoutData[measurand]['yaxis']:\n",
    "                layoutData[measurand]['yaxis']['range'][0] = min(0, *[data.min() for data in errors])\n",
    "                layoutData[measurand]['yaxis']['range'][1] = max(7.3, *[data.max() for data in errors])\n",
    "    \n",
    "    return goData, layoutData"
   ]
  },
  {
   "cell_type": "code",
   "execution_count": 7,
   "metadata": {},
   "outputs": [],
   "source": [
    "def plotPlaneData(data, title):\n",
    "    go, lay = createGraphObjectsFromPlaneData(data)\n",
    "    goKeys = [*go.keys()]\n",
    "    rows = int(np.floor(np.sqrt(len(go))))\n",
    "    cols = int(np.ceil(np.sqrt(len(go))))\n",
    "    \n",
    "    titles = tuple(lay[goKey]['title'] for goKey in goKeys)\n",
    "    \n",
    "    fig = ptytools.make_subplots(rows=rows, cols=cols, subplot_titles=titles, print_grid=False)\n",
    "    fig['layout']['title'] = title\n",
    "    fig['layout']['separators'] = ',.'\n",
    "    \n",
    "    for v in range(rows):\n",
    "        for u in range(cols):\n",
    "            i = v * rows + u\n",
    "            \n",
    "            if i >= len(go):\n",
    "                break\n",
    "            \n",
    "            for t in go[goKeys[i]]:\n",
    "                fig.append_trace(t, v + 1, u + 1)\n",
    "            \n",
    "            layout = lay[goKeys[i]]\n",
    "            \n",
    "            if 'xaxis' in layout:\n",
    "                fig['layout']['xaxis{:d}'.format((v+1)*(rows-1)+u+1)].update(layout['xaxis'])\n",
    "            \n",
    "            if 'yaxis' in layout:\n",
    "                fig['layout']['yaxis{:d}'.format((v+1)*(rows-1)+u+1)].update(layout['yaxis'])\n",
    "    \n",
    "    \n",
    "    pty.iplot(fig)"
   ]
  },
  {
   "cell_type": "code",
   "execution_count": 8,
   "metadata": {},
   "outputs": [
    {
     "data": {
      "application/vnd.plotly.v1+json": {
       "data": [
        {
         "error_y": {
          "array": [
           0.009469102807030465,
           0.014116494274248844,
           0.17615081949959338
          ],
          "color": "rgb(23, 190, 207)",
          "symmetric": true,
          "type": "data",
          "visible": true
         },
         "legendgroup": "1280x720",
         "line": {
          "color": "rgb(23, 190, 207)"
         },
         "name": "1280x720",
         "showlegend": true,
         "type": "scatter",
         "x": [
          0.5,
          1,
          2.5
         ],
         "xaxis": "x1",
         "y": [
          0.15416528995124665,
          0.5069540718138817,
          2.1066578300924883
         ],
         "yaxis": "y1"
        },
        {
         "error_y": {
          "array": [
           0.0005690369434267008,
           0.007062646649386873,
           0.32160075758880546
          ],
          "color": "rgb(188, 189, 34)",
          "symmetric": true,
          "type": "data",
          "visible": true
         },
         "legendgroup": "640x480",
         "line": {
          "color": "rgb(188, 189, 34)"
         },
         "name": "640x480",
         "showlegend": true,
         "type": "scatter",
         "x": [
          0.5,
          1,
          2.5
         ],
         "xaxis": "x1",
         "y": [
          0.12096805372044853,
          0.2801739465563014,
          2.1538486419919893
         ],
         "yaxis": "y1"
        },
        {
         "error_y": {
          "array": [
           64322.22816706037,
           2918.8908760158256,
           896.5041451056834
          ],
          "color": "rgb(23, 190, 207)",
          "symmetric": true,
          "type": "data",
          "visible": true
         },
         "legendgroup": "1280x720",
         "line": {
          "color": "rgb(23, 190, 207)"
         },
         "name": "1280x720",
         "showlegend": false,
         "type": "scatter",
         "x": [
          0.5,
          1,
          2.5
         ],
         "xaxis": "x2",
         "y": [
          3658972.5542215556,
          868710.9492420955,
          139372.96903458363
         ],
         "yaxis": "y2"
        },
        {
         "error_y": {
          "array": [
           3095.6625114869703,
           851.333539372472,
           564.2283736057069
          ],
          "color": "rgb(188, 189, 34)",
          "symmetric": true,
          "type": "data",
          "visible": true
         },
         "legendgroup": "640x480",
         "line": {
          "color": "rgb(188, 189, 34)"
         },
         "name": "640x480",
         "showlegend": false,
         "type": "scatter",
         "x": [
          0.5,
          1,
          2.5
         ],
         "xaxis": "x2",
         "y": [
          1624239.9964702623,
          396854.0723609279,
          61519.90999101764
         ],
         "yaxis": "y2"
        }
       ],
       "layout": {
        "annotations": [
         {
          "font": {
           "size": 16
          },
          "showarrow": false,
          "text": "Plane Fit Error Standard Deviation",
          "x": 0.225,
          "xanchor": "center",
          "xref": "paper",
          "y": 1,
          "yanchor": "bottom",
          "yref": "paper"
         },
         {
          "font": {
           "size": 16
          },
          "showarrow": false,
          "text": "Point Density",
          "x": 0.775,
          "xanchor": "center",
          "xref": "paper",
          "y": 1,
          "yanchor": "bottom",
          "yref": "paper"
         }
        ],
        "separators": ",.",
        "title": "Plan Fitting Near - Dataset 01",
        "xaxis1": {
         "anchor": "y1",
         "domain": [
          0,
          0.45
         ],
         "title": "Distance [m]"
        },
        "xaxis2": {
         "anchor": "y2",
         "domain": [
          0.55,
          1
         ],
         "title": "Distance [m]"
        },
        "yaxis1": {
         "anchor": "x1",
         "domain": [
          0,
          1
         ],
         "range": [
          0,
          7.3
         ],
         "title": "Error STD [mm]"
        },
        "yaxis2": {
         "anchor": "x2",
         "domain": [
          0,
          1
         ],
         "hoverformat": ",.2f",
         "tickformat": ",d",
         "title": "Point Density [p / m²]"
        }
       }
      },
      "text/html": [
       "<div id=\"6500777e-a68a-44eb-a9fd-8a77969c25a7\" style=\"height: 525px; width: 100%;\" class=\"plotly-graph-div\"></div><script type=\"text/javascript\">require([\"plotly\"], function(Plotly) { window.PLOTLYENV=window.PLOTLYENV || {};window.PLOTLYENV.BASE_URL=\"https://plot.ly\";Plotly.newPlot(\"6500777e-a68a-44eb-a9fd-8a77969c25a7\", [{\"type\": \"scatter\", \"x\": [0.5, 1.0, 2.5], \"y\": [0.15416528995124665, 0.5069540718138817, 2.1066578300924883], \"error_y\": {\"type\": \"data\", \"visible\": true, \"symmetric\": true, \"array\": [0.009469102807030465, 0.014116494274248844, 0.17615081949959338], \"color\": \"rgb(23, 190, 207)\"}, \"name\": \"1280x720\", \"legendgroup\": \"1280x720\", \"showlegend\": true, \"line\": {\"color\": \"rgb(23, 190, 207)\"}, \"xaxis\": \"x1\", \"yaxis\": \"y1\"}, {\"type\": \"scatter\", \"x\": [0.5, 1.0, 2.5], \"y\": [0.12096805372044853, 0.2801739465563014, 2.1538486419919893], \"error_y\": {\"type\": \"data\", \"visible\": true, \"symmetric\": true, \"array\": [0.0005690369434267008, 0.007062646649386873, 0.32160075758880546], \"color\": \"rgb(188, 189, 34)\"}, \"name\": \"640x480\", \"legendgroup\": \"640x480\", \"showlegend\": true, \"line\": {\"color\": \"rgb(188, 189, 34)\"}, \"xaxis\": \"x1\", \"yaxis\": \"y1\"}, {\"type\": \"scatter\", \"x\": [0.5, 1.0, 2.5], \"y\": [3658972.5542215556, 868710.9492420955, 139372.96903458363], \"error_y\": {\"type\": \"data\", \"visible\": true, \"symmetric\": true, \"array\": [64322.22816706037, 2918.8908760158256, 896.5041451056834], \"color\": \"rgb(23, 190, 207)\"}, \"name\": \"1280x720\", \"legendgroup\": \"1280x720\", \"showlegend\": false, \"line\": {\"color\": \"rgb(23, 190, 207)\"}, \"xaxis\": \"x2\", \"yaxis\": \"y2\"}, {\"type\": \"scatter\", \"x\": [0.5, 1.0, 2.5], \"y\": [1624239.9964702623, 396854.0723609279, 61519.90999101764], \"error_y\": {\"type\": \"data\", \"visible\": true, \"symmetric\": true, \"array\": [3095.6625114869703, 851.333539372472, 564.2283736057069], \"color\": \"rgb(188, 189, 34)\"}, \"name\": \"640x480\", \"legendgroup\": \"640x480\", \"showlegend\": false, \"line\": {\"color\": \"rgb(188, 189, 34)\"}, \"xaxis\": \"x2\", \"yaxis\": \"y2\"}], {\"xaxis1\": {\"domain\": [0.0, 0.45], \"anchor\": \"y1\", \"title\": \"Distance [m]\"}, \"yaxis1\": {\"domain\": [0.0, 1.0], \"anchor\": \"x1\", \"title\": \"Error STD [mm]\", \"range\": [0, 7.3]}, \"xaxis2\": {\"domain\": [0.55, 1.0], \"anchor\": \"y2\", \"title\": \"Distance [m]\"}, \"yaxis2\": {\"domain\": [0.0, 1.0], \"anchor\": \"x2\", \"title\": \"Point Density [p / m\\u00b2]\", \"tickformat\": \",d\", \"hoverformat\": \",.2f\"}, \"annotations\": [{\"y\": 1.0, \"xref\": \"paper\", \"x\": 0.225, \"yref\": \"paper\", \"text\": \"Plane Fit Error Standard Deviation\", \"showarrow\": false, \"font\": {\"size\": 16}, \"xanchor\": \"center\", \"yanchor\": \"bottom\"}, {\"y\": 1.0, \"xref\": \"paper\", \"x\": 0.775, \"yref\": \"paper\", \"text\": \"Point Density\", \"showarrow\": false, \"font\": {\"size\": 16}, \"xanchor\": \"center\", \"yanchor\": \"bottom\"}], \"title\": \"Plan Fitting Near - Dataset 01\", \"separators\": \",.\"}, {\"showLink\": true, \"linkText\": \"Export to plot.ly\"})});</script>"
      ],
      "text/vnd.plotly.v1+html": [
       "<div id=\"6500777e-a68a-44eb-a9fd-8a77969c25a7\" style=\"height: 525px; width: 100%;\" class=\"plotly-graph-div\"></div><script type=\"text/javascript\">require([\"plotly\"], function(Plotly) { window.PLOTLYENV=window.PLOTLYENV || {};window.PLOTLYENV.BASE_URL=\"https://plot.ly\";Plotly.newPlot(\"6500777e-a68a-44eb-a9fd-8a77969c25a7\", [{\"type\": \"scatter\", \"x\": [0.5, 1.0, 2.5], \"y\": [0.15416528995124665, 0.5069540718138817, 2.1066578300924883], \"error_y\": {\"type\": \"data\", \"visible\": true, \"symmetric\": true, \"array\": [0.009469102807030465, 0.014116494274248844, 0.17615081949959338], \"color\": \"rgb(23, 190, 207)\"}, \"name\": \"1280x720\", \"legendgroup\": \"1280x720\", \"showlegend\": true, \"line\": {\"color\": \"rgb(23, 190, 207)\"}, \"xaxis\": \"x1\", \"yaxis\": \"y1\"}, {\"type\": \"scatter\", \"x\": [0.5, 1.0, 2.5], \"y\": [0.12096805372044853, 0.2801739465563014, 2.1538486419919893], \"error_y\": {\"type\": \"data\", \"visible\": true, \"symmetric\": true, \"array\": [0.0005690369434267008, 0.007062646649386873, 0.32160075758880546], \"color\": \"rgb(188, 189, 34)\"}, \"name\": \"640x480\", \"legendgroup\": \"640x480\", \"showlegend\": true, \"line\": {\"color\": \"rgb(188, 189, 34)\"}, \"xaxis\": \"x1\", \"yaxis\": \"y1\"}, {\"type\": \"scatter\", \"x\": [0.5, 1.0, 2.5], \"y\": [3658972.5542215556, 868710.9492420955, 139372.96903458363], \"error_y\": {\"type\": \"data\", \"visible\": true, \"symmetric\": true, \"array\": [64322.22816706037, 2918.8908760158256, 896.5041451056834], \"color\": \"rgb(23, 190, 207)\"}, \"name\": \"1280x720\", \"legendgroup\": \"1280x720\", \"showlegend\": false, \"line\": {\"color\": \"rgb(23, 190, 207)\"}, \"xaxis\": \"x2\", \"yaxis\": \"y2\"}, {\"type\": \"scatter\", \"x\": [0.5, 1.0, 2.5], \"y\": [1624239.9964702623, 396854.0723609279, 61519.90999101764], \"error_y\": {\"type\": \"data\", \"visible\": true, \"symmetric\": true, \"array\": [3095.6625114869703, 851.333539372472, 564.2283736057069], \"color\": \"rgb(188, 189, 34)\"}, \"name\": \"640x480\", \"legendgroup\": \"640x480\", \"showlegend\": false, \"line\": {\"color\": \"rgb(188, 189, 34)\"}, \"xaxis\": \"x2\", \"yaxis\": \"y2\"}], {\"xaxis1\": {\"domain\": [0.0, 0.45], \"anchor\": \"y1\", \"title\": \"Distance [m]\"}, \"yaxis1\": {\"domain\": [0.0, 1.0], \"anchor\": \"x1\", \"title\": \"Error STD [mm]\", \"range\": [0, 7.3]}, \"xaxis2\": {\"domain\": [0.55, 1.0], \"anchor\": \"y2\", \"title\": \"Distance [m]\"}, \"yaxis2\": {\"domain\": [0.0, 1.0], \"anchor\": \"x2\", \"title\": \"Point Density [p / m\\u00b2]\", \"tickformat\": \",d\", \"hoverformat\": \",.2f\"}, \"annotations\": [{\"y\": 1.0, \"xref\": \"paper\", \"x\": 0.225, \"yref\": \"paper\", \"text\": \"Plane Fit Error Standard Deviation\", \"showarrow\": false, \"font\": {\"size\": 16}, \"xanchor\": \"center\", \"yanchor\": \"bottom\"}, {\"y\": 1.0, \"xref\": \"paper\", \"x\": 0.775, \"yref\": \"paper\", \"text\": \"Point Density\", \"showarrow\": false, \"font\": {\"size\": 16}, \"xanchor\": \"center\", \"yanchor\": \"bottom\"}], \"title\": \"Plan Fitting Near - Dataset 01\", \"separators\": \",.\"}, {\"showLink\": true, \"linkText\": \"Export to plot.ly\"})});</script>"
      ]
     },
     "metadata": {},
     "output_type": "display_data"
    }
   ],
   "source": [
    "plotPlaneData(pcDataNear01, 'Plan Fitting Near - Dataset 01')"
   ]
  },
  {
   "cell_type": "code",
   "execution_count": 9,
   "metadata": {
    "scrolled": false
   },
   "outputs": [
    {
     "data": {
      "application/vnd.plotly.v1+json": {
       "data": [
        {
         "error_y": {
          "array": [
           0.0005141893311430203,
           0.0029705961122272664,
           0.01015902842146566,
           0.09497483497121673,
           0.03446398066121659
          ],
          "color": "rgb(23, 190, 207)",
          "symmetric": true,
          "type": "data",
          "visible": true
         },
         "legendgroup": "1280x720",
         "line": {
          "color": "rgb(23, 190, 207)"
         },
         "name": "1280x720",
         "showlegend": true,
         "type": "scatter",
         "x": [
          0.5,
          1,
          1.5,
          2,
          2.5
         ],
         "xaxis": "x1",
         "y": [
          0.1792638150078968,
          0.5565176489108516,
          0.9797739754209092,
          2.1156201248586126,
          3.1035075852805116
         ],
         "yaxis": "y1"
        },
        {
         "error_y": {
          "array": [
           0.004939800237523966,
           0.01556701678229884,
           0.01884749426946134,
           0.008857563830982813,
           0.19601932047693008
          ],
          "color": "rgb(127, 127, 127)",
          "symmetric": true,
          "type": "data",
          "visible": true
         },
         "legendgroup": "640x480",
         "line": {
          "color": "rgb(127, 127, 127)"
         },
         "name": "640x480",
         "showlegend": true,
         "type": "scatter",
         "x": [
          0.5,
          1,
          1.5,
          2,
          2.5
         ],
         "xaxis": "x1",
         "y": [
          0.14408282007366485,
          0.443448516841522,
          0.6709901815431362,
          1.108129496684669,
          2.750866753055793
         ],
         "yaxis": "y1"
        },
        {
         "error_y": {
          "array": [
           0.003078582911928191,
           0.005425240587166708,
           0.24226435049711878,
           0.09256607000246762,
           1.5054923138797733
          ],
          "color": "rgb(188, 189, 34)",
          "symmetric": true,
          "type": "data",
          "visible": true
         },
         "legendgroup": "424x240",
         "line": {
          "color": "rgb(188, 189, 34)"
         },
         "name": "424x240",
         "showlegend": true,
         "type": "scatter",
         "x": [
          0.5,
          1,
          1.5,
          2,
          2.5
         ],
         "xaxis": "x1",
         "y": [
          0.1510494250241524,
          0.4130899384508978,
          1.2496610675026276,
          2.245558280862149,
          5.384982160803697
         ],
         "yaxis": "y1"
        },
        {
         "error_y": {
          "array": [
           9968.981054088685,
           2360.994847087904,
           1190.2758705859362,
           1172.6257078485223,
           706.272291640379
          ],
          "color": "rgb(23, 190, 207)",
          "symmetric": true,
          "type": "data",
          "visible": true
         },
         "legendgroup": "1280x720",
         "line": {
          "color": "rgb(23, 190, 207)"
         },
         "name": "1280x720",
         "showlegend": false,
         "type": "scatter",
         "x": [
          0.5,
          1,
          1.5,
          2,
          2.5
         ],
         "xaxis": "x2",
         "y": [
          3390254.1564901434,
          845080.9866612088,
          365102.6150367711,
          212002.56906434754,
          135038.09239680372
         ],
         "yaxis": "y2"
        },
        {
         "error_y": {
          "array": [
           7236.708418078156,
           347.0266663751046,
           498.1674100761517,
           178.20751531869954,
           389.8387031421152
          ],
          "color": "rgb(127, 127, 127)",
          "symmetric": true,
          "type": "data",
          "visible": true
         },
         "legendgroup": "640x480",
         "line": {
          "color": "rgb(127, 127, 127)"
         },
         "name": "640x480",
         "showlegend": false,
         "type": "scatter",
         "x": [
          0.5,
          1,
          1.5,
          2,
          2.5
         ],
         "xaxis": "x2",
         "y": [
          1517581.6226341065,
          383133.1235422313,
          169054.20456217258,
          93998.1063848555,
          60429.6272561669
         ],
         "yaxis": "y2"
        },
        {
         "error_y": {
          "array": [
           249.01551221853762,
           32.76143952652379,
           739.357047015562,
           121.29384332657744,
           689.0537390245117
          ],
          "color": "rgb(188, 189, 34)",
          "symmetric": true,
          "type": "data",
          "visible": true
         },
         "legendgroup": "424x240",
         "line": {
          "color": "rgb(188, 189, 34)"
         },
         "name": "424x240",
         "showlegend": false,
         "type": "scatter",
         "x": [
          0.5,
          1,
          1.5,
          2,
          2.5
         ],
         "xaxis": "x2",
         "y": [
          383165.6147030421,
          95866.2284593168,
          41131.5311253566,
          24040.574218882924,
          13893.665957434243
         ],
         "yaxis": "y2"
        }
       ],
       "layout": {
        "annotations": [
         {
          "font": {
           "size": 16
          },
          "showarrow": false,
          "text": "Plane Fit Error Standard Deviation",
          "x": 0.225,
          "xanchor": "center",
          "xref": "paper",
          "y": 1,
          "yanchor": "bottom",
          "yref": "paper"
         },
         {
          "font": {
           "size": 16
          },
          "showarrow": false,
          "text": "Point Density",
          "x": 0.775,
          "xanchor": "center",
          "xref": "paper",
          "y": 1,
          "yanchor": "bottom",
          "yref": "paper"
         }
        ],
        "separators": ",.",
        "title": "Plan Fitting Near - Dataset 02",
        "xaxis1": {
         "anchor": "y1",
         "domain": [
          0,
          0.45
         ],
         "title": "Distance [m]"
        },
        "xaxis2": {
         "anchor": "y2",
         "domain": [
          0.55,
          1
         ],
         "title": "Distance [m]"
        },
        "yaxis1": {
         "anchor": "x1",
         "domain": [
          0,
          1
         ],
         "range": [
          0,
          7.3
         ],
         "title": "Error STD [mm]"
        },
        "yaxis2": {
         "anchor": "x2",
         "domain": [
          0,
          1
         ],
         "hoverformat": ",.2f",
         "tickformat": ",d",
         "title": "Point Density [p / m²]"
        }
       }
      },
      "text/html": [
       "<div id=\"fdb5f75b-0b56-4dda-8604-1d0aa879b59d\" style=\"height: 525px; width: 100%;\" class=\"plotly-graph-div\"></div><script type=\"text/javascript\">require([\"plotly\"], function(Plotly) { window.PLOTLYENV=window.PLOTLYENV || {};window.PLOTLYENV.BASE_URL=\"https://plot.ly\";Plotly.newPlot(\"fdb5f75b-0b56-4dda-8604-1d0aa879b59d\", [{\"type\": \"scatter\", \"x\": [0.5, 1.0, 1.5, 2.0, 2.5], \"y\": [0.1792638150078968, 0.5565176489108516, 0.9797739754209092, 2.1156201248586126, 3.1035075852805116], \"error_y\": {\"type\": \"data\", \"visible\": true, \"symmetric\": true, \"array\": [0.0005141893311430203, 0.0029705961122272664, 0.01015902842146566, 0.09497483497121673, 0.03446398066121659], \"color\": \"rgb(23, 190, 207)\"}, \"name\": \"1280x720\", \"legendgroup\": \"1280x720\", \"showlegend\": true, \"line\": {\"color\": \"rgb(23, 190, 207)\"}, \"xaxis\": \"x1\", \"yaxis\": \"y1\"}, {\"type\": \"scatter\", \"x\": [0.5, 1.0, 1.5, 2.0, 2.5], \"y\": [0.14408282007366485, 0.443448516841522, 0.6709901815431362, 1.108129496684669, 2.750866753055793], \"error_y\": {\"type\": \"data\", \"visible\": true, \"symmetric\": true, \"array\": [0.004939800237523966, 0.01556701678229884, 0.01884749426946134, 0.008857563830982813, 0.19601932047693008], \"color\": \"rgb(127, 127, 127)\"}, \"name\": \"640x480\", \"legendgroup\": \"640x480\", \"showlegend\": true, \"line\": {\"color\": \"rgb(127, 127, 127)\"}, \"xaxis\": \"x1\", \"yaxis\": \"y1\"}, {\"type\": \"scatter\", \"x\": [0.5, 1.0, 1.5, 2.0, 2.5], \"y\": [0.1510494250241524, 0.4130899384508978, 1.2496610675026276, 2.245558280862149, 5.384982160803697], \"error_y\": {\"type\": \"data\", \"visible\": true, \"symmetric\": true, \"array\": [0.003078582911928191, 0.005425240587166708, 0.24226435049711878, 0.09256607000246762, 1.5054923138797733], \"color\": \"rgb(188, 189, 34)\"}, \"name\": \"424x240\", \"legendgroup\": \"424x240\", \"showlegend\": true, \"line\": {\"color\": \"rgb(188, 189, 34)\"}, \"xaxis\": \"x1\", \"yaxis\": \"y1\"}, {\"type\": \"scatter\", \"x\": [0.5, 1.0, 1.5, 2.0, 2.5], \"y\": [3390254.1564901434, 845080.9866612088, 365102.6150367711, 212002.56906434754, 135038.09239680372], \"error_y\": {\"type\": \"data\", \"visible\": true, \"symmetric\": true, \"array\": [9968.981054088685, 2360.994847087904, 1190.2758705859362, 1172.6257078485223, 706.272291640379], \"color\": \"rgb(23, 190, 207)\"}, \"name\": \"1280x720\", \"legendgroup\": \"1280x720\", \"showlegend\": false, \"line\": {\"color\": \"rgb(23, 190, 207)\"}, \"xaxis\": \"x2\", \"yaxis\": \"y2\"}, {\"type\": \"scatter\", \"x\": [0.5, 1.0, 1.5, 2.0, 2.5], \"y\": [1517581.6226341065, 383133.1235422313, 169054.20456217258, 93998.1063848555, 60429.6272561669], \"error_y\": {\"type\": \"data\", \"visible\": true, \"symmetric\": true, \"array\": [7236.708418078156, 347.0266663751046, 498.1674100761517, 178.20751531869954, 389.8387031421152], \"color\": \"rgb(127, 127, 127)\"}, \"name\": \"640x480\", \"legendgroup\": \"640x480\", \"showlegend\": false, \"line\": {\"color\": \"rgb(127, 127, 127)\"}, \"xaxis\": \"x2\", \"yaxis\": \"y2\"}, {\"type\": \"scatter\", \"x\": [0.5, 1.0, 1.5, 2.0, 2.5], \"y\": [383165.6147030421, 95866.2284593168, 41131.5311253566, 24040.574218882924, 13893.665957434243], \"error_y\": {\"type\": \"data\", \"visible\": true, \"symmetric\": true, \"array\": [249.01551221853762, 32.76143952652379, 739.357047015562, 121.29384332657744, 689.0537390245117], \"color\": \"rgb(188, 189, 34)\"}, \"name\": \"424x240\", \"legendgroup\": \"424x240\", \"showlegend\": false, \"line\": {\"color\": \"rgb(188, 189, 34)\"}, \"xaxis\": \"x2\", \"yaxis\": \"y2\"}], {\"xaxis1\": {\"domain\": [0.0, 0.45], \"anchor\": \"y1\", \"title\": \"Distance [m]\"}, \"yaxis1\": {\"domain\": [0.0, 1.0], \"anchor\": \"x1\", \"title\": \"Error STD [mm]\", \"range\": [0, 7.3]}, \"xaxis2\": {\"domain\": [0.55, 1.0], \"anchor\": \"y2\", \"title\": \"Distance [m]\"}, \"yaxis2\": {\"domain\": [0.0, 1.0], \"anchor\": \"x2\", \"title\": \"Point Density [p / m\\u00b2]\", \"tickformat\": \",d\", \"hoverformat\": \",.2f\"}, \"annotations\": [{\"y\": 1.0, \"xref\": \"paper\", \"x\": 0.225, \"yref\": \"paper\", \"text\": \"Plane Fit Error Standard Deviation\", \"showarrow\": false, \"font\": {\"size\": 16}, \"xanchor\": \"center\", \"yanchor\": \"bottom\"}, {\"y\": 1.0, \"xref\": \"paper\", \"x\": 0.775, \"yref\": \"paper\", \"text\": \"Point Density\", \"showarrow\": false, \"font\": {\"size\": 16}, \"xanchor\": \"center\", \"yanchor\": \"bottom\"}], \"title\": \"Plan Fitting Near - Dataset 02\", \"separators\": \",.\"}, {\"showLink\": true, \"linkText\": \"Export to plot.ly\"})});</script>"
      ],
      "text/vnd.plotly.v1+html": [
       "<div id=\"fdb5f75b-0b56-4dda-8604-1d0aa879b59d\" style=\"height: 525px; width: 100%;\" class=\"plotly-graph-div\"></div><script type=\"text/javascript\">require([\"plotly\"], function(Plotly) { window.PLOTLYENV=window.PLOTLYENV || {};window.PLOTLYENV.BASE_URL=\"https://plot.ly\";Plotly.newPlot(\"fdb5f75b-0b56-4dda-8604-1d0aa879b59d\", [{\"type\": \"scatter\", \"x\": [0.5, 1.0, 1.5, 2.0, 2.5], \"y\": [0.1792638150078968, 0.5565176489108516, 0.9797739754209092, 2.1156201248586126, 3.1035075852805116], \"error_y\": {\"type\": \"data\", \"visible\": true, \"symmetric\": true, \"array\": [0.0005141893311430203, 0.0029705961122272664, 0.01015902842146566, 0.09497483497121673, 0.03446398066121659], \"color\": \"rgb(23, 190, 207)\"}, \"name\": \"1280x720\", \"legendgroup\": \"1280x720\", \"showlegend\": true, \"line\": {\"color\": \"rgb(23, 190, 207)\"}, \"xaxis\": \"x1\", \"yaxis\": \"y1\"}, {\"type\": \"scatter\", \"x\": [0.5, 1.0, 1.5, 2.0, 2.5], \"y\": [0.14408282007366485, 0.443448516841522, 0.6709901815431362, 1.108129496684669, 2.750866753055793], \"error_y\": {\"type\": \"data\", \"visible\": true, \"symmetric\": true, \"array\": [0.004939800237523966, 0.01556701678229884, 0.01884749426946134, 0.008857563830982813, 0.19601932047693008], \"color\": \"rgb(127, 127, 127)\"}, \"name\": \"640x480\", \"legendgroup\": \"640x480\", \"showlegend\": true, \"line\": {\"color\": \"rgb(127, 127, 127)\"}, \"xaxis\": \"x1\", \"yaxis\": \"y1\"}, {\"type\": \"scatter\", \"x\": [0.5, 1.0, 1.5, 2.0, 2.5], \"y\": [0.1510494250241524, 0.4130899384508978, 1.2496610675026276, 2.245558280862149, 5.384982160803697], \"error_y\": {\"type\": \"data\", \"visible\": true, \"symmetric\": true, \"array\": [0.003078582911928191, 0.005425240587166708, 0.24226435049711878, 0.09256607000246762, 1.5054923138797733], \"color\": \"rgb(188, 189, 34)\"}, \"name\": \"424x240\", \"legendgroup\": \"424x240\", \"showlegend\": true, \"line\": {\"color\": \"rgb(188, 189, 34)\"}, \"xaxis\": \"x1\", \"yaxis\": \"y1\"}, {\"type\": \"scatter\", \"x\": [0.5, 1.0, 1.5, 2.0, 2.5], \"y\": [3390254.1564901434, 845080.9866612088, 365102.6150367711, 212002.56906434754, 135038.09239680372], \"error_y\": {\"type\": \"data\", \"visible\": true, \"symmetric\": true, \"array\": [9968.981054088685, 2360.994847087904, 1190.2758705859362, 1172.6257078485223, 706.272291640379], \"color\": \"rgb(23, 190, 207)\"}, \"name\": \"1280x720\", \"legendgroup\": \"1280x720\", \"showlegend\": false, \"line\": {\"color\": \"rgb(23, 190, 207)\"}, \"xaxis\": \"x2\", \"yaxis\": \"y2\"}, {\"type\": \"scatter\", \"x\": [0.5, 1.0, 1.5, 2.0, 2.5], \"y\": [1517581.6226341065, 383133.1235422313, 169054.20456217258, 93998.1063848555, 60429.6272561669], \"error_y\": {\"type\": \"data\", \"visible\": true, \"symmetric\": true, \"array\": [7236.708418078156, 347.0266663751046, 498.1674100761517, 178.20751531869954, 389.8387031421152], \"color\": \"rgb(127, 127, 127)\"}, \"name\": \"640x480\", \"legendgroup\": \"640x480\", \"showlegend\": false, \"line\": {\"color\": \"rgb(127, 127, 127)\"}, \"xaxis\": \"x2\", \"yaxis\": \"y2\"}, {\"type\": \"scatter\", \"x\": [0.5, 1.0, 1.5, 2.0, 2.5], \"y\": [383165.6147030421, 95866.2284593168, 41131.5311253566, 24040.574218882924, 13893.665957434243], \"error_y\": {\"type\": \"data\", \"visible\": true, \"symmetric\": true, \"array\": [249.01551221853762, 32.76143952652379, 739.357047015562, 121.29384332657744, 689.0537390245117], \"color\": \"rgb(188, 189, 34)\"}, \"name\": \"424x240\", \"legendgroup\": \"424x240\", \"showlegend\": false, \"line\": {\"color\": \"rgb(188, 189, 34)\"}, \"xaxis\": \"x2\", \"yaxis\": \"y2\"}], {\"xaxis1\": {\"domain\": [0.0, 0.45], \"anchor\": \"y1\", \"title\": \"Distance [m]\"}, \"yaxis1\": {\"domain\": [0.0, 1.0], \"anchor\": \"x1\", \"title\": \"Error STD [mm]\", \"range\": [0, 7.3]}, \"xaxis2\": {\"domain\": [0.55, 1.0], \"anchor\": \"y2\", \"title\": \"Distance [m]\"}, \"yaxis2\": {\"domain\": [0.0, 1.0], \"anchor\": \"x2\", \"title\": \"Point Density [p / m\\u00b2]\", \"tickformat\": \",d\", \"hoverformat\": \",.2f\"}, \"annotations\": [{\"y\": 1.0, \"xref\": \"paper\", \"x\": 0.225, \"yref\": \"paper\", \"text\": \"Plane Fit Error Standard Deviation\", \"showarrow\": false, \"font\": {\"size\": 16}, \"xanchor\": \"center\", \"yanchor\": \"bottom\"}, {\"y\": 1.0, \"xref\": \"paper\", \"x\": 0.775, \"yref\": \"paper\", \"text\": \"Point Density\", \"showarrow\": false, \"font\": {\"size\": 16}, \"xanchor\": \"center\", \"yanchor\": \"bottom\"}], \"title\": \"Plan Fitting Near - Dataset 02\", \"separators\": \",.\"}, {\"showLink\": true, \"linkText\": \"Export to plot.ly\"})});</script>"
      ]
     },
     "metadata": {},
     "output_type": "display_data"
    }
   ],
   "source": [
    "plotPlaneData(pcDataNear02, 'Plan Fitting Near - Dataset 02')"
   ]
  },
  {
   "cell_type": "markdown",
   "metadata": {},
   "source": [
    "Large divergence for different resolutions results in different aspect ratio. Apparently, the device just defines a region of interest for out of the full resolution depth map. This results in lesser artifacts in the corners."
   ]
  },
  {
   "cell_type": "code",
   "execution_count": 10,
   "metadata": {},
   "outputs": [
    {
     "data": {
      "application/vnd.plotly.v1+json": {
       "data": [
        {
         "error_y": {
          "array": [
           0.2704914737223889,
           0.25009803088123067,
           0.6550682941640584
          ],
          "color": "rgb(23, 190, 207)",
          "symmetric": true,
          "type": "data",
          "visible": true
         },
         "legendgroup": "1280x720",
         "line": {
          "color": "rgb(23, 190, 207)"
         },
         "name": "1280x720",
         "showlegend": true,
         "type": "scatter",
         "x": [
          5,
          7.5,
          10
         ],
         "xaxis": "x1",
         "y": [
          6.985786976392424,
          19.284094429521097,
          25.281845882323204
         ],
         "yaxis": "y1"
        },
        {
         "error_y": {
          "array": [
           0.3399574038945855,
           1.014249170756184,
           0.5688793202160497
          ],
          "color": "rgb(188, 189, 34)",
          "symmetric": true,
          "type": "data",
          "visible": true
         },
         "legendgroup": "640x480",
         "line": {
          "color": "rgb(188, 189, 34)"
         },
         "name": "640x480",
         "showlegend": true,
         "type": "scatter",
         "x": [
          5,
          7.5,
          10
         ],
         "xaxis": "x1",
         "y": [
          5.770957176845359,
          18.29638006695774,
          25.389003293710648
         ],
         "yaxis": "y1"
        },
        {
         "error_y": {
          "array": [
           150.65013631166119,
           734.3206671635902,
           303.77551832680166
          ],
          "color": "rgb(23, 190, 207)",
          "symmetric": true,
          "type": "data",
          "visible": true
         },
         "legendgroup": "1280x720",
         "line": {
          "color": "rgb(23, 190, 207)"
         },
         "name": "1280x720",
         "showlegend": false,
         "type": "scatter",
         "x": [
          5,
          7.5,
          10
         ],
         "xaxis": "x2",
         "y": [
          32696.45435507126,
          5029.524437781014,
          1777.856195816219
         ],
         "yaxis": "y2"
        },
        {
         "error_y": {
          "array": [
           120.91851126929798,
           334.02472028344533,
           158.37485125416484
          ],
          "color": "rgb(188, 189, 34)",
          "symmetric": true,
          "type": "data",
          "visible": true
         },
         "legendgroup": "640x480",
         "line": {
          "color": "rgb(188, 189, 34)"
         },
         "name": "640x480",
         "showlegend": false,
         "type": "scatter",
         "x": [
          5,
          7.5,
          10
         ],
         "xaxis": "x2",
         "y": [
          14808.770595955288,
          2611.3931105111865,
          958.0057264594418
         ],
         "yaxis": "y2"
        }
       ],
       "layout": {
        "annotations": [
         {
          "font": {
           "size": 16
          },
          "showarrow": false,
          "text": "Plane Fit Error Standard Deviation",
          "x": 0.225,
          "xanchor": "center",
          "xref": "paper",
          "y": 1,
          "yanchor": "bottom",
          "yref": "paper"
         },
         {
          "font": {
           "size": 16
          },
          "showarrow": false,
          "text": "Point Density",
          "x": 0.775,
          "xanchor": "center",
          "xref": "paper",
          "y": 1,
          "yanchor": "bottom",
          "yref": "paper"
         }
        ],
        "separators": ",.",
        "title": "Plan Fitting Far - Dataset 01",
        "xaxis1": {
         "anchor": "y1",
         "domain": [
          0,
          0.45
         ],
         "title": "Distance [m]"
        },
        "xaxis2": {
         "anchor": "y2",
         "domain": [
          0.55,
          1
         ],
         "title": "Distance [m]"
        },
        "yaxis1": {
         "anchor": "x1",
         "domain": [
          0,
          1
         ],
         "range": [
          0,
          26.118629232039087
         ],
         "title": "Error STD [mm]"
        },
        "yaxis2": {
         "anchor": "x2",
         "domain": [
          0,
          1
         ],
         "hoverformat": ",.2f",
         "tickformat": ",d",
         "title": "Point Density [p / m²]"
        }
       }
      },
      "text/html": [
       "<div id=\"37ed4402-a181-4406-89ba-3d3f91d29c5d\" style=\"height: 525px; width: 100%;\" class=\"plotly-graph-div\"></div><script type=\"text/javascript\">require([\"plotly\"], function(Plotly) { window.PLOTLYENV=window.PLOTLYENV || {};window.PLOTLYENV.BASE_URL=\"https://plot.ly\";Plotly.newPlot(\"37ed4402-a181-4406-89ba-3d3f91d29c5d\", [{\"type\": \"scatter\", \"x\": [5.0, 7.5, 10.0], \"y\": [6.985786976392424, 19.284094429521097, 25.281845882323204], \"error_y\": {\"type\": \"data\", \"visible\": true, \"symmetric\": true, \"array\": [0.2704914737223889, 0.25009803088123067, 0.6550682941640584], \"color\": \"rgb(23, 190, 207)\"}, \"name\": \"1280x720\", \"legendgroup\": \"1280x720\", \"showlegend\": true, \"line\": {\"color\": \"rgb(23, 190, 207)\"}, \"xaxis\": \"x1\", \"yaxis\": \"y1\"}, {\"type\": \"scatter\", \"x\": [5.0, 7.5, 10.0], \"y\": [5.770957176845359, 18.29638006695774, 25.389003293710648], \"error_y\": {\"type\": \"data\", \"visible\": true, \"symmetric\": true, \"array\": [0.3399574038945855, 1.014249170756184, 0.5688793202160497], \"color\": \"rgb(188, 189, 34)\"}, \"name\": \"640x480\", \"legendgroup\": \"640x480\", \"showlegend\": true, \"line\": {\"color\": \"rgb(188, 189, 34)\"}, \"xaxis\": \"x1\", \"yaxis\": \"y1\"}, {\"type\": \"scatter\", \"x\": [5.0, 7.5, 10.0], \"y\": [32696.45435507126, 5029.524437781014, 1777.856195816219], \"error_y\": {\"type\": \"data\", \"visible\": true, \"symmetric\": true, \"array\": [150.65013631166119, 734.3206671635902, 303.77551832680166], \"color\": \"rgb(23, 190, 207)\"}, \"name\": \"1280x720\", \"legendgroup\": \"1280x720\", \"showlegend\": false, \"line\": {\"color\": \"rgb(23, 190, 207)\"}, \"xaxis\": \"x2\", \"yaxis\": \"y2\"}, {\"type\": \"scatter\", \"x\": [5.0, 7.5, 10.0], \"y\": [14808.770595955288, 2611.3931105111865, 958.0057264594418], \"error_y\": {\"type\": \"data\", \"visible\": true, \"symmetric\": true, \"array\": [120.91851126929798, 334.02472028344533, 158.37485125416484], \"color\": \"rgb(188, 189, 34)\"}, \"name\": \"640x480\", \"legendgroup\": \"640x480\", \"showlegend\": false, \"line\": {\"color\": \"rgb(188, 189, 34)\"}, \"xaxis\": \"x2\", \"yaxis\": \"y2\"}], {\"xaxis1\": {\"domain\": [0.0, 0.45], \"anchor\": \"y1\", \"title\": \"Distance [m]\"}, \"yaxis1\": {\"domain\": [0.0, 1.0], \"anchor\": \"x1\", \"title\": \"Error STD [mm]\", \"range\": [0, 26.118629232039087]}, \"xaxis2\": {\"domain\": [0.55, 1.0], \"anchor\": \"y2\", \"title\": \"Distance [m]\"}, \"yaxis2\": {\"domain\": [0.0, 1.0], \"anchor\": \"x2\", \"title\": \"Point Density [p / m\\u00b2]\", \"tickformat\": \",d\", \"hoverformat\": \",.2f\"}, \"annotations\": [{\"y\": 1.0, \"xref\": \"paper\", \"x\": 0.225, \"yref\": \"paper\", \"text\": \"Plane Fit Error Standard Deviation\", \"showarrow\": false, \"font\": {\"size\": 16}, \"xanchor\": \"center\", \"yanchor\": \"bottom\"}, {\"y\": 1.0, \"xref\": \"paper\", \"x\": 0.775, \"yref\": \"paper\", \"text\": \"Point Density\", \"showarrow\": false, \"font\": {\"size\": 16}, \"xanchor\": \"center\", \"yanchor\": \"bottom\"}], \"title\": \"Plan Fitting Far - Dataset 01\", \"separators\": \",.\"}, {\"showLink\": true, \"linkText\": \"Export to plot.ly\"})});</script>"
      ],
      "text/vnd.plotly.v1+html": [
       "<div id=\"37ed4402-a181-4406-89ba-3d3f91d29c5d\" style=\"height: 525px; width: 100%;\" class=\"plotly-graph-div\"></div><script type=\"text/javascript\">require([\"plotly\"], function(Plotly) { window.PLOTLYENV=window.PLOTLYENV || {};window.PLOTLYENV.BASE_URL=\"https://plot.ly\";Plotly.newPlot(\"37ed4402-a181-4406-89ba-3d3f91d29c5d\", [{\"type\": \"scatter\", \"x\": [5.0, 7.5, 10.0], \"y\": [6.985786976392424, 19.284094429521097, 25.281845882323204], \"error_y\": {\"type\": \"data\", \"visible\": true, \"symmetric\": true, \"array\": [0.2704914737223889, 0.25009803088123067, 0.6550682941640584], \"color\": \"rgb(23, 190, 207)\"}, \"name\": \"1280x720\", \"legendgroup\": \"1280x720\", \"showlegend\": true, \"line\": {\"color\": \"rgb(23, 190, 207)\"}, \"xaxis\": \"x1\", \"yaxis\": \"y1\"}, {\"type\": \"scatter\", \"x\": [5.0, 7.5, 10.0], \"y\": [5.770957176845359, 18.29638006695774, 25.389003293710648], \"error_y\": {\"type\": \"data\", \"visible\": true, \"symmetric\": true, \"array\": [0.3399574038945855, 1.014249170756184, 0.5688793202160497], \"color\": \"rgb(188, 189, 34)\"}, \"name\": \"640x480\", \"legendgroup\": \"640x480\", \"showlegend\": true, \"line\": {\"color\": \"rgb(188, 189, 34)\"}, \"xaxis\": \"x1\", \"yaxis\": \"y1\"}, {\"type\": \"scatter\", \"x\": [5.0, 7.5, 10.0], \"y\": [32696.45435507126, 5029.524437781014, 1777.856195816219], \"error_y\": {\"type\": \"data\", \"visible\": true, \"symmetric\": true, \"array\": [150.65013631166119, 734.3206671635902, 303.77551832680166], \"color\": \"rgb(23, 190, 207)\"}, \"name\": \"1280x720\", \"legendgroup\": \"1280x720\", \"showlegend\": false, \"line\": {\"color\": \"rgb(23, 190, 207)\"}, \"xaxis\": \"x2\", \"yaxis\": \"y2\"}, {\"type\": \"scatter\", \"x\": [5.0, 7.5, 10.0], \"y\": [14808.770595955288, 2611.3931105111865, 958.0057264594418], \"error_y\": {\"type\": \"data\", \"visible\": true, \"symmetric\": true, \"array\": [120.91851126929798, 334.02472028344533, 158.37485125416484], \"color\": \"rgb(188, 189, 34)\"}, \"name\": \"640x480\", \"legendgroup\": \"640x480\", \"showlegend\": false, \"line\": {\"color\": \"rgb(188, 189, 34)\"}, \"xaxis\": \"x2\", \"yaxis\": \"y2\"}], {\"xaxis1\": {\"domain\": [0.0, 0.45], \"anchor\": \"y1\", \"title\": \"Distance [m]\"}, \"yaxis1\": {\"domain\": [0.0, 1.0], \"anchor\": \"x1\", \"title\": \"Error STD [mm]\", \"range\": [0, 26.118629232039087]}, \"xaxis2\": {\"domain\": [0.55, 1.0], \"anchor\": \"y2\", \"title\": \"Distance [m]\"}, \"yaxis2\": {\"domain\": [0.0, 1.0], \"anchor\": \"x2\", \"title\": \"Point Density [p / m\\u00b2]\", \"tickformat\": \",d\", \"hoverformat\": \",.2f\"}, \"annotations\": [{\"y\": 1.0, \"xref\": \"paper\", \"x\": 0.225, \"yref\": \"paper\", \"text\": \"Plane Fit Error Standard Deviation\", \"showarrow\": false, \"font\": {\"size\": 16}, \"xanchor\": \"center\", \"yanchor\": \"bottom\"}, {\"y\": 1.0, \"xref\": \"paper\", \"x\": 0.775, \"yref\": \"paper\", \"text\": \"Point Density\", \"showarrow\": false, \"font\": {\"size\": 16}, \"xanchor\": \"center\", \"yanchor\": \"bottom\"}], \"title\": \"Plan Fitting Far - Dataset 01\", \"separators\": \",.\"}, {\"showLink\": true, \"linkText\": \"Export to plot.ly\"})});</script>"
      ]
     },
     "metadata": {},
     "output_type": "display_data"
    }
   ],
   "source": [
    "plotPlaneData(pcDataFar02, 'Plan Fitting Far - Dataset 01')"
   ]
  },
  {
   "cell_type": "markdown",
   "metadata": {},
   "source": [
    "The error values and plots tend to show an improvement for increasing distance again. This is against intuitive belief. Further digging in the data reveal that the error in this distances is so large, the plane is fittet completely wrong. One could account for that by increasing the area of the target plane in the image. Due to limitations in our experiment setup, we couldn't find a large enough plane which still fitted indoors to cover the whole field of view at a distance of 10 meters."
   ]
  },
  {
   "cell_type": "code",
   "execution_count": null,
   "metadata": {},
   "outputs": [],
   "source": [
    "filt = FilterPointCloud.parseFilters([\n",
    "    'x>-0.7188',\n",
    "    'x<1.26',\n",
    "    'y>-0.88',\n",
    "])\n",
    "ply = PLYObject.PLYObject(r'RealSense-D415-Data-02-Near\\Laser\\RealSense-D415-Plane-2.5m-424x240-6-Laser\\1.pointcloud.ply')\n",
    "fply = FilterPointCloud.filterPLYObject(ply, filt)\n",
    "\n",
    "vert = ply.getVertices()\n",
    "fvert = fply.getVertices()\n",
    "\n",
    "data = [\n",
    "    ptygo.Scatter3d(\n",
    "        x=fvert[0],\n",
    "        y=fvert[1],\n",
    "        z=fvert[2],\n",
    "        mode='markers',\n",
    "        marker=dict(\n",
    "            size=1,\n",
    "            opacity=0.7,\n",
    "        ),\n",
    "    )\n",
    "]\n",
    "pty.iplot(data)"
   ]
  },
  {
   "cell_type": "code",
   "execution_count": null,
   "metadata": {
    "scrolled": false
   },
   "outputs": [],
   "source": [
    "data = [\n",
    "    ptygo.Scatter3d(\n",
    "        x=vert[0],\n",
    "        y=vert[1],\n",
    "        z=vert[2],\n",
    "        mode='markers',\n",
    "        marker=dict(\n",
    "            size=1,\n",
    "            opacity=0.7,\n",
    "        ),\n",
    "    )\n",
    "]\n",
    "pty.iplot(data)"
   ]
  }
 ],
 "metadata": {
  "kernelspec": {
   "display_name": "Python 3",
   "language": "python",
   "name": "python3"
  },
  "language_info": {
   "codemirror_mode": {
    "name": "ipython",
    "version": 3
   },
   "file_extension": ".py",
   "mimetype": "text/x-python",
   "name": "python",
   "nbconvert_exporter": "python",
   "pygments_lexer": "ipython3",
   "version": "3.7.0"
  }
 },
 "nbformat": 4,
 "nbformat_minor": 2
}
