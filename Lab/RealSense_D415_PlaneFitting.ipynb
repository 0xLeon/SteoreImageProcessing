{
 "cells": [
  {
   "cell_type": "code",
   "execution_count": 1,
   "metadata": {},
   "outputs": [
    {
     "data": {
      "text/html": [
       "<script>requirejs.config({paths: { 'plotly': ['https://cdn.plot.ly/plotly-latest.min']},});if(!window.Plotly) {{require(['plotly'],function(plotly) {window.Plotly=plotly;});}}</script>"
      ],
      "text/vnd.plotly.v1+html": [
       "<script>requirejs.config({paths: { 'plotly': ['https://cdn.plot.ly/plotly-latest.min']},});if(!window.Plotly) {{require(['plotly'],function(plotly) {window.Plotly=plotly;});}}</script>"
      ]
     },
     "metadata": {},
     "output_type": "display_data"
    }
   ],
   "source": [
    "import copy\n",
    "import itertools\n",
    "\n",
    "import matplotlib.pyplot as plt\n",
    "import numpy as np\n",
    "import plotly.offline as pty\n",
    "import plotly.graph_objs as ptygo\n",
    "import plotly.grid_objs as ptygr\n",
    "import plotly.tools as ptytools\n",
    "import scipy.stats as st\n",
    "\n",
    "import FilterPointCloud\n",
    "import ProcessPlanePointCloud\n",
    "import PLYObject\n",
    "\n",
    "pty.init_notebook_mode(connected=True)"
   ]
  },
  {
   "cell_type": "code",
   "execution_count": 2,
   "metadata": {
    "scrolled": true
   },
   "outputs": [
    {
     "name": "stdout",
     "output_type": "stream",
     "text": [
      "Processing folder RealSense-D415-Plane-0.5m-1280x720-6-Laser\n",
      "Filters: []\n",
      "n = 4\n",
      "e = [0.0012727427970869217, 0.0011975697795350208, 0.0012006033992579541, 0.001187259202670105]\n",
      "d = [3599376.619869466, 3673032.532764292, 3674125.8279104563, 3689355.221976535]\n",
      "\n",
      "Processing folder RealSense-D415-Plane-0.5m-640x480-6-Laser\n",
      "Filters: []\n",
      "n = 5\n",
      "e = [0.0009796295997246296, 0.0009964414797781294, 0.0009896044594917145, 0.000992709157150387, 0.000984501569741538]\n",
      "d = [1620227.25906803, 1625838.291950744, 1625583.7795994848, 1623391.8546215848, 1626158.7745715436]\n",
      "\n",
      "Processing folder RealSense-D415-Plane-1.0m-1280x720-6-Laser\n",
      "Filters: []\n",
      "n = 5\n",
      "e = [0.004171541094055333, 0.003960588507395946, 0.003925371093276734, 0.003885050631728354, 0.00388607937705456]\n",
      "d = [871253.1860691312, 869398.9870511761, 866467.4519292725, 866021.1612864289, 870413.9586669243]\n",
      "\n",
      "Processing folder RealSense-D415-Plane-1.0m-640x480-6-Laser\n",
      "Filters: []\n",
      "n = 5\n",
      "e = [0.0022913486439486543, 0.0022044379996637564, 0.002246465024864696, 0.0022052900758921853, 0.0022159824300076215]\n",
      "d = [395881.40527148644, 397576.46434991976, 396736.42108981527, 396631.25218330254, 397444.81942769734]\n",
      "\n",
      "Processing folder RealSense-D415-Plane-2.5m-1280x720-6-Laser\n",
      "Filters: [X>-1.1279, X<1.1447, Y<0.5800]\n",
      "n = 5\n",
      "e = [0.014452994959009258, 0.016810455343600685, 0.01724484961120603, 0.01663828106748158, 0.017326715325136778]\n",
      "d = [140645.1319339845, 139189.24826411132, 138929.07515326657, 139169.70735542197, 138931.68367172626]\n",
      "\n",
      "Processing folder RealSense-D415-Plane-2.5m-640x480-6-Laser\n",
      "Filters: [X>-1.1279, X<1.1447, Y<0.5800]\n",
      "n = 5\n",
      "e = [0.013485860328152384, 0.017033615259318267, 0.018200382741222675, 0.016977448408595813, 0.01751544654823559]\n",
      "d = [62309.47008843983, 61435.288142077305, 61352.64373110035, 61358.019864990565, 61144.12720941858]\n",
      "\n"
     ]
    }
   ],
   "source": [
    "pcDataNear01 = ProcessPlanePointCloud.main('RealSense-D415-Data-Near-01/Laser/', {\n",
    "    2.5: [\n",
    "        'x>-1.1279',\n",
    "        'x<1.1447',\n",
    "        'y<0.58',\n",
    "    ]\n",
    "})"
   ]
  },
  {
   "cell_type": "code",
   "execution_count": 3,
   "metadata": {
    "scrolled": true
   },
   "outputs": [
    {
     "name": "stdout",
     "output_type": "stream",
     "text": [
      "Processing folder RealSense-D415-Plane-0.5m-1280x720-6-Laser\n",
      "Filters: []\n",
      "n = 10\n",
      "e = [0.0013949282846405099, 0.0014255667818444935, 0.0014325423673505389, 0.0014249098368084682, 0.0014376534404692038, 0.0014199174900371028, 0.0014235299280021107, 0.001417973097314473, 0.0014206602575285254, 0.0014177412227963555]\n",
      "d = [3356355.6655129916, 3405366.25660316, 3382880.30562966, 3396178.8363245046, 3390913.001814651, 3393509.275090769, 3405477.7964412873, 3386404.7929691626, 3390380.075048211, 3395075.5521768196]\n",
      "\n",
      "Processing folder RealSense-D415-Plane-0.5m-424x240-6-Laser\n",
      "Filters: []\n",
      "n = 10\n",
      "e = [0.0011942177632391338, 0.0011666440278936096, 0.001156463514746301, 0.0011361367754140004, 0.0011375162556094601, 0.0011248299692693765, 0.0011350272066243557, 0.0011445644429309858, 0.0011324191197371733, 0.0011203389229926092]\n",
      "d = [382867.725027019, 383337.8710543845, 383505.1233345482, 383339.0971988286, 382607.2879539325, 383328.18363252695, 383189.1568733283, 383657.0026623556, 383155.5853491262, 382669.1134267331]\n",
      "\n",
      "Processing folder RealSense-D415-Plane-0.5m-640x480-6-Laser\n",
      "Filters: []\n",
      "n = 10\n",
      "e = [0.0013330283468867906, 0.0011524079117391597, 0.001117232213587379, 0.0010958320153499706, 0.0010902698750590682, 0.0011260806935168598, 0.0011474792067165725, 0.0011438837788958457, 0.0011637180235550763, 0.0011535798468263825]\n",
      "d = [1507689.329621494, 1528576.4878655784, 1528908.9051529765, 1526683.9949341542, 1528432.7692992296, 1512564.2455013106, 1518968.0216603111, 1507582.4394311444, 1514140.8214848477, 1502269.210617632]\n",
      "\n",
      "Processing folder RealSense-D415-Plane-1.0m-1280x720-6-Laser\n",
      "Filters: []\n",
      "n = 10\n",
      "e = [0.004414428019391618, 0.004420059821585408, 0.004425558762863378, 0.004445508477305687, 0.004431461949312601, 0.004413940055316684, 0.004415051300936097, 0.0044774829657118174, 0.0043991926699718, 0.004413952380971586]\n",
      "d = [849520.8377869278, 846740.7993946269, 840188.6498542924, 843688.203147941, 844237.762440215, 847466.3558949956, 845994.5944814893, 847200.2283867196, 846650.0814544397, 839122.3512531689]\n",
      "\n",
      "Processing folder RealSense-D415-Plane-1.0m-424x240-6-Laser\n",
      "Filters: []\n",
      "n = 10\n",
      "e = [0.0033603511293658133, 0.0032509622272879103, 0.0032991131931222146, 0.0032741454378664853, 0.0032574512384768916, 0.0032469366434144014, 0.0032564177583934203, 0.0032578793089603837, 0.0032624394669009717, 0.003235451975030726]\n",
      "d = [95807.80163817905, 95829.94339651088, 95815.13577764941, 95910.26156405715, 95867.7937476824, 95869.86498570352, 95830.55836184142, 95874.23665828917, 95944.5922303864, 95912.09620143835]\n",
      "\n",
      "Processing folder RealSense-D415-Plane-1.0m-640x480-6-Laser\n",
      "Filters: []\n",
      "n = 10\n",
      "e = [0.004098700782298514, 0.0035820113639989087, 0.0034976944701698605, 0.003472020181490678, 0.0034413014211542203, 0.003477482252565118, 0.0034828472607466134, 0.0034656406523175054, 0.003457442104984982, 0.0034466290898149286]\n",
      "d = [381879.1838611601, 383595.8141272871, 383197.168448223, 383295.30232274113, 383390.6298924789, 383222.386724665, 383072.9300113964, 383381.6945844311, 383431.7862883091, 382864.33909084287]\n",
      "\n",
      "Processing folder RealSense-D415-Plane-1.5m-1280x720-6-Laser\n",
      "Filters: []\n",
      "n = 10\n",
      "e = [0.007834679873638213, 0.007523695033253106, 0.007475449800586982, 0.007541702510707146, 0.00740558218393281, 0.007419852613532801, 0.00740124367442662, 0.007498231632329055, 0.007533337232203473, 0.007409221425918838]\n",
      "d = [366105.4594232498, 363421.2724975901, 365524.7578826644, 366200.151673193, 365387.58990074176, 366424.07012079854, 363548.84637697955, 367898.24591162876, 363905.21402400103, 362610.54243764543]\n",
      "\n",
      "Processing folder RealSense-D415-Plane-1.5m-424x240-6-Laser\n",
      "Filters: []\n",
      "n = 10\n",
      "e = [0.009943988551958799, 0.008276424459825982, 0.0078650044805465, 0.007292291541600895, 0.007423817599633486, 0.0074301684970269856, 0.007617409536975485, 0.007746766672213147, 0.012569569627143519, 0.013479990428461758]\n",
      "d = [41690.29578105964, 41878.39037501634, 41608.877978305616, 41760.4651273053, 41379.100483062364, 41522.44892326561, 41348.54538214976, 41685.75062187028, 39574.140136932794, 38867.295204498485]\n",
      "\n",
      "Processing folder RealSense-D415-Plane-1.5m-640x480-6-Laser\n",
      "Filters: []\n",
      "n = 10\n",
      "e = [0.005492034473086223, 0.005268976977867674, 0.0052598289953893086, 0.005438101842348222, 0.005204278867407343, 0.004804753849414638, 0.005335768657660261, 0.005379336338625758, 0.005320502508958623, 0.005357340345804693]\n",
      "d = [169699.27769558903, 168801.78253309248, 168732.22768461425, 167822.94131833874, 167964.39383557765, 169687.62673837677, 169577.75609928562, 169373.60124900923, 169457.4176728084, 169425.0207692055]\n",
      "\n",
      "Processing folder RealSense-D415-Plane-2.0m-1280x720-6-Laser\n",
      "Filters: [X>-0.9250, X<1.0220]\n",
      "n = 10\n",
      "e = [0.01264797360479773, 0.014408608242344956, 0.0142497436672933, 0.014343133489657201, 0.015063348890687835, 0.014494566355460916, 0.014552874648227727, 0.014408740347321031, 0.014595507031510753, 0.014454898945632365]\n",
      "d = [212857.1298033237, 211402.06787896206, 210306.6932349817, 210605.4913490351, 209662.90399935725, 211446.60702676096, 209816.01263857534, 207638.32645690365, 211290.37352067608, 210511.33042371072]\n",
      "\n",
      "Processing folder RealSense-D415-Plane-2.0m-424x240-6-Laser\n",
      "Filters: [X>-0.9250, X<1.0220]\n",
      "n = 10\n",
      "e = [0.013467243912684727, 0.016699124179210253, 0.016882214161906262, 0.01734741385539649, 0.0169682196808456, 0.017165909043344522, 0.017317034526433045, 0.01727944831007268, 0.017108626495514673, 0.017545025653482677]\n",
      "d = [24267.534545089504, 23779.96146759125, 23726.94879399047, 23721.197710251807, 23716.461329064834, 23633.680430197157, 23606.639688666426, 23668.648486390433, 23694.695455426096, 23582.604488060042]\n",
      "\n",
      "Processing folder RealSense-D415-Plane-2.0m-640x480-6-Laser\n",
      "Filters: [X>-0.9250, X<1.0220]\n",
      "n = 10\n",
      "e = [0.008631314437205068, 0.008697113231716444, 0.008672681706701713, 0.008668948059554154, 0.00885282530515837, 0.008778026487082218, 0.008752970435505636, 0.008667540158606253, 0.00863573934463868, 0.00849112010010606]\n",
      "d = [95532.62405426586, 95105.76190439942, 95087.98768551406, 94679.75383710404, 94969.43516819327, 94818.02403498467, 94708.65681923738, 94897.88046586994, 94949.31098563941, 94866.21368824074]\n",
      "\n",
      "Processing folder RealSense-D415-Plane-2.5m-1280x720-6-Laser\n",
      "Filters: [X>-0.6950, X<1.2600, Y>-0.8800]\n",
      "n = 10\n",
      "e = [0.023748624181996716, 0.023895569682962754, 0.02413872559276903, 0.024568546367685965, 0.02432431613313648, 0.024134914790832327, 0.02358903053721144, 0.023994756998915012, 0.02365650175154964, 0.024564729192231644]\n",
      "d = [136948.0293256012, 136345.16107765312, 134511.11419520053, 133786.42686969036, 135059.7507723932, 134265.27150280567, 134725.2968131377, 135417.6635911794, 134187.65339546298, 135134.56467045323]\n",
      "\n",
      "Processing folder RealSense-D415-Plane-2.5m-424x240-6-Laser\n",
      "Filters: [X>-0.6950, X<1.2600, Y>-0.8800]\n",
      "n = 10\n",
      "e = [0.010094959721875211, 0.011498022215536067, 0.043985922834018795, 0.04328847082241783, 0.04642503662861415, 0.044861822353552516, 0.04596456118898549, 0.0442194453895543, 0.043442073210380176, 0.043874455412594715]\n",
      "d = [15563.00642034555, 15411.832188411538, 13702.941946896062, 13534.177589020152, 13442.181151561044, 13599.49942708922, 13402.373069921648, 14183.341942697569, 12324.277601474992, 13773.029111625618]\n",
      "\n",
      "Processing folder RealSense-D415-Plane-2.5m-640x480-6-Laser\n",
      "Filters: [X>-0.6950, X<1.2600, Y>-0.8800]\n",
      "n = 10\n",
      "e = [0.015094508862674333, 0.021927730560622895, 0.021339027578926105, 0.02255037850260077, 0.02246548914865421, 0.0218718695070163, 0.022669907488058715, 0.02141746166238711, 0.02225178227049277, 0.02193669211360307]\n",
      "d = [61615.54483288654, 60041.30657539575, 59813.309975263146, 60639.82236860081, 60351.748322019484, 60333.42547175196, 60784.676834853504, 60508.9703562438, 59696.61608322527, 60510.859354918364]\n",
      "\n"
     ]
    }
   ],
   "source": [
    "pcDataNear02 = ProcessPlanePointCloud.main('RealSense-D415-Data-Near-02/Laser', {\n",
    "    2.0: [\n",
    "        'x>-0.925',\n",
    "        'x<1.022',\n",
    "    ],\n",
    "    2.5: [\n",
    "        'x>-0.695',\n",
    "        'x<1.26',\n",
    "        'y>-0.88',\n",
    "    ],\n",
    "})"
   ]
  },
  {
   "cell_type": "code",
   "execution_count": 4,
   "metadata": {
    "scrolled": true
   },
   "outputs": [
    {
     "name": "stdout",
     "output_type": "stream",
     "text": [
      "Processing folder RealSense-D415-Plane-10.0m-1280x720-6-Laser\n",
      "Filters: [X>-0.5899, X<0.3114, Y>-0.5276, Y<1.1418]\n",
      "n = 10\n",
      "e = [0.23085673668358095, 0.20773310225815017, 0.21995225724947326, 0.21882493376603168, 0.22423504693837507, 0.21776177122041032, 0.21766392070986773, 0.189272171924069, 0.22051027367300352, 0.20870435542321403]\n",
      "d = [2574.9706761325633, 1302.3537319416814, 1542.5684670398618, 2222.333886172374, 1447.611947764259, 1806.0420548583854, 2161.4176650214463, 1370.3442802029606, 1855.0195499492738, 1495.8772539125337]\n",
      "\n",
      "Processing folder RealSense-D415-Plane-10.0m-640x480-6-Laser\n",
      "Filters: [X>-0.5899, X<0.3114, Y>-0.5276, Y<1.1418]\n",
      "n = 10\n",
      "e = [0.21842009281463615, 0.21460895608160727, 0.22504545382008834, 0.20884917347945073, 0.2272889116059218, 0.2237315627088229, 0.209099134498549, 0.1964707693518561, 0.2238082025891828, 0.22635442920421858]\n",
      "d = [1487.5888838538642, 1071.1899689248478, 890.1821471084014, 938.6666275895955, 895.9296967896676, 1026.0848551466156, 986.8520133102885, 667.5954303196667, 761.9315698422258, 854.0558677635964]\n",
      "\n",
      "Processing folder RealSense-D415-Plane-5.0m-1280x720-6-Laser\n",
      "Filters: [X>-0.4382, X<0.4426, Y>-0.9353, Y<1.0309]\n",
      "n = 10\n",
      "e = [0.049965896082155736, 0.05606558487595933, 0.06005701574773342, 0.058192528468139194, 0.055604365442141764, 0.05554209414650724, 0.05586671486920823, 0.05889454834534938, 0.055921043259744466, 0.061108748353169734]\n",
      "d = [33082.53084023848, 32885.60970138566, 32773.453987151115, 32716.146550340407, 32744.492812746514, 32328.94931993308, 32718.350298541965, 32477.135645606817, 32548.09216326318, 32689.766716145696]\n",
      "\n",
      "Processing folder RealSense-D415-Plane-5.0m-640x480-6-Laser\n",
      "Filters: [X>-0.4382, X<0.4426, Y>-0.9353, Y<1.0309]\n",
      "n = 10\n",
      "e = [0.04028633120520104, 0.04510727552719365, 0.04514910167318059, 0.04544312008050513, 0.043551493097358195, 0.05031478496461382, 0.043711452525246636, 0.0411796919654389, 0.05039515999493587, 0.03972801825809813]\n",
      "d = [15036.652048937378, 14914.938368107758, 14848.372823515916, 14673.476947126803, 14941.72523514569, 14824.800049073978, 14840.841882403307, 14669.04834331113, 14449.288448274914, 14888.555799930678]\n",
      "\n",
      "Processing folder RealSense-D415-Plane-7.5m-1280x720-6-Laser\n",
      "Filters: [X>-0.3933, X<0.2847, Y>-0.7516, Y<1.0035]\n",
      "n = 10\n",
      "e = [0.1600203165389602, 0.15673871918690668, 0.16744645431649338, 0.16984931498867317, 0.16517482217411875, 0.16427072682930105, 0.16609000557767956, 0.17136709964624872, 0.1672239866432474, 0.1625062363124973]\n",
      "d = [7145.954498660756, 6306.858996074145, 5367.3564395304875, 3909.6447684502828, 4620.827526533951, 4557.4481841528905, 5040.76586547378, 4839.8358344730495, 3820.6480260376757, 4686.114807059516]\n",
      "\n",
      "Processing folder RealSense-D415-Plane-7.5m-640x480-6-Laser\n",
      "Filters: [X>-0.3933, X<0.2847, Y>-0.7516, Y<1.0035]\n",
      "n = 10\n",
      "e = [0.12296919026065888, 0.16031262173747837, 0.15214501962184127, 0.1552275402717596, 0.17052157819659652, 0.13154340443404655, 0.16646463855200616, 0.15435355796045103, 0.16496030013346613, 0.1705225464460346]\n",
      "d = [3611.720177817519, 2384.636149200315, 2540.5481289546565, 2649.8745853597557, 2399.756101877088, 2832.6313433308974, 2346.8728174096204, 2232.6497149781476, 3101.0885713003795, 2014.1424503399837]\n",
      "\n"
     ]
    }
   ],
   "source": [
    "pcDataFar02 = ProcessPlanePointCloud.main('RealSense-D415-Data-Far-02/Laser', {\n",
    "    5.0: [\n",
    "        'x>-0.43816',\n",
    "        'x<0.44257',\n",
    "        'y>-0.93533',\n",
    "        'y<1.0309',\n",
    "    ],\n",
    "    7.5: [\n",
    "        'x>-0.39332',\n",
    "        'x<0.28466',\n",
    "        'y>-0.7516',\n",
    "        'y<1.0035',\n",
    "    ],\n",
    "    10.0: [\n",
    "        'x>-0.58987',\n",
    "        'x<0.3114',\n",
    "        'y>-0.5276',\n",
    "        'y<1.1418',\n",
    "    ],\n",
    "})"
   ]
  },
  {
   "cell_type": "code",
   "execution_count": 5,
   "metadata": {},
   "outputs": [],
   "source": [
    "def ptyColorMap(names):\n",
    "    ptyColors = itertools.cycle(reversed(ptytools.DEFAULT_PLOTLY_COLORS))\n",
    "\n",
    "    return dict(zip(names, ptyColors))"
   ]
  },
  {
   "cell_type": "code",
   "execution_count": 6,
   "metadata": {},
   "outputs": [],
   "source": [
    "def createGraphObjectsFromPlaneData(data):\n",
    "    goData = {}\n",
    "    layoutData = {}\n",
    "    \n",
    "    colorMap = ptyColorMap(data.keys())\n",
    "    \n",
    "    measurandMap = {\n",
    "        #'planeFitError': {\n",
    "        #    'xaxis': {\n",
    "        #        'title': 'Distance [m]',\n",
    "        #    },\n",
    "        #    'yaxis': {\n",
    "        #        'title': 'Error [mm]',\n",
    "        #    },\n",
    "        #    'title': 'Plane Fit Error',\n",
    "        #},\n",
    "        'planeFitErrorStd': {\n",
    "            'xaxis': {\n",
    "                'title': 'Distance [m]',\n",
    "            },\n",
    "            'yaxis': {\n",
    "                'title': 'Error STD [mm]',\n",
    "                'range': [0, 7.3],\n",
    "            },\n",
    "            'title': 'Plane Fit Error Standard Deviation',\n",
    "            'factor': 1000,\n",
    "        },\n",
    "        'pointDensity': {\n",
    "            'xaxis': {\n",
    "                'title': 'Distance [m]',\n",
    "            },\n",
    "            'yaxis': {\n",
    "                'title': 'Point Density [p / m²]',\n",
    "                'tickformat': ',d',\n",
    "                'hoverformat': ',.2f',\n",
    "            },\n",
    "            'title': 'Point Density',\n",
    "            'factor': 1,\n",
    "        },\n",
    "    }\n",
    "    \n",
    "    resolutions = [*map(lambda res: 'x'.join([*map(str, res)]), sorted(map(lambda res: [*map(int, res.split('x'))], data.keys()), reverse=True))]\n",
    "    \n",
    "    for res in resolutions:\n",
    "        showlegend = True\n",
    "        \n",
    "        for measurand in data[res]:\n",
    "            if measurand not in measurandMap:\n",
    "                continue\n",
    "            \n",
    "            distances = sorted(data[res][measurand].keys())\n",
    "            errors = [np.array(data[res][measurand][dist]) * measurandMap[measurand]['factor'] for dist in distances]\n",
    "            \n",
    "            go = ptygo.Scatter(\n",
    "                x=distances,\n",
    "                y=[errorMeasurand.mean() for errorMeasurand in errors],\n",
    "                error_y=dict(\n",
    "                    type='data',\n",
    "                    visible=True,\n",
    "                    symmetric=True,\n",
    "                    array=np.abs(np.array([st.t.interval(0.95, errorMeasurand.shape[0]-1, loc=0, scale=st.sem(errorMeasurand)) for errorMeasurand in errors])[:, 0]),\n",
    "                    color=colorMap[res],\n",
    "                ),\n",
    "                name=res,\n",
    "                legendgroup=res,\n",
    "                showlegend=showlegend,\n",
    "                line=dict(\n",
    "                    color=colorMap[res],\n",
    "                ),\n",
    "            )\n",
    "            \n",
    "            if measurand not in goData:\n",
    "                goData[measurand] = []\n",
    "            \n",
    "            goData[measurand].append(go)\n",
    "            showlegend = False\n",
    "            \n",
    "            layoutData[measurand] = copy.deepcopy(measurandMap[measurand])\n",
    "            \n",
    "            if 'range' in layoutData[measurand]['yaxis']:\n",
    "                layoutData[measurand]['yaxis']['range'][0] = min(0, *[data.min() for data in errors])\n",
    "                layoutData[measurand]['yaxis']['range'][1] = max(73, *[data.max() for data in errors])\n",
    "    \n",
    "    return goData, layoutData"
   ]
  },
  {
   "cell_type": "code",
   "execution_count": 7,
   "metadata": {},
   "outputs": [],
   "source": [
    "def plotPlaneData(data, title):\n",
    "    go, lay = createGraphObjectsFromPlaneData(data)\n",
    "    goKeys = [*go.keys()]\n",
    "    rows = int(np.floor(np.sqrt(len(go))))\n",
    "    cols = int(np.ceil(np.sqrt(len(go))))\n",
    "    \n",
    "    titles = tuple(lay[goKey]['title'] for goKey in goKeys)\n",
    "    \n",
    "    fig = ptytools.make_subplots(rows=rows, cols=cols, subplot_titles=titles, print_grid=False)\n",
    "    fig['layout']['title'] = title\n",
    "    fig['layout']['separators'] = ',.'\n",
    "    \n",
    "    for v in range(rows):\n",
    "        for u in range(cols):\n",
    "            i = v * rows + u\n",
    "            \n",
    "            if i >= len(go):\n",
    "                break\n",
    "            \n",
    "            for t in go[goKeys[i]]:\n",
    "                fig.append_trace(t, v + 1, u + 1)\n",
    "            \n",
    "            layout = lay[goKeys[i]]\n",
    "            \n",
    "            if 'xaxis' in layout:\n",
    "                fig['layout']['xaxis{:d}'.format((v+1)*(rows-1)+u+1)].update(layout['xaxis'])\n",
    "            \n",
    "            if 'yaxis' in layout:\n",
    "                fig['layout']['yaxis{:d}'.format((v+1)*(rows-1)+u+1)].update(layout['yaxis'])\n",
    "    \n",
    "    \n",
    "    pty.iplot(fig)"
   ]
  },
  {
   "cell_type": "code",
   "execution_count": 8,
   "metadata": {},
   "outputs": [
    {
     "data": {
      "application/vnd.plotly.v1+json": {
       "data": [
        {
         "error_y": {
          "array": [
           0.09469102806963423,
           0.14116494274249944,
           1.7615081949960334
          ],
          "color": "rgb(23, 190, 207)",
          "symmetric": true,
          "type": "data",
          "visible": true
         },
         "legendgroup": "1280x720",
         "line": {
          "color": "rgb(23, 190, 207)"
         },
         "name": "1280x720",
         "showlegend": true,
         "type": "scatter",
         "x": [
          0.5,
          1,
          2.5
         ],
         "xaxis": "x1",
         "y": [
          1.5416528995125078,
          5.06954071813878,
          21.06657830092554
         ],
         "yaxis": "y1"
        },
        {
         "error_y": {
          "array": [
           0.005690369434073505,
           0.07062646649387923,
           3.216007575889162
          ],
          "color": "rgb(188, 189, 34)",
          "symmetric": true,
          "type": "data",
          "visible": true
         },
         "legendgroup": "640x480",
         "line": {
          "color": "rgb(188, 189, 34)"
         },
         "name": "640x480",
         "showlegend": true,
         "type": "scatter",
         "x": [
          0.5,
          1,
          2.5
         ],
         "xaxis": "x1",
         "y": [
          1.2096805372047914,
          2.8017394655630246,
          21.538486419920293
         ],
         "yaxis": "y1"
        },
        {
         "error_y": {
          "array": [
           64322.2090366673,
           2918.890660347261,
           896.5041122868275
          ],
          "color": "rgb(23, 190, 207)",
          "symmetric": true,
          "type": "data",
          "visible": true
         },
         "legendgroup": "1280x720",
         "line": {
          "color": "rgb(23, 190, 207)"
         },
         "name": "1280x720",
         "showlegend": false,
         "type": "scatter",
         "x": [
          0.5,
          1,
          2.5
         ],
         "xaxis": "x2",
         "y": [
          3658972.5506301876,
          868710.9490005865,
          139372.9692757021
         ],
         "yaxis": "y2"
        },
        {
         "error_y": {
          "array": [
           3095.668872372466,
           851.3334543443655,
           564.2284058838733
          ],
          "color": "rgb(188, 189, 34)",
          "symmetric": true,
          "type": "data",
          "visible": true
         },
         "legendgroup": "640x480",
         "line": {
          "color": "rgb(188, 189, 34)"
         },
         "name": "640x480",
         "showlegend": false,
         "type": "scatter",
         "x": [
          0.5,
          1,
          2.5
         ],
         "xaxis": "x2",
         "y": [
          1624239.9919622773,
          396854.0724644443,
          61519.90980720533
         ],
         "yaxis": "y2"
        }
       ],
       "layout": {
        "annotations": [
         {
          "font": {
           "size": 16
          },
          "showarrow": false,
          "text": "Plane Fit Error Standard Deviation",
          "x": 0.225,
          "xanchor": "center",
          "xref": "paper",
          "y": 1,
          "yanchor": "bottom",
          "yref": "paper"
         },
         {
          "font": {
           "size": 16
          },
          "showarrow": false,
          "text": "Point Density",
          "x": 0.775,
          "xanchor": "center",
          "xref": "paper",
          "y": 1,
          "yanchor": "bottom",
          "yref": "paper"
         }
        ],
        "separators": ",.",
        "title": "Plan Fitting Near - Dataset 01",
        "xaxis1": {
         "anchor": "y1",
         "domain": [
          0,
          0.45
         ],
         "title": "Distance [m]"
        },
        "xaxis2": {
         "anchor": "y2",
         "domain": [
          0.55,
          1
         ],
         "title": "Distance [m]"
        },
        "yaxis1": {
         "anchor": "x1",
         "domain": [
          0,
          1
         ],
         "range": [
          0,
          73
         ],
         "title": "Error STD [mm]"
        },
        "yaxis2": {
         "anchor": "x2",
         "domain": [
          0,
          1
         ],
         "hoverformat": ",.2f",
         "tickformat": ",d",
         "title": "Point Density [p / m²]"
        }
       }
      },
      "text/html": [
       "<div id=\"8f257449-134d-428b-ac07-ce015f9d25e2\" style=\"height: 525px; width: 100%;\" class=\"plotly-graph-div\"></div><script type=\"text/javascript\">require([\"plotly\"], function(Plotly) { window.PLOTLYENV=window.PLOTLYENV || {};window.PLOTLYENV.BASE_URL=\"https://plot.ly\";Plotly.newPlot(\"8f257449-134d-428b-ac07-ce015f9d25e2\", [{\"type\": \"scatter\", \"x\": [0.5, 1.0, 2.5], \"y\": [1.5416528995125078, 5.06954071813878, 21.06657830092554], \"error_y\": {\"type\": \"data\", \"visible\": true, \"symmetric\": true, \"array\": [0.09469102806963423, 0.14116494274249944, 1.7615081949960334], \"color\": \"rgb(23, 190, 207)\"}, \"name\": \"1280x720\", \"legendgroup\": \"1280x720\", \"showlegend\": true, \"line\": {\"color\": \"rgb(23, 190, 207)\"}, \"xaxis\": \"x1\", \"yaxis\": \"y1\"}, {\"type\": \"scatter\", \"x\": [0.5, 1.0, 2.5], \"y\": [1.2096805372047914, 2.8017394655630246, 21.538486419920293], \"error_y\": {\"type\": \"data\", \"visible\": true, \"symmetric\": true, \"array\": [0.005690369434073505, 0.07062646649387923, 3.216007575889162], \"color\": \"rgb(188, 189, 34)\"}, \"name\": \"640x480\", \"legendgroup\": \"640x480\", \"showlegend\": true, \"line\": {\"color\": \"rgb(188, 189, 34)\"}, \"xaxis\": \"x1\", \"yaxis\": \"y1\"}, {\"type\": \"scatter\", \"x\": [0.5, 1.0, 2.5], \"y\": [3658972.5506301876, 868710.9490005865, 139372.9692757021], \"error_y\": {\"type\": \"data\", \"visible\": true, \"symmetric\": true, \"array\": [64322.2090366673, 2918.890660347261, 896.5041122868275], \"color\": \"rgb(23, 190, 207)\"}, \"name\": \"1280x720\", \"legendgroup\": \"1280x720\", \"showlegend\": false, \"line\": {\"color\": \"rgb(23, 190, 207)\"}, \"xaxis\": \"x2\", \"yaxis\": \"y2\"}, {\"type\": \"scatter\", \"x\": [0.5, 1.0, 2.5], \"y\": [1624239.9919622773, 396854.0724644443, 61519.90980720533], \"error_y\": {\"type\": \"data\", \"visible\": true, \"symmetric\": true, \"array\": [3095.668872372466, 851.3334543443655, 564.2284058838733], \"color\": \"rgb(188, 189, 34)\"}, \"name\": \"640x480\", \"legendgroup\": \"640x480\", \"showlegend\": false, \"line\": {\"color\": \"rgb(188, 189, 34)\"}, \"xaxis\": \"x2\", \"yaxis\": \"y2\"}], {\"xaxis1\": {\"domain\": [0.0, 0.45], \"anchor\": \"y1\", \"title\": \"Distance [m]\"}, \"yaxis1\": {\"domain\": [0.0, 1.0], \"anchor\": \"x1\", \"title\": \"Error STD [mm]\", \"range\": [0, 73]}, \"xaxis2\": {\"domain\": [0.55, 1.0], \"anchor\": \"y2\", \"title\": \"Distance [m]\"}, \"yaxis2\": {\"domain\": [0.0, 1.0], \"anchor\": \"x2\", \"title\": \"Point Density [p / m\\u00b2]\", \"tickformat\": \",d\", \"hoverformat\": \",.2f\"}, \"annotations\": [{\"y\": 1.0, \"xref\": \"paper\", \"x\": 0.225, \"yref\": \"paper\", \"text\": \"Plane Fit Error Standard Deviation\", \"showarrow\": false, \"font\": {\"size\": 16}, \"xanchor\": \"center\", \"yanchor\": \"bottom\"}, {\"y\": 1.0, \"xref\": \"paper\", \"x\": 0.775, \"yref\": \"paper\", \"text\": \"Point Density\", \"showarrow\": false, \"font\": {\"size\": 16}, \"xanchor\": \"center\", \"yanchor\": \"bottom\"}], \"title\": \"Plan Fitting Near - Dataset 01\", \"separators\": \",.\"}, {\"showLink\": true, \"linkText\": \"Export to plot.ly\"})});</script>"
      ],
      "text/vnd.plotly.v1+html": [
       "<div id=\"8f257449-134d-428b-ac07-ce015f9d25e2\" style=\"height: 525px; width: 100%;\" class=\"plotly-graph-div\"></div><script type=\"text/javascript\">require([\"plotly\"], function(Plotly) { window.PLOTLYENV=window.PLOTLYENV || {};window.PLOTLYENV.BASE_URL=\"https://plot.ly\";Plotly.newPlot(\"8f257449-134d-428b-ac07-ce015f9d25e2\", [{\"type\": \"scatter\", \"x\": [0.5, 1.0, 2.5], \"y\": [1.5416528995125078, 5.06954071813878, 21.06657830092554], \"error_y\": {\"type\": \"data\", \"visible\": true, \"symmetric\": true, \"array\": [0.09469102806963423, 0.14116494274249944, 1.7615081949960334], \"color\": \"rgb(23, 190, 207)\"}, \"name\": \"1280x720\", \"legendgroup\": \"1280x720\", \"showlegend\": true, \"line\": {\"color\": \"rgb(23, 190, 207)\"}, \"xaxis\": \"x1\", \"yaxis\": \"y1\"}, {\"type\": \"scatter\", \"x\": [0.5, 1.0, 2.5], \"y\": [1.2096805372047914, 2.8017394655630246, 21.538486419920293], \"error_y\": {\"type\": \"data\", \"visible\": true, \"symmetric\": true, \"array\": [0.005690369434073505, 0.07062646649387923, 3.216007575889162], \"color\": \"rgb(188, 189, 34)\"}, \"name\": \"640x480\", \"legendgroup\": \"640x480\", \"showlegend\": true, \"line\": {\"color\": \"rgb(188, 189, 34)\"}, \"xaxis\": \"x1\", \"yaxis\": \"y1\"}, {\"type\": \"scatter\", \"x\": [0.5, 1.0, 2.5], \"y\": [3658972.5506301876, 868710.9490005865, 139372.9692757021], \"error_y\": {\"type\": \"data\", \"visible\": true, \"symmetric\": true, \"array\": [64322.2090366673, 2918.890660347261, 896.5041122868275], \"color\": \"rgb(23, 190, 207)\"}, \"name\": \"1280x720\", \"legendgroup\": \"1280x720\", \"showlegend\": false, \"line\": {\"color\": \"rgb(23, 190, 207)\"}, \"xaxis\": \"x2\", \"yaxis\": \"y2\"}, {\"type\": \"scatter\", \"x\": [0.5, 1.0, 2.5], \"y\": [1624239.9919622773, 396854.0724644443, 61519.90980720533], \"error_y\": {\"type\": \"data\", \"visible\": true, \"symmetric\": true, \"array\": [3095.668872372466, 851.3334543443655, 564.2284058838733], \"color\": \"rgb(188, 189, 34)\"}, \"name\": \"640x480\", \"legendgroup\": \"640x480\", \"showlegend\": false, \"line\": {\"color\": \"rgb(188, 189, 34)\"}, \"xaxis\": \"x2\", \"yaxis\": \"y2\"}], {\"xaxis1\": {\"domain\": [0.0, 0.45], \"anchor\": \"y1\", \"title\": \"Distance [m]\"}, \"yaxis1\": {\"domain\": [0.0, 1.0], \"anchor\": \"x1\", \"title\": \"Error STD [mm]\", \"range\": [0, 73]}, \"xaxis2\": {\"domain\": [0.55, 1.0], \"anchor\": \"y2\", \"title\": \"Distance [m]\"}, \"yaxis2\": {\"domain\": [0.0, 1.0], \"anchor\": \"x2\", \"title\": \"Point Density [p / m\\u00b2]\", \"tickformat\": \",d\", \"hoverformat\": \",.2f\"}, \"annotations\": [{\"y\": 1.0, \"xref\": \"paper\", \"x\": 0.225, \"yref\": \"paper\", \"text\": \"Plane Fit Error Standard Deviation\", \"showarrow\": false, \"font\": {\"size\": 16}, \"xanchor\": \"center\", \"yanchor\": \"bottom\"}, {\"y\": 1.0, \"xref\": \"paper\", \"x\": 0.775, \"yref\": \"paper\", \"text\": \"Point Density\", \"showarrow\": false, \"font\": {\"size\": 16}, \"xanchor\": \"center\", \"yanchor\": \"bottom\"}], \"title\": \"Plan Fitting Near - Dataset 01\", \"separators\": \",.\"}, {\"showLink\": true, \"linkText\": \"Export to plot.ly\"})});</script>"
      ]
     },
     "metadata": {},
     "output_type": "display_data"
    }
   ],
   "source": [
    "plotPlaneData(pcDataNear01, 'Plan Fitting Near - Dataset 01')"
   ]
  },
  {
   "cell_type": "code",
   "execution_count": 9,
   "metadata": {
    "scrolled": false
   },
   "outputs": [
    {
     "data": {
      "application/vnd.plotly.v1+json": {
       "data": [
        {
         "error_y": {
          "array": [
           0.005141893311429632,
           0.029705961122286625,
           0.10159028421470995,
           0.610156607128088,
           0.3446398066121818
          ],
          "color": "rgb(23, 190, 207)",
          "symmetric": true,
          "type": "data",
          "visible": true
         },
         "legendgroup": "1280x720",
         "line": {
          "color": "rgb(23, 190, 207)"
         },
         "name": "1280x720",
         "showlegend": true,
         "type": "scatter",
         "x": [
          0.5,
          1,
          1.5,
          2,
          2.5
         ],
         "xaxis": "x1",
         "y": [
          1.7926381500789694,
          5.565176489108508,
          9.797739754209083,
          18.455118280238025,
          31.035075852805154
         ],
         "yaxis": "y1"
        },
        {
         "error_y": {
          "array": [
           0.049398002375239745,
           0.15567016782298623,
           0.18847494269461323,
           0.09133702463313047,
           1.9601932047693
          ],
          "color": "rgb(127, 127, 127)",
          "symmetric": true,
          "type": "data",
          "visible": true
         },
         "legendgroup": "640x480",
         "line": {
          "color": "rgb(127, 127, 127)"
         },
         "name": "640x480",
         "showlegend": true,
         "type": "scatter",
         "x": [
          0.5,
          1,
          1.5,
          2,
          2.5
         ],
         "xaxis": "x1",
         "y": [
          1.4408282007366482,
          4.434485168415219,
          6.709901815431361,
          10.969309289238625,
          27.508667530557926
         ],
         "yaxis": "y1"
        },
        {
         "error_y": {
          "array": [
           0.030785829119280805,
           0.0542524058716677,
           2.4226435049711785,
           0.8404352304709382,
           15.05492313879949
          ],
          "color": "rgb(188, 189, 34)",
          "symmetric": true,
          "type": "data",
          "visible": true
         },
         "legendgroup": "424x240",
         "line": {
          "color": "rgb(188, 189, 34)"
         },
         "name": "424x240",
         "showlegend": true,
         "type": "scatter",
         "x": [
          0.5,
          1,
          1.5,
          2,
          2.5
         ],
         "xaxis": "x1",
         "y": [
          1.5104942502415237,
          4.130899384508977,
          12.496610675026275,
          20.768347690245296,
          53.84982160804185
         ],
         "yaxis": "y1"
        },
        {
         "error_y": {
          "array": [
           9968.980858851639,
           2360.994913283704,
           1190.2759124133195,
           990.8856838688345,
           706.2718168095672
          ],
          "color": "rgb(23, 190, 207)",
          "symmetric": true,
          "type": "data",
          "visible": true
         },
         "legendgroup": "1280x720",
         "line": {
          "color": "rgb(23, 190, 207)"
         },
         "name": "1280x720",
         "showlegend": false,
         "type": "scatter",
         "x": [
          0.5,
          1,
          1.5,
          2,
          2.5
         ],
         "xaxis": "x2",
         "y": [
          3390254.155761122,
          845080.9864094818,
          365102.6150248492,
          210553.6936332287,
          135038.09322135776
         ],
         "yaxis": "y2"
        },
        {
         "error_y": {
          "array": [
           7236.708499127455,
           347.0266556621057,
           498.1674085933261,
           175.26287460013532,
           389.83865971236884
          ],
          "color": "rgb(127, 127, 127)",
          "symmetric": true,
          "type": "data",
          "visible": true
         },
         "legendgroup": "640x480",
         "line": {
          "color": "rgb(127, 127, 127)"
         },
         "name": "640x480",
         "showlegend": false,
         "type": "scatter",
         "x": [
          0.5,
          1,
          1.5,
          2,
          2.5
         ],
         "xaxis": "x2",
         "y": [
          1517581.6225568678,
          383133.12353515346,
          169054.20455958974,
          94961.56486434488,
          60429.62801751586
         ],
         "yaxis": "y2"
        },
        {
         "error_y": {
          "array": [
           249.01553210378148,
           32.7614438116682,
           739.3570147638103,
           139.4432262771654,
           689.053725186487
          ],
          "color": "rgb(188, 189, 34)",
          "symmetric": true,
          "type": "data",
          "visible": true
         },
         "legendgroup": "424x240",
         "line": {
          "color": "rgb(188, 189, 34)"
         },
         "name": "424x240",
         "showlegend": false,
         "type": "scatter",
         "x": [
          0.5,
          1,
          1.5,
          2,
          2.5
         ],
         "xaxis": "x2",
         "y": [
          383165.6146512783,
          95866.22845617376,
          41131.531001346615,
          23739.837239472803,
          13893.666044904341
         ],
         "yaxis": "y2"
        }
       ],
       "layout": {
        "annotations": [
         {
          "font": {
           "size": 16
          },
          "showarrow": false,
          "text": "Plane Fit Error Standard Deviation",
          "x": 0.225,
          "xanchor": "center",
          "xref": "paper",
          "y": 1,
          "yanchor": "bottom",
          "yref": "paper"
         },
         {
          "font": {
           "size": 16
          },
          "showarrow": false,
          "text": "Point Density",
          "x": 0.775,
          "xanchor": "center",
          "xref": "paper",
          "y": 1,
          "yanchor": "bottom",
          "yref": "paper"
         }
        ],
        "separators": ",.",
        "title": "Plan Fitting Near - Dataset 02",
        "xaxis1": {
         "anchor": "y1",
         "domain": [
          0,
          0.45
         ],
         "title": "Distance [m]"
        },
        "xaxis2": {
         "anchor": "y2",
         "domain": [
          0.55,
          1
         ],
         "title": "Distance [m]"
        },
        "yaxis1": {
         "anchor": "x1",
         "domain": [
          0,
          1
         ],
         "range": [
          0,
          73
         ],
         "title": "Error STD [mm]"
        },
        "yaxis2": {
         "anchor": "x2",
         "domain": [
          0,
          1
         ],
         "hoverformat": ",.2f",
         "tickformat": ",d",
         "title": "Point Density [p / m²]"
        }
       }
      },
      "text/html": [
       "<div id=\"f1061f9d-9542-48b5-a655-5e451dd07b4e\" style=\"height: 525px; width: 100%;\" class=\"plotly-graph-div\"></div><script type=\"text/javascript\">require([\"plotly\"], function(Plotly) { window.PLOTLYENV=window.PLOTLYENV || {};window.PLOTLYENV.BASE_URL=\"https://plot.ly\";Plotly.newPlot(\"f1061f9d-9542-48b5-a655-5e451dd07b4e\", [{\"type\": \"scatter\", \"x\": [0.5, 1.0, 1.5, 2.0, 2.5], \"y\": [1.7926381500789694, 5.565176489108508, 9.797739754209083, 18.455118280238025, 31.035075852805154], \"error_y\": {\"type\": \"data\", \"visible\": true, \"symmetric\": true, \"array\": [0.005141893311429632, 0.029705961122286625, 0.10159028421470995, 0.610156607128088, 0.3446398066121818], \"color\": \"rgb(23, 190, 207)\"}, \"name\": \"1280x720\", \"legendgroup\": \"1280x720\", \"showlegend\": true, \"line\": {\"color\": \"rgb(23, 190, 207)\"}, \"xaxis\": \"x1\", \"yaxis\": \"y1\"}, {\"type\": \"scatter\", \"x\": [0.5, 1.0, 1.5, 2.0, 2.5], \"y\": [1.4408282007366482, 4.434485168415219, 6.709901815431361, 10.969309289238625, 27.508667530557926], \"error_y\": {\"type\": \"data\", \"visible\": true, \"symmetric\": true, \"array\": [0.049398002375239745, 0.15567016782298623, 0.18847494269461323, 0.09133702463313047, 1.9601932047693], \"color\": \"rgb(127, 127, 127)\"}, \"name\": \"640x480\", \"legendgroup\": \"640x480\", \"showlegend\": true, \"line\": {\"color\": \"rgb(127, 127, 127)\"}, \"xaxis\": \"x1\", \"yaxis\": \"y1\"}, {\"type\": \"scatter\", \"x\": [0.5, 1.0, 1.5, 2.0, 2.5], \"y\": [1.5104942502415237, 4.130899384508977, 12.496610675026275, 20.768347690245296, 53.84982160804185], \"error_y\": {\"type\": \"data\", \"visible\": true, \"symmetric\": true, \"array\": [0.030785829119280805, 0.0542524058716677, 2.4226435049711785, 0.8404352304709382, 15.05492313879949], \"color\": \"rgb(188, 189, 34)\"}, \"name\": \"424x240\", \"legendgroup\": \"424x240\", \"showlegend\": true, \"line\": {\"color\": \"rgb(188, 189, 34)\"}, \"xaxis\": \"x1\", \"yaxis\": \"y1\"}, {\"type\": \"scatter\", \"x\": [0.5, 1.0, 1.5, 2.0, 2.5], \"y\": [3390254.155761122, 845080.9864094818, 365102.6150248492, 210553.6936332287, 135038.09322135776], \"error_y\": {\"type\": \"data\", \"visible\": true, \"symmetric\": true, \"array\": [9968.980858851639, 2360.994913283704, 1190.2759124133195, 990.8856838688345, 706.2718168095672], \"color\": \"rgb(23, 190, 207)\"}, \"name\": \"1280x720\", \"legendgroup\": \"1280x720\", \"showlegend\": false, \"line\": {\"color\": \"rgb(23, 190, 207)\"}, \"xaxis\": \"x2\", \"yaxis\": \"y2\"}, {\"type\": \"scatter\", \"x\": [0.5, 1.0, 1.5, 2.0, 2.5], \"y\": [1517581.6225568678, 383133.12353515346, 169054.20455958974, 94961.56486434488, 60429.62801751586], \"error_y\": {\"type\": \"data\", \"visible\": true, \"symmetric\": true, \"array\": [7236.708499127455, 347.0266556621057, 498.1674085933261, 175.26287460013532, 389.83865971236884], \"color\": \"rgb(127, 127, 127)\"}, \"name\": \"640x480\", \"legendgroup\": \"640x480\", \"showlegend\": false, \"line\": {\"color\": \"rgb(127, 127, 127)\"}, \"xaxis\": \"x2\", \"yaxis\": \"y2\"}, {\"type\": \"scatter\", \"x\": [0.5, 1.0, 1.5, 2.0, 2.5], \"y\": [383165.6146512783, 95866.22845617376, 41131.531001346615, 23739.837239472803, 13893.666044904341], \"error_y\": {\"type\": \"data\", \"visible\": true, \"symmetric\": true, \"array\": [249.01553210378148, 32.7614438116682, 739.3570147638103, 139.4432262771654, 689.053725186487], \"color\": \"rgb(188, 189, 34)\"}, \"name\": \"424x240\", \"legendgroup\": \"424x240\", \"showlegend\": false, \"line\": {\"color\": \"rgb(188, 189, 34)\"}, \"xaxis\": \"x2\", \"yaxis\": \"y2\"}], {\"xaxis1\": {\"domain\": [0.0, 0.45], \"anchor\": \"y1\", \"title\": \"Distance [m]\"}, \"yaxis1\": {\"domain\": [0.0, 1.0], \"anchor\": \"x1\", \"title\": \"Error STD [mm]\", \"range\": [0, 73]}, \"xaxis2\": {\"domain\": [0.55, 1.0], \"anchor\": \"y2\", \"title\": \"Distance [m]\"}, \"yaxis2\": {\"domain\": [0.0, 1.0], \"anchor\": \"x2\", \"title\": \"Point Density [p / m\\u00b2]\", \"tickformat\": \",d\", \"hoverformat\": \",.2f\"}, \"annotations\": [{\"y\": 1.0, \"xref\": \"paper\", \"x\": 0.225, \"yref\": \"paper\", \"text\": \"Plane Fit Error Standard Deviation\", \"showarrow\": false, \"font\": {\"size\": 16}, \"xanchor\": \"center\", \"yanchor\": \"bottom\"}, {\"y\": 1.0, \"xref\": \"paper\", \"x\": 0.775, \"yref\": \"paper\", \"text\": \"Point Density\", \"showarrow\": false, \"font\": {\"size\": 16}, \"xanchor\": \"center\", \"yanchor\": \"bottom\"}], \"title\": \"Plan Fitting Near - Dataset 02\", \"separators\": \",.\"}, {\"showLink\": true, \"linkText\": \"Export to plot.ly\"})});</script>"
      ],
      "text/vnd.plotly.v1+html": [
       "<div id=\"f1061f9d-9542-48b5-a655-5e451dd07b4e\" style=\"height: 525px; width: 100%;\" class=\"plotly-graph-div\"></div><script type=\"text/javascript\">require([\"plotly\"], function(Plotly) { window.PLOTLYENV=window.PLOTLYENV || {};window.PLOTLYENV.BASE_URL=\"https://plot.ly\";Plotly.newPlot(\"f1061f9d-9542-48b5-a655-5e451dd07b4e\", [{\"type\": \"scatter\", \"x\": [0.5, 1.0, 1.5, 2.0, 2.5], \"y\": [1.7926381500789694, 5.565176489108508, 9.797739754209083, 18.455118280238025, 31.035075852805154], \"error_y\": {\"type\": \"data\", \"visible\": true, \"symmetric\": true, \"array\": [0.005141893311429632, 0.029705961122286625, 0.10159028421470995, 0.610156607128088, 0.3446398066121818], \"color\": \"rgb(23, 190, 207)\"}, \"name\": \"1280x720\", \"legendgroup\": \"1280x720\", \"showlegend\": true, \"line\": {\"color\": \"rgb(23, 190, 207)\"}, \"xaxis\": \"x1\", \"yaxis\": \"y1\"}, {\"type\": \"scatter\", \"x\": [0.5, 1.0, 1.5, 2.0, 2.5], \"y\": [1.4408282007366482, 4.434485168415219, 6.709901815431361, 10.969309289238625, 27.508667530557926], \"error_y\": {\"type\": \"data\", \"visible\": true, \"symmetric\": true, \"array\": [0.049398002375239745, 0.15567016782298623, 0.18847494269461323, 0.09133702463313047, 1.9601932047693], \"color\": \"rgb(127, 127, 127)\"}, \"name\": \"640x480\", \"legendgroup\": \"640x480\", \"showlegend\": true, \"line\": {\"color\": \"rgb(127, 127, 127)\"}, \"xaxis\": \"x1\", \"yaxis\": \"y1\"}, {\"type\": \"scatter\", \"x\": [0.5, 1.0, 1.5, 2.0, 2.5], \"y\": [1.5104942502415237, 4.130899384508977, 12.496610675026275, 20.768347690245296, 53.84982160804185], \"error_y\": {\"type\": \"data\", \"visible\": true, \"symmetric\": true, \"array\": [0.030785829119280805, 0.0542524058716677, 2.4226435049711785, 0.8404352304709382, 15.05492313879949], \"color\": \"rgb(188, 189, 34)\"}, \"name\": \"424x240\", \"legendgroup\": \"424x240\", \"showlegend\": true, \"line\": {\"color\": \"rgb(188, 189, 34)\"}, \"xaxis\": \"x1\", \"yaxis\": \"y1\"}, {\"type\": \"scatter\", \"x\": [0.5, 1.0, 1.5, 2.0, 2.5], \"y\": [3390254.155761122, 845080.9864094818, 365102.6150248492, 210553.6936332287, 135038.09322135776], \"error_y\": {\"type\": \"data\", \"visible\": true, \"symmetric\": true, \"array\": [9968.980858851639, 2360.994913283704, 1190.2759124133195, 990.8856838688345, 706.2718168095672], \"color\": \"rgb(23, 190, 207)\"}, \"name\": \"1280x720\", \"legendgroup\": \"1280x720\", \"showlegend\": false, \"line\": {\"color\": \"rgb(23, 190, 207)\"}, \"xaxis\": \"x2\", \"yaxis\": \"y2\"}, {\"type\": \"scatter\", \"x\": [0.5, 1.0, 1.5, 2.0, 2.5], \"y\": [1517581.6225568678, 383133.12353515346, 169054.20455958974, 94961.56486434488, 60429.62801751586], \"error_y\": {\"type\": \"data\", \"visible\": true, \"symmetric\": true, \"array\": [7236.708499127455, 347.0266556621057, 498.1674085933261, 175.26287460013532, 389.83865971236884], \"color\": \"rgb(127, 127, 127)\"}, \"name\": \"640x480\", \"legendgroup\": \"640x480\", \"showlegend\": false, \"line\": {\"color\": \"rgb(127, 127, 127)\"}, \"xaxis\": \"x2\", \"yaxis\": \"y2\"}, {\"type\": \"scatter\", \"x\": [0.5, 1.0, 1.5, 2.0, 2.5], \"y\": [383165.6146512783, 95866.22845617376, 41131.531001346615, 23739.837239472803, 13893.666044904341], \"error_y\": {\"type\": \"data\", \"visible\": true, \"symmetric\": true, \"array\": [249.01553210378148, 32.7614438116682, 739.3570147638103, 139.4432262771654, 689.053725186487], \"color\": \"rgb(188, 189, 34)\"}, \"name\": \"424x240\", \"legendgroup\": \"424x240\", \"showlegend\": false, \"line\": {\"color\": \"rgb(188, 189, 34)\"}, \"xaxis\": \"x2\", \"yaxis\": \"y2\"}], {\"xaxis1\": {\"domain\": [0.0, 0.45], \"anchor\": \"y1\", \"title\": \"Distance [m]\"}, \"yaxis1\": {\"domain\": [0.0, 1.0], \"anchor\": \"x1\", \"title\": \"Error STD [mm]\", \"range\": [0, 73]}, \"xaxis2\": {\"domain\": [0.55, 1.0], \"anchor\": \"y2\", \"title\": \"Distance [m]\"}, \"yaxis2\": {\"domain\": [0.0, 1.0], \"anchor\": \"x2\", \"title\": \"Point Density [p / m\\u00b2]\", \"tickformat\": \",d\", \"hoverformat\": \",.2f\"}, \"annotations\": [{\"y\": 1.0, \"xref\": \"paper\", \"x\": 0.225, \"yref\": \"paper\", \"text\": \"Plane Fit Error Standard Deviation\", \"showarrow\": false, \"font\": {\"size\": 16}, \"xanchor\": \"center\", \"yanchor\": \"bottom\"}, {\"y\": 1.0, \"xref\": \"paper\", \"x\": 0.775, \"yref\": \"paper\", \"text\": \"Point Density\", \"showarrow\": false, \"font\": {\"size\": 16}, \"xanchor\": \"center\", \"yanchor\": \"bottom\"}], \"title\": \"Plan Fitting Near - Dataset 02\", \"separators\": \",.\"}, {\"showLink\": true, \"linkText\": \"Export to plot.ly\"})});</script>"
      ]
     },
     "metadata": {},
     "output_type": "display_data"
    }
   ],
   "source": [
    "plotPlaneData(pcDataNear02, 'Plan Fitting Near - Dataset 02')"
   ]
  },
  {
   "cell_type": "markdown",
   "metadata": {},
   "source": [
    "Large divergence for different resolutions results in different aspect ratio. Apparently, the device just defines a region of interest for out of the full resolution depth map. This results in lesser artifacts in the corners."
   ]
  },
  {
   "cell_type": "code",
   "execution_count": 10,
   "metadata": {},
   "outputs": [
    {
     "data": {
      "application/vnd.plotly.v1+json": {
       "data": [
        {
         "error_y": {
          "array": [
           2.704914737222619,
           2.500980393235899,
           6.550682945628824
          ],
          "color": "rgb(23, 190, 207)",
          "symmetric": true,
          "type": "data",
          "visible": true
         },
         "legendgroup": "1280x720",
         "line": {
          "color": "rgb(23, 190, 207)"
         },
         "name": "1280x720",
         "showlegend": true,
         "type": "scatter",
         "x": [
          5,
          7.5,
          10
         ],
         "xaxis": "x1",
         "y": [
          69.85786976392123,
          192.8409441571288,
          252.8184588701478
         ],
         "yaxis": "y1"
        },
        {
         "error_y": {
          "array": [
           3.3995740389418962,
           10.142491715907527,
           5.688793207757901
          ],
          "color": "rgb(188, 189, 34)",
          "symmetric": true,
          "type": "data",
          "visible": true
         },
         "legendgroup": "640x480",
         "line": {
          "color": "rgb(188, 189, 34)"
         },
         "name": "640x480",
         "showlegend": true,
         "type": "scatter",
         "x": [
          5,
          7.5,
          10
         ],
         "xaxis": "x1",
         "y": [
          57.70957176845277,
          182.9638006584306,
          253.89003287659594
         ],
         "yaxis": "y1"
        },
        {
         "error_y": {
          "array": [
           150.65116780399234,
           734.3568414525347,
           303.77383871269393
          ],
          "color": "rgb(23, 190, 207)",
          "symmetric": true,
          "type": "data",
          "visible": true
         },
         "legendgroup": "1280x720",
         "line": {
          "color": "rgb(23, 190, 207)"
         },
         "name": "1280x720",
         "showlegend": false,
         "type": "scatter",
         "x": [
          5,
          7.5,
          10
         ],
         "xaxis": "x2",
         "y": [
          32696.45280353529,
          5029.545494644653,
          1777.853951299534
         ],
         "yaxis": "y2"
        },
        {
         "error_y": {
          "array": [
           120.91956163303344,
           334.02366765838104,
           158.37831181386787
          ],
          "color": "rgb(188, 189, 34)",
          "symmetric": true,
          "type": "data",
          "visible": true
         },
         "legendgroup": "640x480",
         "line": {
          "color": "rgb(188, 189, 34)"
         },
         "name": "640x480",
         "showlegend": false,
         "type": "scatter",
         "x": [
          5,
          7.5,
          10
         ],
         "xaxis": "x2",
         "y": [
          14808.769994582753,
          2611.3920040568364,
          958.007706064877
         ],
         "yaxis": "y2"
        }
       ],
       "layout": {
        "annotations": [
         {
          "font": {
           "size": 16
          },
          "showarrow": false,
          "text": "Plane Fit Error Standard Deviation",
          "x": 0.225,
          "xanchor": "center",
          "xref": "paper",
          "y": 1,
          "yanchor": "bottom",
          "yref": "paper"
         },
         {
          "font": {
           "size": 16
          },
          "showarrow": false,
          "text": "Point Density",
          "x": 0.775,
          "xanchor": "center",
          "xref": "paper",
          "y": 1,
          "yanchor": "bottom",
          "yref": "paper"
         }
        ],
        "separators": ",.",
        "title": "Plan Fitting Far - Dataset 01",
        "xaxis1": {
         "anchor": "y1",
         "domain": [
          0,
          0.45
         ],
         "title": "Distance [m]"
        },
        "xaxis2": {
         "anchor": "y2",
         "domain": [
          0.55,
          1
         ],
         "title": "Distance [m]"
        },
        "yaxis1": {
         "anchor": "x1",
         "domain": [
          0,
          1
         ],
         "range": [
          0,
          261.1862923191147
         ],
         "title": "Error STD [mm]"
        },
        "yaxis2": {
         "anchor": "x2",
         "domain": [
          0,
          1
         ],
         "hoverformat": ",.2f",
         "tickformat": ",d",
         "title": "Point Density [p / m²]"
        }
       }
      },
      "text/html": [
       "<div id=\"02900a52-c393-4db6-8d26-b19b5670c244\" style=\"height: 525px; width: 100%;\" class=\"plotly-graph-div\"></div><script type=\"text/javascript\">require([\"plotly\"], function(Plotly) { window.PLOTLYENV=window.PLOTLYENV || {};window.PLOTLYENV.BASE_URL=\"https://plot.ly\";Plotly.newPlot(\"02900a52-c393-4db6-8d26-b19b5670c244\", [{\"type\": \"scatter\", \"x\": [5.0, 7.5, 10.0], \"y\": [69.85786976392123, 192.8409441571288, 252.8184588701478], \"error_y\": {\"type\": \"data\", \"visible\": true, \"symmetric\": true, \"array\": [2.704914737222619, 2.500980393235899, 6.550682945628824], \"color\": \"rgb(23, 190, 207)\"}, \"name\": \"1280x720\", \"legendgroup\": \"1280x720\", \"showlegend\": true, \"line\": {\"color\": \"rgb(23, 190, 207)\"}, \"xaxis\": \"x1\", \"yaxis\": \"y1\"}, {\"type\": \"scatter\", \"x\": [5.0, 7.5, 10.0], \"y\": [57.70957176845277, 182.9638006584306, 253.89003287659594], \"error_y\": {\"type\": \"data\", \"visible\": true, \"symmetric\": true, \"array\": [3.3995740389418962, 10.142491715907527, 5.688793207757901], \"color\": \"rgb(188, 189, 34)\"}, \"name\": \"640x480\", \"legendgroup\": \"640x480\", \"showlegend\": true, \"line\": {\"color\": \"rgb(188, 189, 34)\"}, \"xaxis\": \"x1\", \"yaxis\": \"y1\"}, {\"type\": \"scatter\", \"x\": [5.0, 7.5, 10.0], \"y\": [32696.45280353529, 5029.545494644653, 1777.853951299534], \"error_y\": {\"type\": \"data\", \"visible\": true, \"symmetric\": true, \"array\": [150.65116780399234, 734.3568414525347, 303.77383871269393], \"color\": \"rgb(23, 190, 207)\"}, \"name\": \"1280x720\", \"legendgroup\": \"1280x720\", \"showlegend\": false, \"line\": {\"color\": \"rgb(23, 190, 207)\"}, \"xaxis\": \"x2\", \"yaxis\": \"y2\"}, {\"type\": \"scatter\", \"x\": [5.0, 7.5, 10.0], \"y\": [14808.769994582753, 2611.3920040568364, 958.007706064877], \"error_y\": {\"type\": \"data\", \"visible\": true, \"symmetric\": true, \"array\": [120.91956163303344, 334.02366765838104, 158.37831181386787], \"color\": \"rgb(188, 189, 34)\"}, \"name\": \"640x480\", \"legendgroup\": \"640x480\", \"showlegend\": false, \"line\": {\"color\": \"rgb(188, 189, 34)\"}, \"xaxis\": \"x2\", \"yaxis\": \"y2\"}], {\"xaxis1\": {\"domain\": [0.0, 0.45], \"anchor\": \"y1\", \"title\": \"Distance [m]\"}, \"yaxis1\": {\"domain\": [0.0, 1.0], \"anchor\": \"x1\", \"title\": \"Error STD [mm]\", \"range\": [0, 261.1862923191147]}, \"xaxis2\": {\"domain\": [0.55, 1.0], \"anchor\": \"y2\", \"title\": \"Distance [m]\"}, \"yaxis2\": {\"domain\": [0.0, 1.0], \"anchor\": \"x2\", \"title\": \"Point Density [p / m\\u00b2]\", \"tickformat\": \",d\", \"hoverformat\": \",.2f\"}, \"annotations\": [{\"y\": 1.0, \"xref\": \"paper\", \"x\": 0.225, \"yref\": \"paper\", \"text\": \"Plane Fit Error Standard Deviation\", \"showarrow\": false, \"font\": {\"size\": 16}, \"xanchor\": \"center\", \"yanchor\": \"bottom\"}, {\"y\": 1.0, \"xref\": \"paper\", \"x\": 0.775, \"yref\": \"paper\", \"text\": \"Point Density\", \"showarrow\": false, \"font\": {\"size\": 16}, \"xanchor\": \"center\", \"yanchor\": \"bottom\"}], \"title\": \"Plan Fitting Far - Dataset 01\", \"separators\": \",.\"}, {\"showLink\": true, \"linkText\": \"Export to plot.ly\"})});</script>"
      ],
      "text/vnd.plotly.v1+html": [
       "<div id=\"02900a52-c393-4db6-8d26-b19b5670c244\" style=\"height: 525px; width: 100%;\" class=\"plotly-graph-div\"></div><script type=\"text/javascript\">require([\"plotly\"], function(Plotly) { window.PLOTLYENV=window.PLOTLYENV || {};window.PLOTLYENV.BASE_URL=\"https://plot.ly\";Plotly.newPlot(\"02900a52-c393-4db6-8d26-b19b5670c244\", [{\"type\": \"scatter\", \"x\": [5.0, 7.5, 10.0], \"y\": [69.85786976392123, 192.8409441571288, 252.8184588701478], \"error_y\": {\"type\": \"data\", \"visible\": true, \"symmetric\": true, \"array\": [2.704914737222619, 2.500980393235899, 6.550682945628824], \"color\": \"rgb(23, 190, 207)\"}, \"name\": \"1280x720\", \"legendgroup\": \"1280x720\", \"showlegend\": true, \"line\": {\"color\": \"rgb(23, 190, 207)\"}, \"xaxis\": \"x1\", \"yaxis\": \"y1\"}, {\"type\": \"scatter\", \"x\": [5.0, 7.5, 10.0], \"y\": [57.70957176845277, 182.9638006584306, 253.89003287659594], \"error_y\": {\"type\": \"data\", \"visible\": true, \"symmetric\": true, \"array\": [3.3995740389418962, 10.142491715907527, 5.688793207757901], \"color\": \"rgb(188, 189, 34)\"}, \"name\": \"640x480\", \"legendgroup\": \"640x480\", \"showlegend\": true, \"line\": {\"color\": \"rgb(188, 189, 34)\"}, \"xaxis\": \"x1\", \"yaxis\": \"y1\"}, {\"type\": \"scatter\", \"x\": [5.0, 7.5, 10.0], \"y\": [32696.45280353529, 5029.545494644653, 1777.853951299534], \"error_y\": {\"type\": \"data\", \"visible\": true, \"symmetric\": true, \"array\": [150.65116780399234, 734.3568414525347, 303.77383871269393], \"color\": \"rgb(23, 190, 207)\"}, \"name\": \"1280x720\", \"legendgroup\": \"1280x720\", \"showlegend\": false, \"line\": {\"color\": \"rgb(23, 190, 207)\"}, \"xaxis\": \"x2\", \"yaxis\": \"y2\"}, {\"type\": \"scatter\", \"x\": [5.0, 7.5, 10.0], \"y\": [14808.769994582753, 2611.3920040568364, 958.007706064877], \"error_y\": {\"type\": \"data\", \"visible\": true, \"symmetric\": true, \"array\": [120.91956163303344, 334.02366765838104, 158.37831181386787], \"color\": \"rgb(188, 189, 34)\"}, \"name\": \"640x480\", \"legendgroup\": \"640x480\", \"showlegend\": false, \"line\": {\"color\": \"rgb(188, 189, 34)\"}, \"xaxis\": \"x2\", \"yaxis\": \"y2\"}], {\"xaxis1\": {\"domain\": [0.0, 0.45], \"anchor\": \"y1\", \"title\": \"Distance [m]\"}, \"yaxis1\": {\"domain\": [0.0, 1.0], \"anchor\": \"x1\", \"title\": \"Error STD [mm]\", \"range\": [0, 261.1862923191147]}, \"xaxis2\": {\"domain\": [0.55, 1.0], \"anchor\": \"y2\", \"title\": \"Distance [m]\"}, \"yaxis2\": {\"domain\": [0.0, 1.0], \"anchor\": \"x2\", \"title\": \"Point Density [p / m\\u00b2]\", \"tickformat\": \",d\", \"hoverformat\": \",.2f\"}, \"annotations\": [{\"y\": 1.0, \"xref\": \"paper\", \"x\": 0.225, \"yref\": \"paper\", \"text\": \"Plane Fit Error Standard Deviation\", \"showarrow\": false, \"font\": {\"size\": 16}, \"xanchor\": \"center\", \"yanchor\": \"bottom\"}, {\"y\": 1.0, \"xref\": \"paper\", \"x\": 0.775, \"yref\": \"paper\", \"text\": \"Point Density\", \"showarrow\": false, \"font\": {\"size\": 16}, \"xanchor\": \"center\", \"yanchor\": \"bottom\"}], \"title\": \"Plan Fitting Far - Dataset 01\", \"separators\": \",.\"}, {\"showLink\": true, \"linkText\": \"Export to plot.ly\"})});</script>"
      ]
     },
     "metadata": {},
     "output_type": "display_data"
    }
   ],
   "source": [
    "plotPlaneData(pcDataFar02, 'Plan Fitting Far - Dataset 01')"
   ]
  },
  {
   "cell_type": "markdown",
   "metadata": {},
   "source": [
    "The error values and plots tend to show an improvement for increasing distance again. This is against intuitive belief. Further digging in the data reveal that the error in this distances is so large, the plane is fittet completely wrong. One could account for that by increasing the area of the target plane in the image. Due to limitations in our experiment setup, we couldn't find a large enough plane which still fitted indoors to cover the whole field of view at a distance of 10 meters."
   ]
  },
  {
   "cell_type": "code",
   "execution_count": 11,
   "metadata": {},
   "outputs": [],
   "source": [
    "def plotGarbageFiltering(ply):\n",
    "    vertices = ply.getVertices().T\n",
    "    \n",
    "    fig, ax = plt.subplots(2, 2, sharex=True, sharey=True, figsize=(20, 15))\n",
    "    fig.suptitle('Garbage Point Filtering', fontsize=16)\n",
    "\n",
    "    for axis in ax.ravel():\n",
    "        axis.grid(True)\n",
    "        axis.set_ylabel('Z values')\n",
    "\n",
    "    data0 = np.unique(np.sort(vertices[:, 2]))\n",
    "    data1 = np.diff(data0)\n",
    "\n",
    "    ax[0, 0].set_title('Without Garbage Filtering')\n",
    "    ax[0, 0].plot(data0)\n",
    "    ax[0, 0].plot(data1, '--')\n",
    "\n",
    "    fVertices = FilterPointCloud.filterGarbageOld1(vertices)\n",
    "    data0 = np.unique(np.sort(fVertices[:, 2]))\n",
    "    data1 = np.diff(data0)\n",
    "\n",
    "    ax[0, 1].set_title('With Garbage Filtering v1')\n",
    "    ax[0, 1].plot(data0)\n",
    "    ax[0, 1].plot(data1, '--')\n",
    "\n",
    "    fVertices = FilterPointCloud.filterGarbageOld2(vertices)\n",
    "    data0 = np.unique(np.sort(fVertices[:, 2]))\n",
    "    data1 = np.diff(data0)\n",
    "\n",
    "    ax[1, 0].set_title('With Garbage Filtering v2')\n",
    "    ax[1, 0].plot(data0)\n",
    "    ax[1, 0].plot(data1, '--')\n",
    "\n",
    "    fVertices = FilterPointCloud.filterGarbage(vertices)\n",
    "    data0 = np.unique(np.sort(fVertices[:, 2]))\n",
    "    data1 = np.diff(data0)\n",
    "\n",
    "    ax[1, 1].set_title('With Garbage Filtering v3')\n",
    "    ax[1, 1].plot(data0)\n",
    "    ax[1, 1].plot(data1, '--')\n",
    "\n",
    "    plt.show()"
   ]
  },
  {
   "cell_type": "code",
   "execution_count": 12,
   "metadata": {},
   "outputs": [
    {
     "data": {
      "image/png": "[encoded data removed]",
      "text/plain": [
       "<Figure size 1440x1080 with 4 Axes>"
      ]
     },
     "metadata": {},
     "output_type": "display_data"
    }
   ],
   "source": [
    "plotGarbageFiltering(PLYObject.PLYObject(r'RealSense-D415-Data-Near-01\\Laser\\RealSense-D415-Plane-0.5m-640x480-6-Laser\\3.pointcloud.ply'))"
   ]
  },
  {
   "cell_type": "code",
   "execution_count": null,
   "metadata": {},
   "outputs": [],
   "source": [
    "filt = FilterPointCloud.parseFilters([\n",
    "    'x>-0.7188',\n",
    "    'x<1.26',\n",
    "    'y>-0.88',\n",
    "])\n",
    "ply = PLYObject.PLYObject(r'RealSense-D415-Data-Near-02\\Laser\\RealSense-D415-Plane-2.5m-424x240-6-Laser\\1.pointcloud.ply')\n",
    "fply = FilterPointCloud.filterPLYObject(ply, filt)\n",
    "\n",
    "vert = ply.getVertices()\n",
    "fvert = fply.getVertices()\n",
    "\n",
    "data = [\n",
    "    ptygo.Scatter3d(\n",
    "        x=fvert[0],\n",
    "        y=fvert[1],\n",
    "        z=fvert[2],\n",
    "        mode='markers',\n",
    "        marker=dict(\n",
    "            size=1,\n",
    "            opacity=0.7,\n",
    "        ),\n",
    "    )\n",
    "]\n",
    "pty.iplot(data)"
   ]
  },
  {
   "cell_type": "code",
   "execution_count": null,
   "metadata": {
    "scrolled": false
   },
   "outputs": [],
   "source": [
    "data = [\n",
    "    ptygo.Scatter3d(\n",
    "        x=vert[0],\n",
    "        y=vert[1],\n",
    "        z=vert[2],\n",
    "        mode='markers',\n",
    "        marker=dict(\n",
    "            size=1,\n",
    "            opacity=0.7,\n",
    "        ),\n",
    "    )\n",
    "]\n",
    "pty.iplot(data)"
   ]
  }
 ],
 "metadata": {
  "kernelspec": {
   "display_name": "Python 3",
   "language": "python",
   "name": "python3"
  },
  "language_info": {
   "codemirror_mode": {
    "name": "ipython",
    "version": 3
   },
   "file_extension": ".py",
   "mimetype": "text/x-python",
   "name": "python",
   "nbconvert_exporter": "python",
   "pygments_lexer": "ipython3",
   "version": "3.7.0"
  }
 },
 "nbformat": 4,
 "nbformat_minor": 2
}
