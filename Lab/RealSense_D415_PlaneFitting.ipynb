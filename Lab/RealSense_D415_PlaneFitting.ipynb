{
 "cells": [
  {
   "cell_type": "code",
   "execution_count": 4,
   "metadata": {},
   "outputs": [
    {
     "data": {
      "text/html": [
       "<script>requirejs.config({paths: { 'plotly': ['https://cdn.plot.ly/plotly-latest.min']},});if(!window.Plotly) {{require(['plotly'],function(plotly) {window.Plotly=plotly;});}}</script>"
      ],
      "text/vnd.plotly.v1+html": [
       "<script>requirejs.config({paths: { 'plotly': ['https://cdn.plot.ly/plotly-latest.min']},});if(!window.Plotly) {{require(['plotly'],function(plotly) {window.Plotly=plotly;});}}</script>"
      ]
     },
     "metadata": {},
     "output_type": "display_data"
    }
   ],
   "source": [
    "import copy\n",
    "import itertools\n",
    "\n",
    "import numpy as np\n",
    "import plotly.offline as pty\n",
    "import plotly.graph_objs as ptygo\n",
    "import plotly.grid_objs as ptygr\n",
    "import plotly.tools as ptytools\n",
    "import scipy.stats as st\n",
    "\n",
    "import FilterPointCloud\n",
    "import ProcessPlanePointCloud\n",
    "\n",
    "pty.init_notebook_mode(connected=True)"
   ]
  },
  {
   "cell_type": "code",
   "execution_count": 2,
   "metadata": {
    "scrolled": true
   },
   "outputs": [
    {
     "name": "stdout",
     "output_type": "stream",
     "text": [
      "Processing folder RealSense-D415-Plane-0.5m-1280x720-6-Laser\n",
      "Filters: []\n",
      "n = 4\n",
      "e = [0.001272744066909378, 0.0011975697212374943, 0.0012006031117035895, 0.0011872592474881914]\n",
      "d = [3599376.6022536946, 3673032.5327609642, 3674125.838600413, 3689355.2226503114]\n",
      "\n",
      "Processing folder RealSense-D415-Plane-0.5m-640x480-6-Laser\n",
      "Filters: []\n",
      "n = 5\n",
      "e = [0.000979629464228184, 0.00099644149422773, 0.0009896044646350625, 0.0009927092013700958, 0.0009845015566676638]\n",
      "d = [1620227.3117891802, 1625838.3362126236, 1625583.7795850907, 1623391.8987443077, 1626158.7817598465]\n",
      "\n",
      "Processing folder RealSense-D415-Plane-1.0m-1280x720-6-Laser\n",
      "Filters: []\n",
      "n = 5\n",
      "e = [0.00417153546403536, 0.003960580518788105, 0.00392537073043927, 0.0038850551540389323, 0.003886084783745981]\n",
      "d = [871253.1868198893, 869398.9876051244, 866467.4519292535, 866021.1626674612, 870413.9585805516]\n",
      "\n",
      "Processing folder RealSense-D415-Plane-1.0m-640x480-6-Laser\n",
      "Filters: []\n",
      "n = 5\n",
      "e = [0.0022913510930074885, 0.00220443750579066, 0.00224646486659373, 0.002205289999782059, 0.002215983479346323]\n",
      "d = [395881.40496637224, 397576.46403486904, 396736.42108990665, 396631.252183315, 397444.8192349027]\n",
      "\n",
      "Processing folder RealSense-D415-Plane-2.5m-1280x720-6-Laser\n",
      "Filters: [X<1.1447, Y<0.5800]\n",
      "n = 5\n",
      "e = [0.03347138595852008, 0.03636535779259031, 0.03611578884993966, 0.03602428131061653, 0.03641158573254348]\n",
      "d = [141874.39375926953, 141808.40087153876, 140490.6417082575, 142556.7419126138, 141400.02137141651]\n",
      "\n",
      "Processing folder RealSense-D415-Plane-2.5m-640x480-6-Laser\n",
      "Filters: [X<1.1447, Y<0.5800]\n",
      "n = 5\n",
      "e = [0.013643776074598796, 0.018149463266947965, 0.01950330348681496, 0.01740805520610661, 0.01795398146399343]\n",
      "d = [61522.165410316695, 60278.745899678805, 60006.49416196517, 60371.0062179846, 60342.081908803324]\n",
      "\n"
     ]
    }
   ],
   "source": [
    "pcDataNear01 = ProcessPlanePointCloud.main('RealSense-D415-Data-01-Near/Laser/', {\n",
    "\t2.5: [\n",
    "\t\t'x<1.1447',\n",
    "\t\t'y<0.58',\n",
    "\t]\n",
    "})"
   ]
  },
  {
   "cell_type": "code",
   "execution_count": 3,
   "metadata": {},
   "outputs": [
    {
     "name": "stdout",
     "output_type": "stream",
     "text": [
      "Processing folder RealSense-D415-Plane-0.5m-1280x720-6-Laser\n",
      "Filters: []\n",
      "n = 10\n",
      "e = [0.0013949284095392887, 0.0014255667141571285, 0.0014325412140112567, 0.001424911219787964, 0.0014376540086578939, 0.0014199190491987416, 0.0014235292373592017, 0.0014179731787770987, 0.0014206610291585856, 0.0014177412222253422]\n",
      "d = [3356355.6655147043, 3405366.25660619, 3382880.3074755417, 3396178.837123977, 3390912.999696959, 3393509.2763026934, 3405477.7994176955, 3386404.792975015, 3390380.075049065, 3395075.552176819]\n",
      "\n",
      "Processing folder RealSense-D415-Plane-0.5m-424x240-6-Laser\n",
      "Filters: []\n",
      "n = 10\n",
      "e = [0.001194218248898222, 0.0011666443297351232, 0.0011564655045599578, 0.0011361361898958547, 0.0011375168220738232, 0.0011248295070419789, 0.0011350264892422753, 0.0011445630060911932, 0.001132419472382647, 0.0011203402228676777]\n",
      "d = [382867.72502697434, 383337.8710542158, 383505.1233342805, 383339.09719897225, 382607.2879539593, 383328.1836325655, 383189.1568733427, 383657.00266254885, 383155.5853491044, 382669.11342665483]\n",
      "\n",
      "Processing folder RealSense-D415-Plane-0.5m-640x480-6-Laser\n",
      "Filters: []\n",
      "n = 10\n",
      "e = [0.0013330284496259244, 0.0011524093987658752, 0.0011172396045703349, 0.0010958227173042674, 0.00109027270333042, 0.001126082407590523, 0.0011474792319835301, 0.0011438834625942438, 0.0011637181637808112, 0.0011535815221913636]\n",
      "d = [1507689.3296215732, 1528576.487865515, 1528908.9052947355, 1526683.9947770082, 1528432.7692989504, 1512564.245501999, 1518968.0216603028, 1507582.439432686, 1514140.821484835, 1502269.2106196962]\n",
      "\n",
      "Processing folder RealSense-D415-Plane-1.0m-1280x720-6-Laser\n",
      "Filters: []\n",
      "n = 10\n",
      "e = [0.004414423118570754, 0.004420058283314749, 0.004425558122669353, 0.0044455108315629805, 0.004431463573004022, 0.004413939539882108, 0.004415048565092492, 0.004477481487240292, 0.004399196016305676, 0.004413954408885323]\n",
      "d = [849520.8378191493, 846740.7993951493, 840188.6507775558, 843688.2031523479, 844237.7624446497, 847466.3558954073, 845994.5951664691, 847200.2289890428, 846650.0805140247, 839122.351254465]\n",
      "\n",
      "Processing folder RealSense-D415-Plane-1.0m-424x240-6-Laser\n",
      "Filters: []\n",
      "n = 10\n",
      "e = [0.003360351270547252, 0.0032509606456264033, 0.00329911744355389, 0.0032741585986736485, 0.0032574513075549843, 0.003246933779531299, 0.003256423629979751, 0.0032578739444286474, 0.0032624464460397837, 0.00323544010127172]\n",
      "d = [95807.80163825235, 95829.94339639254, 95815.13577771961, 95910.26154604639, 95867.79374768361, 95869.86498551816, 95830.55835959085, 95874.23665277423, 95944.59223060621, 95912.09620078666]\n",
      "\n",
      "Processing folder RealSense-D415-Plane-1.0m-640x480-6-Laser\n",
      "Filters: []\n",
      "n = 10\n",
      "e = [0.004098699628453208, 0.0035820119451231047, 0.003497699932678664, 0.00347201373647161, 0.003441301614768202, 0.00347747508026636, 0.0034828576127267203, 0.0034656514703419743, 0.0034574436376700523, 0.0034466407173346595]\n",
      "d = [381879.1838589857, 383595.8141272783, 383197.16845761146, 383295.3023223441, 383390.62989247596, 383222.38673947967, 383072.9302345485, 383381.69461943145, 383431.7862884511, 382864.3389719163]\n",
      "\n",
      "Processing folder RealSense-D415-Plane-1.5m-1280x720-6-Laser\n",
      "Filters: []\n",
      "n = 10\n",
      "e = [0.007834690814415016, 0.007523683381324942, 0.007475449414184163, 0.007541700720971869, 0.0074055877881102706, 0.007419853173047133, 0.007401257112784898, 0.007498257841260546, 0.007533337688359357, 0.007409221844537555]\n",
      "d = [366105.4596105453, 363421.27228695154, 365524.7578826017, 366200.151696477, 365387.58990014566, 366424.0701208656, 363548.84656792256, 367898.2456787133, 363905.21402404463, 362610.5424373056]\n",
      "\n",
      "Processing folder RealSense-D415-Plane-1.5m-424x240-6-Laser\n",
      "Filters: []\n",
      "n = 10\n",
      "e = [0.009943983326751057, 0.008276411844647594, 0.007864999687111865, 0.0072923074819515946, 0.007423831168379942, 0.007430133552223991, 0.007617406903120713, 0.0077467746980410005, 0.01256956853230579, 0.013480065390068869]\n",
      "d = [41690.29578100207, 41878.39037496979, 41608.87797830581, 41760.46510673417, 41379.10048103914, 41522.45015378417, 41348.54539638551, 41685.75062172931, 39574.14016717159, 38867.2952056963]\n",
      "\n",
      "Processing folder RealSense-D415-Plane-1.5m-640x480-6-Laser\n",
      "Filters: []\n",
      "n = 10\n",
      "e = [0.0054920332615989555, 0.00526896183093521, 0.005259840100791324, 0.0054381148957276, 0.00520429545086043, 0.004804772058057076, 0.005335766779594317, 0.005379339774856283, 0.005320502386536008, 0.005357344257493798]\n",
      "d = [169699.277707084, 168801.78253316073, 168732.2277535366, 167822.94135333688, 167964.39383558187, 169687.62675931488, 169577.75612784052, 169373.60125579184, 169457.41767280572, 169425.0207692262]\n",
      "\n",
      "Processing folder RealSense-D415-Plane-2.0m-1280x720-6-Laser\n",
      "Filters: [X>-1.0300, X<1.2600]\n",
      "n = 10\n",
      "e = [0.013912348292736524, 0.016023051889050084, 0.01601241347602326, 0.016342035119622025, 0.017213315814518862, 0.016543400802227014, 0.016363849456666947, 0.016400998998792993, 0.016623131340567174, 0.01723650732315255]\n",
      "d = [215639.55591449016, 212791.18438190728, 210950.76047661735, 212311.63787392955, 210678.1319800444, 213334.06755925078, 211167.96061744326, 209357.3730827488, 211974.41161987378, 212436.4467417467]\n",
      "\n",
      "Processing folder RealSense-D415-Plane-2.0m-424x240-6-Laser\n",
      "Filters: [X>-1.0300, X<1.2600]\n",
      "n = 10\n",
      "e = [0.0146749919241787, 0.017886440320525623, 0.018470499024182116, 0.01871012598052012, 0.018551085393626, 0.018668492243044524, 0.018701497870358345, 0.018647389402994537, 0.018355376149737715, 0.01875046690344714]\n",
      "d = [24578.29762092814, 24152.541401789065, 24107.860705724594, 24114.24433097503, 24110.690740898655, 24012.884613664344, 24012.143288707608, 24066.151464300234, 24073.265537137275, 23966.462840931603]\n",
      "\n",
      "Processing folder RealSense-D415-Plane-2.0m-640x480-6-Laser\n",
      "Filters: [X>-1.0300, X<1.2600]\n",
      "n = 10\n",
      "e = [0.008718874685999694, 0.008796627820755116, 0.008771050325330357, 0.008767713014296807, 0.008945268729276878, 0.008883652454546925, 0.008880571159158888, 0.008780318609063904, 0.008728874603936631, 0.008606642999733767]\n",
      "d = [94376.71805002828, 93795.37562294774, 93836.71477615336, 93551.82904472457, 93609.98693564405, 93472.54806938804, 93415.32358430664, 93451.15258016928, 93468.55354287985, 93569.76761377329]\n",
      "\n",
      "Processing folder RealSense-D415-Plane-2.5m-1280x720-6-Laser\n",
      "Filters: [X>-0.7420, X<1.2600, Y>-0.8800]\n",
      "n = 10\n",
      "e = [0.026266543081244435, 0.026583294229478506, 0.027222681907430234, 0.027203719165376793, 0.027171287821345813, 0.027553714771249294, 0.025524632511579225, 0.026839494562793085, 0.026530279874521036, 0.026984356087669616]\n",
      "d = [138306.66690752, 137323.59850966232, 135799.62317816706, 135069.95162293018, 136327.67397590523, 135478.13289107525, 135851.26098709847, 136845.6665367857, 135352.37925948726, 136517.62072965674]\n",
      "\n",
      "Processing folder RealSense-D415-Plane-2.5m-424x240-6-Laser\n",
      "Filters: [X>-0.7420, X<1.2600, Y>-0.8800]\n",
      "n = 10\n",
      "e = [0.047918533731015636, 0.020615526190833254, 0.08076560591645332, 0.07267585767811549, 0.07592571794936961, 0.06625496228069701, 0.07702915230709557, 0.06647050582774293, 0.09220096952210056, 0.05543440914921302]\n",
      "d = [15543.926388166396, 15459.790326406574, 13581.049432370759, 13483.585828413356, 13261.523806050967, 13569.857767446361, 13443.567447963509, 14184.072564842529, 12159.808597345698, 13491.001766097503]\n",
      "\n",
      "Processing folder RealSense-D415-Plane-2.5m-640x480-6-Laser\n",
      "Filters: [X>-0.7420, X<1.2600, Y>-0.8800]\n",
      "n = 10\n",
      "e = [0.01803212492183534, 0.0238246150533025, 0.02303218867398468, 0.02427609297248465, 0.024826875856680156, 0.023697077483446034, 0.024531504331288298, 0.024079227641523704, 0.02453021085308386, 0.02358745076299324]\n",
      "d = [62477.96438147019, 60726.38554476425, 60388.362326661016, 61223.76204466819, 61207.19054354646, 61100.024244078115, 61497.594157960484, 61310.46375733323, 60280.5877464857, 60992.87315872999]\n",
      "\n"
     ]
    }
   ],
   "source": [
    "pcDataNear02 = ProcessPlanePointCloud.main('RealSense-D415-Data-02-Near/Laser', {\n",
    "\t2.0: [\n",
    "\t\t'x>-1.03',\n",
    "\t\t'x<1.26',\n",
    "\t],\n",
    "\t2.5: [\n",
    "\t\t'x>-0.742',\n",
    "\t\t'x<1.26',\n",
    "\t\t'y>-0.88',\n",
    "\t],\n",
    "})"
   ]
  },
  {
   "cell_type": "code",
   "execution_count": 5,
   "metadata": {},
   "outputs": [],
   "source": [
    "def ptyColorMap(names):\n",
    "    ptyColors = itertools.cycle(ptytools.DEFAULT_PLOTLY_COLORS)\n",
    "\n",
    "    return dict(zip(names, ptyColors))"
   ]
  },
  {
   "cell_type": "code",
   "execution_count": 6,
   "metadata": {},
   "outputs": [],
   "source": [
    "def createGraphObjectsFromPlaneData(data):\n",
    "    goData = {}\n",
    "    layoutData = {}\n",
    "    \n",
    "    colorMap = ptyColorMap(data.keys())\n",
    "    \n",
    "    measurandMap = {\n",
    "        'planeFitError': {\n",
    "            'xaxis': {\n",
    "                'title': 'Distance [m]',\n",
    "            },\n",
    "            'yaxis': {\n",
    "                'title': 'Error [m]',\n",
    "            },\n",
    "            'title': 'Plane Fit Error',\n",
    "        },\n",
    "        'pointDensity': {\n",
    "            'xaxis': {\n",
    "                'title': 'Distance [m]',\n",
    "            },\n",
    "            'yaxis': {\n",
    "                'title': 'Point Density [p / m²]',\n",
    "            },\n",
    "            'title': 'Point Density',\n",
    "        },\n",
    "    }\n",
    "    \n",
    "    for res in data:\n",
    "        showlegend = True\n",
    "        \n",
    "        for measurand in data[res]:\n",
    "            go = ptygo.Scatter(\n",
    "                x=list(data[res][measurand].keys()),\n",
    "                y=[np.mean(data[res][measurand][dist]) for dist in data[res][measurand]],\n",
    "                error_y=dict(\n",
    "                    type='data',\n",
    "                    visible=True,\n",
    "                    symmetric=True,\n",
    "                    array=np.abs(np.array([st.t.interval(0.95, len(data[res][measurand][dist])-1, loc=0, scale=st.sem(data[res][measurand][dist])) for dist in data[res][measurand]])[:, 0]),\n",
    "                    color=colorMap[res],\n",
    "                ),\n",
    "                name=res,\n",
    "                legendgroup=res,\n",
    "                showlegend=showlegend,\n",
    "                line=dict(\n",
    "                    color=colorMap[res],\n",
    "                ),\n",
    "            )\n",
    "            \n",
    "            if measurand not in goData:\n",
    "                goData[measurand] = []\n",
    "            \n",
    "            goData[measurand].append(go)\n",
    "            showlegend = False\n",
    "            \n",
    "            if measurand in measurand:\n",
    "                layoutData[measurand] = copy.deepcopy(measurandMap[measurand])\n",
    "            else:\n",
    "                layoutData[measurand] = {\n",
    "                    'title': measurand,\n",
    "                }\n",
    "    \n",
    "    return goData, layoutData"
   ]
  },
  {
   "cell_type": "code",
   "execution_count": 7,
   "metadata": {},
   "outputs": [],
   "source": [
    "def plotPlaneData(data):\n",
    "    go, lay = createGraphObjectsFromPlaneData(data)\n",
    "    goKeys = [*go.keys()]\n",
    "    rows = int(np.floor(np.sqrt(len(go))))\n",
    "    cols = int(np.ceil(np.sqrt(len(go))))\n",
    "    \n",
    "    titles = tuple(lay[goKey]['title'] for goKey in goKeys)\n",
    "    \n",
    "    fig = ptytools.make_subplots(rows=rows, cols=cols, subplot_titles=titles, print_grid=False)\n",
    "    \n",
    "    for v in range(rows):\n",
    "        for u in range(cols):\n",
    "            i = v * rows + u\n",
    "            \n",
    "            if i >= len(go):\n",
    "                break\n",
    "            \n",
    "            for t in go[goKeys[i]]:\n",
    "                fig.append_trace(t, v + 1, u + 1)\n",
    "            \n",
    "            layout = lay[goKeys[i]]\n",
    "            \n",
    "            if 'xaxis' in layout:\n",
    "                fig['layout']['xaxis{:d}'.format((v+1)*(rows-1)+u+1)].update(layout['xaxis'])\n",
    "            \n",
    "            if 'yaxis' in layout:\n",
    "                fig['layout']['yaxis{:d}'.format((v+1)*(rows-1)+u+1)].update(layout['yaxis'])\n",
    "    \n",
    "    \n",
    "    pty.iplot(fig)"
   ]
  },
  {
   "cell_type": "code",
   "execution_count": 8,
   "metadata": {},
   "outputs": [
    {
     "data": {
      "application/vnd.plotly.v1+json": {
       "data": [
        {
         "error_y": {
          "array": [
           6.240476164570276e-05,
           0.00014804346358818864,
           0.0015447771800042591
          ],
          "color": "rgb(31, 119, 180)",
          "symmetric": true,
          "type": "data",
          "visible": true
         },
         "legendgroup": "1280x720",
         "line": {
          "color": "rgb(31, 119, 180)"
         },
         "name": "1280x720",
         "showlegend": true,
         "type": "scatter",
         "x": [
          0.5,
          1,
          2.5
         ],
         "xaxis": "x1",
         "y": [
          0.0012145440368346635,
          0.00396572533020953,
          0.03567767992884201
         ],
         "yaxis": "y1"
        },
        {
         "error_y": {
          "array": [
           8.251431264537048e-06,
           4.586995229935906e-05,
           0.002732961812247671
          ],
          "color": "rgb(255, 127, 14)",
          "symmetric": true,
          "type": "data",
          "visible": true
         },
         "legendgroup": "640x480",
         "line": {
          "color": "rgb(255, 127, 14)"
         },
         "name": "640x480",
         "showlegend": true,
         "type": "scatter",
         "x": [
          0.5,
          1,
          2.5
         ],
         "xaxis": "x1",
         "y": [
          0.0009885772362257471,
          0.002232705388904052,
          0.017331715899692353
         ],
         "yaxis": "y1"
        },
        {
         "error_y": {
          "array": [
           64322.22520538112,
           2918.890452769632,
           941.815612736224
          ],
          "color": "rgb(31, 119, 180)",
          "symmetric": true,
          "type": "data",
          "visible": true
         },
         "legendgroup": "1280x720",
         "line": {
          "color": "rgb(31, 119, 180)"
         },
         "name": "1280x720",
         "showlegend": false,
         "type": "scatter",
         "x": [
          0.5,
          1,
          2.5
         ],
         "xaxis": "x2",
         "y": [
          3658972.549066346,
          868710.949520456,
          141626.0399246192
         ],
         "yaxis": "y2"
        },
        {
         "error_y": {
          "array": [
           3095.6483959318493,
           851.3334340970152,
           728.9998078687967
          ],
          "color": "rgb(255, 127, 14)",
          "symmetric": true,
          "type": "data",
          "visible": true
         },
         "legendgroup": "640x480",
         "line": {
          "color": "rgb(255, 127, 14)"
         },
         "name": "640x480",
         "showlegend": false,
         "type": "scatter",
         "x": [
          0.5,
          1,
          2.5
         ],
         "xaxis": "x2",
         "y": [
          1624240.0216182098,
          396854.0723018731,
          60504.098719749716
         ],
         "yaxis": "y2"
        }
       ],
       "layout": {
        "annotations": [
         {
          "font": {
           "size": 16
          },
          "showarrow": false,
          "text": "Plane Fit Error",
          "x": 0.225,
          "xanchor": "center",
          "xref": "paper",
          "y": 1,
          "yanchor": "bottom",
          "yref": "paper"
         },
         {
          "font": {
           "size": 16
          },
          "showarrow": false,
          "text": "Point Density",
          "x": 0.775,
          "xanchor": "center",
          "xref": "paper",
          "y": 1,
          "yanchor": "bottom",
          "yref": "paper"
         }
        ],
        "xaxis1": {
         "anchor": "y1",
         "domain": [
          0,
          0.45
         ],
         "title": "Distance [m]"
        },
        "xaxis2": {
         "anchor": "y2",
         "domain": [
          0.55,
          1
         ],
         "title": "Distance [m]"
        },
        "yaxis1": {
         "anchor": "x1",
         "domain": [
          0,
          1
         ],
         "title": "Error [m]"
        },
        "yaxis2": {
         "anchor": "x2",
         "domain": [
          0,
          1
         ],
         "title": "Point Density [p / m²]"
        }
       }
      },
      "text/html": [
       "<div id=\"c5cc02a6-bbf1-4115-8c1f-313913b7db4b\" style=\"height: 525px; width: 100%;\" class=\"plotly-graph-div\"></div><script type=\"text/javascript\">require([\"plotly\"], function(Plotly) { window.PLOTLYENV=window.PLOTLYENV || {};window.PLOTLYENV.BASE_URL=\"https://plot.ly\";Plotly.newPlot(\"c5cc02a6-bbf1-4115-8c1f-313913b7db4b\", [{\"type\": \"scatter\", \"x\": [0.5, 1.0, 2.5], \"y\": [0.0012145440368346635, 0.00396572533020953, 0.03567767992884201], \"error_y\": {\"type\": \"data\", \"visible\": true, \"symmetric\": true, \"array\": [6.240476164570276e-05, 0.00014804346358818864, 0.0015447771800042591], \"color\": \"rgb(31, 119, 180)\"}, \"name\": \"1280x720\", \"legendgroup\": \"1280x720\", \"showlegend\": true, \"line\": {\"color\": \"rgb(31, 119, 180)\"}, \"xaxis\": \"x1\", \"yaxis\": \"y1\"}, {\"type\": \"scatter\", \"x\": [0.5, 1.0, 2.5], \"y\": [0.0009885772362257471, 0.002232705388904052, 0.017331715899692353], \"error_y\": {\"type\": \"data\", \"visible\": true, \"symmetric\": true, \"array\": [8.251431264537048e-06, 4.586995229935906e-05, 0.002732961812247671], \"color\": \"rgb(255, 127, 14)\"}, \"name\": \"640x480\", \"legendgroup\": \"640x480\", \"showlegend\": true, \"line\": {\"color\": \"rgb(255, 127, 14)\"}, \"xaxis\": \"x1\", \"yaxis\": \"y1\"}, {\"type\": \"scatter\", \"x\": [0.5, 1.0, 2.5], \"y\": [3658972.549066346, 868710.949520456, 141626.0399246192], \"error_y\": {\"type\": \"data\", \"visible\": true, \"symmetric\": true, \"array\": [64322.22520538112, 2918.890452769632, 941.815612736224], \"color\": \"rgb(31, 119, 180)\"}, \"name\": \"1280x720\", \"legendgroup\": \"1280x720\", \"showlegend\": false, \"line\": {\"color\": \"rgb(31, 119, 180)\"}, \"xaxis\": \"x2\", \"yaxis\": \"y2\"}, {\"type\": \"scatter\", \"x\": [0.5, 1.0, 2.5], \"y\": [1624240.0216182098, 396854.0723018731, 60504.098719749716], \"error_y\": {\"type\": \"data\", \"visible\": true, \"symmetric\": true, \"array\": [3095.6483959318493, 851.3334340970152, 728.9998078687967], \"color\": \"rgb(255, 127, 14)\"}, \"name\": \"640x480\", \"legendgroup\": \"640x480\", \"showlegend\": false, \"line\": {\"color\": \"rgb(255, 127, 14)\"}, \"xaxis\": \"x2\", \"yaxis\": \"y2\"}], {\"xaxis1\": {\"domain\": [0.0, 0.45], \"anchor\": \"y1\", \"title\": \"Distance [m]\"}, \"yaxis1\": {\"domain\": [0.0, 1.0], \"anchor\": \"x1\", \"title\": \"Error [m]\"}, \"xaxis2\": {\"domain\": [0.55, 1.0], \"anchor\": \"y2\", \"title\": \"Distance [m]\"}, \"yaxis2\": {\"domain\": [0.0, 1.0], \"anchor\": \"x2\", \"title\": \"Point Density [p / m\\u00b2]\"}, \"annotations\": [{\"y\": 1.0, \"xref\": \"paper\", \"x\": 0.225, \"yref\": \"paper\", \"text\": \"Plane Fit Error\", \"showarrow\": false, \"font\": {\"size\": 16}, \"xanchor\": \"center\", \"yanchor\": \"bottom\"}, {\"y\": 1.0, \"xref\": \"paper\", \"x\": 0.775, \"yref\": \"paper\", \"text\": \"Point Density\", \"showarrow\": false, \"font\": {\"size\": 16}, \"xanchor\": \"center\", \"yanchor\": \"bottom\"}]}, {\"showLink\": true, \"linkText\": \"Export to plot.ly\"})});</script>"
      ],
      "text/vnd.plotly.v1+html": [
       "<div id=\"c5cc02a6-bbf1-4115-8c1f-313913b7db4b\" style=\"height: 525px; width: 100%;\" class=\"plotly-graph-div\"></div><script type=\"text/javascript\">require([\"plotly\"], function(Plotly) { window.PLOTLYENV=window.PLOTLYENV || {};window.PLOTLYENV.BASE_URL=\"https://plot.ly\";Plotly.newPlot(\"c5cc02a6-bbf1-4115-8c1f-313913b7db4b\", [{\"type\": \"scatter\", \"x\": [0.5, 1.0, 2.5], \"y\": [0.0012145440368346635, 0.00396572533020953, 0.03567767992884201], \"error_y\": {\"type\": \"data\", \"visible\": true, \"symmetric\": true, \"array\": [6.240476164570276e-05, 0.00014804346358818864, 0.0015447771800042591], \"color\": \"rgb(31, 119, 180)\"}, \"name\": \"1280x720\", \"legendgroup\": \"1280x720\", \"showlegend\": true, \"line\": {\"color\": \"rgb(31, 119, 180)\"}, \"xaxis\": \"x1\", \"yaxis\": \"y1\"}, {\"type\": \"scatter\", \"x\": [0.5, 1.0, 2.5], \"y\": [0.0009885772362257471, 0.002232705388904052, 0.017331715899692353], \"error_y\": {\"type\": \"data\", \"visible\": true, \"symmetric\": true, \"array\": [8.251431264537048e-06, 4.586995229935906e-05, 0.002732961812247671], \"color\": \"rgb(255, 127, 14)\"}, \"name\": \"640x480\", \"legendgroup\": \"640x480\", \"showlegend\": true, \"line\": {\"color\": \"rgb(255, 127, 14)\"}, \"xaxis\": \"x1\", \"yaxis\": \"y1\"}, {\"type\": \"scatter\", \"x\": [0.5, 1.0, 2.5], \"y\": [3658972.549066346, 868710.949520456, 141626.0399246192], \"error_y\": {\"type\": \"data\", \"visible\": true, \"symmetric\": true, \"array\": [64322.22520538112, 2918.890452769632, 941.815612736224], \"color\": \"rgb(31, 119, 180)\"}, \"name\": \"1280x720\", \"legendgroup\": \"1280x720\", \"showlegend\": false, \"line\": {\"color\": \"rgb(31, 119, 180)\"}, \"xaxis\": \"x2\", \"yaxis\": \"y2\"}, {\"type\": \"scatter\", \"x\": [0.5, 1.0, 2.5], \"y\": [1624240.0216182098, 396854.0723018731, 60504.098719749716], \"error_y\": {\"type\": \"data\", \"visible\": true, \"symmetric\": true, \"array\": [3095.6483959318493, 851.3334340970152, 728.9998078687967], \"color\": \"rgb(255, 127, 14)\"}, \"name\": \"640x480\", \"legendgroup\": \"640x480\", \"showlegend\": false, \"line\": {\"color\": \"rgb(255, 127, 14)\"}, \"xaxis\": \"x2\", \"yaxis\": \"y2\"}], {\"xaxis1\": {\"domain\": [0.0, 0.45], \"anchor\": \"y1\", \"title\": \"Distance [m]\"}, \"yaxis1\": {\"domain\": [0.0, 1.0], \"anchor\": \"x1\", \"title\": \"Error [m]\"}, \"xaxis2\": {\"domain\": [0.55, 1.0], \"anchor\": \"y2\", \"title\": \"Distance [m]\"}, \"yaxis2\": {\"domain\": [0.0, 1.0], \"anchor\": \"x2\", \"title\": \"Point Density [p / m\\u00b2]\"}, \"annotations\": [{\"y\": 1.0, \"xref\": \"paper\", \"x\": 0.225, \"yref\": \"paper\", \"text\": \"Plane Fit Error\", \"showarrow\": false, \"font\": {\"size\": 16}, \"xanchor\": \"center\", \"yanchor\": \"bottom\"}, {\"y\": 1.0, \"xref\": \"paper\", \"x\": 0.775, \"yref\": \"paper\", \"text\": \"Point Density\", \"showarrow\": false, \"font\": {\"size\": 16}, \"xanchor\": \"center\", \"yanchor\": \"bottom\"}]}, {\"showLink\": true, \"linkText\": \"Export to plot.ly\"})});</script>"
      ]
     },
     "metadata": {},
     "output_type": "display_data"
    }
   ],
   "source": [
    "plotPlaneData(pcDataNear01)"
   ]
  },
  {
   "cell_type": "code",
   "execution_count": 9,
   "metadata": {},
   "outputs": [
    {
     "data": {
      "application/vnd.plotly.v1+json": {
       "data": [
        {
         "error_y": {
          "array": [
           8.089665336906795e-06,
           1.574181758582378e-05,
           9.20987036362345e-05,
           0.0006634101461900326,
           0.000420687286587491
          ],
          "color": "rgb(31, 119, 180)",
          "symmetric": true,
          "type": "data",
          "visible": true
         },
         "legendgroup": "1280x720",
         "line": {
          "color": "rgb(31, 119, 180)"
         },
         "name": "1280x720",
         "showlegend": true,
         "type": "scatter",
         "x": [
          0.5,
          1,
          1.5,
          2,
          2.5
         ],
         "xaxis": "x1",
         "y": [
          0.0014215425282872501,
          0.004425663394652775,
          0.007504303977899575,
          0.01626710525133574,
          0.026788000401268802
         ],
         "yaxis": "y1"
        },
        {
         "error_y": {
          "array": [
           1.587003925507248e-05,
           2.5751917635398014e-05,
           0.001632140899267905,
           0.0008904492157594563,
           0.014436970140090665
          ],
          "color": "rgb(255, 127, 14)",
          "symmetric": true,
          "type": "data",
          "visible": true
         },
         "legendgroup": "424x240",
         "line": {
          "color": "rgb(255, 127, 14)"
         },
         "name": "424x240",
         "showlegend": true,
         "type": "scatter",
         "x": [
          0.5,
          1,
          1.5,
          2,
          2.5
         ],
         "xaxis": "x1",
         "y": [
          0.0011448159792788754,
          0.003270115716720738,
          0.00896454825846024,
          0.01814163652126148,
          0.06552912405526365
         ],
         "yaxis": "y1"
        },
        {
         "error_y": {
          "array": [
           4.877647470522381e-05,
           0.00014272309589360757,
           0.000135370491387109,
           6.929451289113193e-05,
           0.0014118748831310247
          ],
          "color": "rgb(44, 160, 44)",
          "symmetric": true,
          "type": "data",
          "visible": true
         },
         "legendgroup": "640x480",
         "line": {
          "color": "rgb(44, 160, 44)"
         },
         "name": "640x480",
         "showlegend": true,
         "type": "scatter",
         "x": [
          0.5,
          1,
          1.5,
          2,
          2.5
         ],
         "xaxis": "x1",
         "y": [
          0.0011523517661737293,
          0.003542179537583455,
          0.0052860970796450996,
          0.008787959440209898,
          0.02344173685506224
         ],
         "yaxis": "y1"
        },
        {
         "error_y": {
          "array": [
           9968.981081020915,
           2360.9948178449044,
           1190.2758942797736,
           1225.7279632500763,
           713.6432488032386
          ],
          "color": "rgb(31, 119, 180)",
          "symmetric": true,
          "type": "data",
          "visible": true
         },
         "legendgroup": "1280x720",
         "line": {
          "color": "rgb(31, 119, 180)"
         },
         "name": "1280x720",
         "showlegend": false,
         "type": "scatter",
         "x": [
          0.5,
          1,
          1.5,
          2,
          2.5
         ],
         "xaxis": "x2",
         "y": [
          3390254.156233866,
          845080.986540826,
          365102.6150205573,
          212064.1530248052,
          136287.2574598288
         ],
         "yaxis": "y2"
        },
        {
         "error_y": {
          "array": [
           249.01553211381662,
           32.761442468568035,
           739.3570471198007,
           122.31558051673753,
           728.9097711586106
          ],
          "color": "rgb(255, 127, 14)",
          "symmetric": true,
          "type": "data",
          "visible": true
         },
         "legendgroup": "424x240",
         "line": {
          "color": "rgb(255, 127, 14)"
         },
         "name": "424x240",
         "showlegend": false,
         "type": "scatter",
         "x": [
          0.5,
          1,
          1.5,
          2,
          2.5
         ],
         "xaxis": "x2",
         "y": [
          383165.6146512618,
          95866.22845353707,
          41131.53112668179,
          24119.454254505654,
          13817.818392510366
         ],
         "yaxis": "y2"
        },
        {
         "error_y": {
          "array": [
           7236.708500073352,
           347.0266608817751,
           498.1674054540365,
           207.95811076667098,
           443.0778921804221
          ],
          "color": "rgb(44, 160, 44)",
          "symmetric": true,
          "type": "data",
          "visible": true
         },
         "legendgroup": "640x480",
         "line": {
          "color": "rgb(44, 160, 44)"
         },
         "name": "640x480",
         "showlegend": false,
         "type": "scatter",
         "x": [
          0.5,
          1,
          1.5,
          2,
          2.5
         ],
         "xaxis": "x2",
         "y": [
          1517581.6225557302,
          383133.1235512522,
          169054.20457676792,
          93654.79698200151,
          61120.52079056976
         ],
         "yaxis": "y2"
        }
       ],
       "layout": {
        "annotations": [
         {
          "font": {
           "size": 16
          },
          "showarrow": false,
          "text": "Plane Fit Error",
          "x": 0.225,
          "xanchor": "center",
          "xref": "paper",
          "y": 1,
          "yanchor": "bottom",
          "yref": "paper"
         },
         {
          "font": {
           "size": 16
          },
          "showarrow": false,
          "text": "Point Density",
          "x": 0.775,
          "xanchor": "center",
          "xref": "paper",
          "y": 1,
          "yanchor": "bottom",
          "yref": "paper"
         }
        ],
        "xaxis1": {
         "anchor": "y1",
         "domain": [
          0,
          0.45
         ],
         "title": "Distance [m]"
        },
        "xaxis2": {
         "anchor": "y2",
         "domain": [
          0.55,
          1
         ],
         "title": "Distance [m]"
        },
        "yaxis1": {
         "anchor": "x1",
         "domain": [
          0,
          1
         ],
         "title": "Error [m]"
        },
        "yaxis2": {
         "anchor": "x2",
         "domain": [
          0,
          1
         ],
         "title": "Point Density [p / m²]"
        }
       }
      },
      "text/html": [
       "<div id=\"a760c891-54dc-4e96-925c-e572545714cd\" style=\"height: 525px; width: 100%;\" class=\"plotly-graph-div\"></div><script type=\"text/javascript\">require([\"plotly\"], function(Plotly) { window.PLOTLYENV=window.PLOTLYENV || {};window.PLOTLYENV.BASE_URL=\"https://plot.ly\";Plotly.newPlot(\"a760c891-54dc-4e96-925c-e572545714cd\", [{\"type\": \"scatter\", \"x\": [0.5, 1.0, 1.5, 2.0, 2.5], \"y\": [0.0014215425282872501, 0.004425663394652775, 0.007504303977899575, 0.01626710525133574, 0.026788000401268802], \"error_y\": {\"type\": \"data\", \"visible\": true, \"symmetric\": true, \"array\": [8.089665336906795e-06, 1.574181758582378e-05, 9.20987036362345e-05, 0.0006634101461900326, 0.000420687286587491], \"color\": \"rgb(31, 119, 180)\"}, \"name\": \"1280x720\", \"legendgroup\": \"1280x720\", \"showlegend\": true, \"line\": {\"color\": \"rgb(31, 119, 180)\"}, \"xaxis\": \"x1\", \"yaxis\": \"y1\"}, {\"type\": \"scatter\", \"x\": [0.5, 1.0, 1.5, 2.0, 2.5], \"y\": [0.0011448159792788754, 0.003270115716720738, 0.00896454825846024, 0.01814163652126148, 0.06552912405526365], \"error_y\": {\"type\": \"data\", \"visible\": true, \"symmetric\": true, \"array\": [1.587003925507248e-05, 2.5751917635398014e-05, 0.001632140899267905, 0.0008904492157594563, 0.014436970140090665], \"color\": \"rgb(255, 127, 14)\"}, \"name\": \"424x240\", \"legendgroup\": \"424x240\", \"showlegend\": true, \"line\": {\"color\": \"rgb(255, 127, 14)\"}, \"xaxis\": \"x1\", \"yaxis\": \"y1\"}, {\"type\": \"scatter\", \"x\": [0.5, 1.0, 1.5, 2.0, 2.5], \"y\": [0.0011523517661737293, 0.003542179537583455, 0.0052860970796450996, 0.008787959440209898, 0.02344173685506224], \"error_y\": {\"type\": \"data\", \"visible\": true, \"symmetric\": true, \"array\": [4.877647470522381e-05, 0.00014272309589360757, 0.000135370491387109, 6.929451289113193e-05, 0.0014118748831310247], \"color\": \"rgb(44, 160, 44)\"}, \"name\": \"640x480\", \"legendgroup\": \"640x480\", \"showlegend\": true, \"line\": {\"color\": \"rgb(44, 160, 44)\"}, \"xaxis\": \"x1\", \"yaxis\": \"y1\"}, {\"type\": \"scatter\", \"x\": [0.5, 1.0, 1.5, 2.0, 2.5], \"y\": [3390254.156233866, 845080.986540826, 365102.6150205573, 212064.1530248052, 136287.2574598288], \"error_y\": {\"type\": \"data\", \"visible\": true, \"symmetric\": true, \"array\": [9968.981081020915, 2360.9948178449044, 1190.2758942797736, 1225.7279632500763, 713.6432488032386], \"color\": \"rgb(31, 119, 180)\"}, \"name\": \"1280x720\", \"legendgroup\": \"1280x720\", \"showlegend\": false, \"line\": {\"color\": \"rgb(31, 119, 180)\"}, \"xaxis\": \"x2\", \"yaxis\": \"y2\"}, {\"type\": \"scatter\", \"x\": [0.5, 1.0, 1.5, 2.0, 2.5], \"y\": [383165.6146512618, 95866.22845353707, 41131.53112668179, 24119.454254505654, 13817.818392510366], \"error_y\": {\"type\": \"data\", \"visible\": true, \"symmetric\": true, \"array\": [249.01553211381662, 32.761442468568035, 739.3570471198007, 122.31558051673753, 728.9097711586106], \"color\": \"rgb(255, 127, 14)\"}, \"name\": \"424x240\", \"legendgroup\": \"424x240\", \"showlegend\": false, \"line\": {\"color\": \"rgb(255, 127, 14)\"}, \"xaxis\": \"x2\", \"yaxis\": \"y2\"}, {\"type\": \"scatter\", \"x\": [0.5, 1.0, 1.5, 2.0, 2.5], \"y\": [1517581.6225557302, 383133.1235512522, 169054.20457676792, 93654.79698200151, 61120.52079056976], \"error_y\": {\"type\": \"data\", \"visible\": true, \"symmetric\": true, \"array\": [7236.708500073352, 347.0266608817751, 498.1674054540365, 207.95811076667098, 443.0778921804221], \"color\": \"rgb(44, 160, 44)\"}, \"name\": \"640x480\", \"legendgroup\": \"640x480\", \"showlegend\": false, \"line\": {\"color\": \"rgb(44, 160, 44)\"}, \"xaxis\": \"x2\", \"yaxis\": \"y2\"}], {\"xaxis1\": {\"domain\": [0.0, 0.45], \"anchor\": \"y1\", \"title\": \"Distance [m]\"}, \"yaxis1\": {\"domain\": [0.0, 1.0], \"anchor\": \"x1\", \"title\": \"Error [m]\"}, \"xaxis2\": {\"domain\": [0.55, 1.0], \"anchor\": \"y2\", \"title\": \"Distance [m]\"}, \"yaxis2\": {\"domain\": [0.0, 1.0], \"anchor\": \"x2\", \"title\": \"Point Density [p / m\\u00b2]\"}, \"annotations\": [{\"y\": 1.0, \"xref\": \"paper\", \"x\": 0.225, \"yref\": \"paper\", \"text\": \"Plane Fit Error\", \"showarrow\": false, \"font\": {\"size\": 16}, \"xanchor\": \"center\", \"yanchor\": \"bottom\"}, {\"y\": 1.0, \"xref\": \"paper\", \"x\": 0.775, \"yref\": \"paper\", \"text\": \"Point Density\", \"showarrow\": false, \"font\": {\"size\": 16}, \"xanchor\": \"center\", \"yanchor\": \"bottom\"}]}, {\"showLink\": true, \"linkText\": \"Export to plot.ly\"})});</script>"
      ],
      "text/vnd.plotly.v1+html": [
       "<div id=\"a760c891-54dc-4e96-925c-e572545714cd\" style=\"height: 525px; width: 100%;\" class=\"plotly-graph-div\"></div><script type=\"text/javascript\">require([\"plotly\"], function(Plotly) { window.PLOTLYENV=window.PLOTLYENV || {};window.PLOTLYENV.BASE_URL=\"https://plot.ly\";Plotly.newPlot(\"a760c891-54dc-4e96-925c-e572545714cd\", [{\"type\": \"scatter\", \"x\": [0.5, 1.0, 1.5, 2.0, 2.5], \"y\": [0.0014215425282872501, 0.004425663394652775, 0.007504303977899575, 0.01626710525133574, 0.026788000401268802], \"error_y\": {\"type\": \"data\", \"visible\": true, \"symmetric\": true, \"array\": [8.089665336906795e-06, 1.574181758582378e-05, 9.20987036362345e-05, 0.0006634101461900326, 0.000420687286587491], \"color\": \"rgb(31, 119, 180)\"}, \"name\": \"1280x720\", \"legendgroup\": \"1280x720\", \"showlegend\": true, \"line\": {\"color\": \"rgb(31, 119, 180)\"}, \"xaxis\": \"x1\", \"yaxis\": \"y1\"}, {\"type\": \"scatter\", \"x\": [0.5, 1.0, 1.5, 2.0, 2.5], \"y\": [0.0011448159792788754, 0.003270115716720738, 0.00896454825846024, 0.01814163652126148, 0.06552912405526365], \"error_y\": {\"type\": \"data\", \"visible\": true, \"symmetric\": true, \"array\": [1.587003925507248e-05, 2.5751917635398014e-05, 0.001632140899267905, 0.0008904492157594563, 0.014436970140090665], \"color\": \"rgb(255, 127, 14)\"}, \"name\": \"424x240\", \"legendgroup\": \"424x240\", \"showlegend\": true, \"line\": {\"color\": \"rgb(255, 127, 14)\"}, \"xaxis\": \"x1\", \"yaxis\": \"y1\"}, {\"type\": \"scatter\", \"x\": [0.5, 1.0, 1.5, 2.0, 2.5], \"y\": [0.0011523517661737293, 0.003542179537583455, 0.0052860970796450996, 0.008787959440209898, 0.02344173685506224], \"error_y\": {\"type\": \"data\", \"visible\": true, \"symmetric\": true, \"array\": [4.877647470522381e-05, 0.00014272309589360757, 0.000135370491387109, 6.929451289113193e-05, 0.0014118748831310247], \"color\": \"rgb(44, 160, 44)\"}, \"name\": \"640x480\", \"legendgroup\": \"640x480\", \"showlegend\": true, \"line\": {\"color\": \"rgb(44, 160, 44)\"}, \"xaxis\": \"x1\", \"yaxis\": \"y1\"}, {\"type\": \"scatter\", \"x\": [0.5, 1.0, 1.5, 2.0, 2.5], \"y\": [3390254.156233866, 845080.986540826, 365102.6150205573, 212064.1530248052, 136287.2574598288], \"error_y\": {\"type\": \"data\", \"visible\": true, \"symmetric\": true, \"array\": [9968.981081020915, 2360.9948178449044, 1190.2758942797736, 1225.7279632500763, 713.6432488032386], \"color\": \"rgb(31, 119, 180)\"}, \"name\": \"1280x720\", \"legendgroup\": \"1280x720\", \"showlegend\": false, \"line\": {\"color\": \"rgb(31, 119, 180)\"}, \"xaxis\": \"x2\", \"yaxis\": \"y2\"}, {\"type\": \"scatter\", \"x\": [0.5, 1.0, 1.5, 2.0, 2.5], \"y\": [383165.6146512618, 95866.22845353707, 41131.53112668179, 24119.454254505654, 13817.818392510366], \"error_y\": {\"type\": \"data\", \"visible\": true, \"symmetric\": true, \"array\": [249.01553211381662, 32.761442468568035, 739.3570471198007, 122.31558051673753, 728.9097711586106], \"color\": \"rgb(255, 127, 14)\"}, \"name\": \"424x240\", \"legendgroup\": \"424x240\", \"showlegend\": false, \"line\": {\"color\": \"rgb(255, 127, 14)\"}, \"xaxis\": \"x2\", \"yaxis\": \"y2\"}, {\"type\": \"scatter\", \"x\": [0.5, 1.0, 1.5, 2.0, 2.5], \"y\": [1517581.6225557302, 383133.1235512522, 169054.20457676792, 93654.79698200151, 61120.52079056976], \"error_y\": {\"type\": \"data\", \"visible\": true, \"symmetric\": true, \"array\": [7236.708500073352, 347.0266608817751, 498.1674054540365, 207.95811076667098, 443.0778921804221], \"color\": \"rgb(44, 160, 44)\"}, \"name\": \"640x480\", \"legendgroup\": \"640x480\", \"showlegend\": false, \"line\": {\"color\": \"rgb(44, 160, 44)\"}, \"xaxis\": \"x2\", \"yaxis\": \"y2\"}], {\"xaxis1\": {\"domain\": [0.0, 0.45], \"anchor\": \"y1\", \"title\": \"Distance [m]\"}, \"yaxis1\": {\"domain\": [0.0, 1.0], \"anchor\": \"x1\", \"title\": \"Error [m]\"}, \"xaxis2\": {\"domain\": [0.55, 1.0], \"anchor\": \"y2\", \"title\": \"Distance [m]\"}, \"yaxis2\": {\"domain\": [0.0, 1.0], \"anchor\": \"x2\", \"title\": \"Point Density [p / m\\u00b2]\"}, \"annotations\": [{\"y\": 1.0, \"xref\": \"paper\", \"x\": 0.225, \"yref\": \"paper\", \"text\": \"Plane Fit Error\", \"showarrow\": false, \"font\": {\"size\": 16}, \"xanchor\": \"center\", \"yanchor\": \"bottom\"}, {\"y\": 1.0, \"xref\": \"paper\", \"x\": 0.775, \"yref\": \"paper\", \"text\": \"Point Density\", \"showarrow\": false, \"font\": {\"size\": 16}, \"xanchor\": \"center\", \"yanchor\": \"bottom\"}]}, {\"showLink\": true, \"linkText\": \"Export to plot.ly\"})});</script>"
      ]
     },
     "metadata": {},
     "output_type": "display_data"
    }
   ],
   "source": [
    "plotPlaneData(pcDataNear02)"
   ]
  }
 ],
 "metadata": {
  "kernelspec": {
   "display_name": "Python 3",
   "language": "python",
   "name": "python3"
  },
  "language_info": {
   "codemirror_mode": {
    "name": "ipython",
    "version": 3
   },
   "file_extension": ".py",
   "mimetype": "text/x-python",
   "name": "python",
   "nbconvert_exporter": "python",
   "pygments_lexer": "ipython3",
   "version": "3.6.5"
  }
 },
 "nbformat": 4,
 "nbformat_minor": 2
}
